{
  "nbformat": 4,
  "nbformat_minor": 0,
  "metadata": {
    "colab": {
      "provenance": []
    },
    "kernelspec": {
      "name": "python3",
      "display_name": "Python 3"
    },
    "language_info": {
      "name": "python"
    }
  },
  "cells": [
    {
      "cell_type": "markdown",
      "source": [
        "### Importing Dataset and Libraries\n"
      ],
      "metadata": {
        "id": "DuVXxxklwDfN"
      }
    },
    {
      "cell_type": "markdown",
      "source": [
        "\n",
        "\n",
        "*   Use the following link to download the dataset named \"credit_card_default_df.xlsx\" and the SVM Library \"svm_utils.py\" \n",
        "*  Link - https://drive.google.com/drive/folders/1BlV5XcKQq6_ytRDAVVZobwGsqswNpr82?usp=share_link\n",
        "\n",
        "*   If using Colab, please upload svm_utils.py file in the sidebar and the dataset in the Loading Dataset section of Notebook.\n",
        "*   If using Jupyter, please copy the downloaded files to the same folder as the python file and comment out the Loading Dataset section\n",
        "\n",
        "\n",
        "\n",
        "\n",
        "\n"
      ],
      "metadata": {
        "id": "NuDohDGFXHUB"
      }
    },
    {
      "cell_type": "code",
      "execution_count": null,
      "metadata": {
        "id": "Ghqf9ZZuvrYY",
        "colab": {
          "base_uri": "https://localhost:8080/"
        },
        "outputId": "99201ba6-7c9f-45b2-bbcd-68eda26ffdc7"
      },
      "outputs": [
        {
          "output_type": "stream",
          "name": "stdout",
          "text": [
            "Looking in indexes: https://pypi.org/simple, https://us-python.pkg.dev/colab-wheels/public/simple/\n",
            "Requirement already satisfied: xlrd==1.2.0 in /usr/local/lib/python3.8/dist-packages (1.2.0)\n"
          ]
        }
      ],
      "source": [
        "#@title Libraries\n",
        "!pip install xlrd=='1.2.0'\n",
        "import pandas as pd\n",
        "import numpy as np\n",
        "import seaborn as sns\n",
        "import matplotlib.pyplot as plt\n",
        "from sklearn.model_selection import train_test_split\n",
        "from tqdm import tqdm\n",
        "import seaborn as sns\n",
        "from scipy.stats import norm\n",
        "import dataclasses as dataclasses\n",
        "from dataclasses import dataclass\n",
        "import math\n",
        "from mpl_toolkits.mplot3d import Axes3D\n",
        "from scipy import optimize\n",
        "from numpy.matrixlib.defmatrix import concatenate\n",
        "from scipy import optimize\n",
        "from svm_utils import *\n",
        "from sklearn import metrics\n",
        "from scipy.stats import norm\n",
        "from pandas.core.common import random_state\n",
        "from keras.models import Sequential\n",
        "from keras.layers import Dense"
      ]
    },
    {
      "cell_type": "markdown",
      "source": [
        "### Loading Dataset"
      ],
      "metadata": {
        "id": "EKDABjskwPtn"
      }
    },
    {
      "cell_type": "code",
      "source": [
        "#Comment out this if using Jupyter\n",
        "#OR you can upload on sidebar and hit \"cancel upload\" as well\n",
        "from google.colab import files\n",
        "file = files.upload()\n",
        "df = pd.read_excel(\"credit_card_default_df.xlsx\")\n",
        "df.head()"
      ],
      "metadata": {
        "colab": {
          "base_uri": "https://localhost:8080/",
          "height": 336
        },
        "id": "QhZxlsaGwUj3",
        "outputId": "249285ab-9cda-4b91-863c-838c91efec0b"
      },
      "execution_count": null,
      "outputs": [
        {
          "output_type": "display_data",
          "data": {
            "text/plain": [
              "<IPython.core.display.HTML object>"
            ],
            "text/html": [
              "\n",
              "     <input type=\"file\" id=\"files-d27f56c4-9694-4a92-a9c1-3b27a7617254\" name=\"files[]\" multiple disabled\n",
              "        style=\"border:none\" />\n",
              "     <output id=\"result-d27f56c4-9694-4a92-a9c1-3b27a7617254\">\n",
              "      Upload widget is only available when the cell has been executed in the\n",
              "      current browser session. Please rerun this cell to enable.\n",
              "      </output>\n",
              "      <script>// Copyright 2017 Google LLC\n",
              "//\n",
              "// Licensed under the Apache License, Version 2.0 (the \"License\");\n",
              "// you may not use this file except in compliance with the License.\n",
              "// You may obtain a copy of the License at\n",
              "//\n",
              "//      http://www.apache.org/licenses/LICENSE-2.0\n",
              "//\n",
              "// Unless required by applicable law or agreed to in writing, software\n",
              "// distributed under the License is distributed on an \"AS IS\" BASIS,\n",
              "// WITHOUT WARRANTIES OR CONDITIONS OF ANY KIND, either express or implied.\n",
              "// See the License for the specific language governing permissions and\n",
              "// limitations under the License.\n",
              "\n",
              "/**\n",
              " * @fileoverview Helpers for google.colab Python module.\n",
              " */\n",
              "(function(scope) {\n",
              "function span(text, styleAttributes = {}) {\n",
              "  const element = document.createElement('span');\n",
              "  element.textContent = text;\n",
              "  for (const key of Object.keys(styleAttributes)) {\n",
              "    element.style[key] = styleAttributes[key];\n",
              "  }\n",
              "  return element;\n",
              "}\n",
              "\n",
              "// Max number of bytes which will be uploaded at a time.\n",
              "const MAX_PAYLOAD_SIZE = 100 * 1024;\n",
              "\n",
              "function _uploadFiles(inputId, outputId) {\n",
              "  const steps = uploadFilesStep(inputId, outputId);\n",
              "  const outputElement = document.getElementById(outputId);\n",
              "  // Cache steps on the outputElement to make it available for the next call\n",
              "  // to uploadFilesContinue from Python.\n",
              "  outputElement.steps = steps;\n",
              "\n",
              "  return _uploadFilesContinue(outputId);\n",
              "}\n",
              "\n",
              "// This is roughly an async generator (not supported in the browser yet),\n",
              "// where there are multiple asynchronous steps and the Python side is going\n",
              "// to poll for completion of each step.\n",
              "// This uses a Promise to block the python side on completion of each step,\n",
              "// then passes the result of the previous step as the input to the next step.\n",
              "function _uploadFilesContinue(outputId) {\n",
              "  const outputElement = document.getElementById(outputId);\n",
              "  const steps = outputElement.steps;\n",
              "\n",
              "  const next = steps.next(outputElement.lastPromiseValue);\n",
              "  return Promise.resolve(next.value.promise).then((value) => {\n",
              "    // Cache the last promise value to make it available to the next\n",
              "    // step of the generator.\n",
              "    outputElement.lastPromiseValue = value;\n",
              "    return next.value.response;\n",
              "  });\n",
              "}\n",
              "\n",
              "/**\n",
              " * Generator function which is called between each async step of the upload\n",
              " * process.\n",
              " * @param {string} inputId Element ID of the input file picker element.\n",
              " * @param {string} outputId Element ID of the output display.\n",
              " * @return {!Iterable<!Object>} Iterable of next steps.\n",
              " */\n",
              "function* uploadFilesStep(inputId, outputId) {\n",
              "  const inputElement = document.getElementById(inputId);\n",
              "  inputElement.disabled = false;\n",
              "\n",
              "  const outputElement = document.getElementById(outputId);\n",
              "  outputElement.innerHTML = '';\n",
              "\n",
              "  const pickedPromise = new Promise((resolve) => {\n",
              "    inputElement.addEventListener('change', (e) => {\n",
              "      resolve(e.target.files);\n",
              "    });\n",
              "  });\n",
              "\n",
              "  const cancel = document.createElement('button');\n",
              "  inputElement.parentElement.appendChild(cancel);\n",
              "  cancel.textContent = 'Cancel upload';\n",
              "  const cancelPromise = new Promise((resolve) => {\n",
              "    cancel.onclick = () => {\n",
              "      resolve(null);\n",
              "    };\n",
              "  });\n",
              "\n",
              "  // Wait for the user to pick the files.\n",
              "  const files = yield {\n",
              "    promise: Promise.race([pickedPromise, cancelPromise]),\n",
              "    response: {\n",
              "      action: 'starting',\n",
              "    }\n",
              "  };\n",
              "\n",
              "  cancel.remove();\n",
              "\n",
              "  // Disable the input element since further picks are not allowed.\n",
              "  inputElement.disabled = true;\n",
              "\n",
              "  if (!files) {\n",
              "    return {\n",
              "      response: {\n",
              "        action: 'complete',\n",
              "      }\n",
              "    };\n",
              "  }\n",
              "\n",
              "  for (const file of files) {\n",
              "    const li = document.createElement('li');\n",
              "    li.append(span(file.name, {fontWeight: 'bold'}));\n",
              "    li.append(span(\n",
              "        `(${file.type || 'n/a'}) - ${file.size} bytes, ` +\n",
              "        `last modified: ${\n",
              "            file.lastModifiedDate ? file.lastModifiedDate.toLocaleDateString() :\n",
              "                                    'n/a'} - `));\n",
              "    const percent = span('0% done');\n",
              "    li.appendChild(percent);\n",
              "\n",
              "    outputElement.appendChild(li);\n",
              "\n",
              "    const fileDataPromise = new Promise((resolve) => {\n",
              "      const reader = new FileReader();\n",
              "      reader.onload = (e) => {\n",
              "        resolve(e.target.result);\n",
              "      };\n",
              "      reader.readAsArrayBuffer(file);\n",
              "    });\n",
              "    // Wait for the data to be ready.\n",
              "    let fileData = yield {\n",
              "      promise: fileDataPromise,\n",
              "      response: {\n",
              "        action: 'continue',\n",
              "      }\n",
              "    };\n",
              "\n",
              "    // Use a chunked sending to avoid message size limits. See b/62115660.\n",
              "    let position = 0;\n",
              "    do {\n",
              "      const length = Math.min(fileData.byteLength - position, MAX_PAYLOAD_SIZE);\n",
              "      const chunk = new Uint8Array(fileData, position, length);\n",
              "      position += length;\n",
              "\n",
              "      const base64 = btoa(String.fromCharCode.apply(null, chunk));\n",
              "      yield {\n",
              "        response: {\n",
              "          action: 'append',\n",
              "          file: file.name,\n",
              "          data: base64,\n",
              "        },\n",
              "      };\n",
              "\n",
              "      let percentDone = fileData.byteLength === 0 ?\n",
              "          100 :\n",
              "          Math.round((position / fileData.byteLength) * 100);\n",
              "      percent.textContent = `${percentDone}% done`;\n",
              "\n",
              "    } while (position < fileData.byteLength);\n",
              "  }\n",
              "\n",
              "  // All done.\n",
              "  yield {\n",
              "    response: {\n",
              "      action: 'complete',\n",
              "    }\n",
              "  };\n",
              "}\n",
              "\n",
              "scope.google = scope.google || {};\n",
              "scope.google.colab = scope.google.colab || {};\n",
              "scope.google.colab._files = {\n",
              "  _uploadFiles,\n",
              "  _uploadFilesContinue,\n",
              "};\n",
              "})(self);\n",
              "</script> "
            ]
          },
          "metadata": {}
        },
        {
          "output_type": "stream",
          "name": "stdout",
          "text": [
            "Saving credit_card_default_df.xlsx to credit_card_default_df (2).xlsx\n"
          ]
        },
        {
          "output_type": "execute_result",
          "data": {
            "text/plain": [
              "   ID  LIMIT_BAL  SEX  EDUCATION  MARRIAGE  AGE  PAY_0  PAY_2  PAY_3  PAY_4  \\\n",
              "0   1      20000    2          2         1   24      2      2     -1     -1   \n",
              "1   2     120000    2          2         2   26     -1      2      0      0   \n",
              "2   3      90000    2          2         2   34      0      0      0      0   \n",
              "3   4      50000    2          2         1   37      0      0      0      0   \n",
              "4   5      50000    1          2         1   57     -1      0     -1      0   \n",
              "\n",
              "   ...  BILL_AMT4  BILL_AMT5  BILL_AMT6  PAY_AMT1  PAY_AMT2  PAY_AMT3  \\\n",
              "0  ...          0          0          0         0       689         0   \n",
              "1  ...       3272       3455       3261         0      1000      1000   \n",
              "2  ...      14331      14948      15549      1518      1500      1000   \n",
              "3  ...      28314      28959      29547      2000      2019      1200   \n",
              "4  ...      20940      19146      19131      2000     36681     10000   \n",
              "\n",
              "   PAY_AMT4  PAY_AMT5  PAY_AMT6  Target  \n",
              "0         0         0         0       1  \n",
              "1      1000         0      2000       1  \n",
              "2      1000      1000      5000       0  \n",
              "3      1100      1069      1000       0  \n",
              "4      9000       689       679       0  \n",
              "\n",
              "[5 rows x 25 columns]"
            ],
            "text/html": [
              "\n",
              "  <div id=\"df-b52a538a-5d64-4f63-bf7d-ae050b9d1342\">\n",
              "    <div class=\"colab-df-container\">\n",
              "      <div>\n",
              "<style scoped>\n",
              "    .dataframe tbody tr th:only-of-type {\n",
              "        vertical-align: middle;\n",
              "    }\n",
              "\n",
              "    .dataframe tbody tr th {\n",
              "        vertical-align: top;\n",
              "    }\n",
              "\n",
              "    .dataframe thead th {\n",
              "        text-align: right;\n",
              "    }\n",
              "</style>\n",
              "<table border=\"1\" class=\"dataframe\">\n",
              "  <thead>\n",
              "    <tr style=\"text-align: right;\">\n",
              "      <th></th>\n",
              "      <th>ID</th>\n",
              "      <th>LIMIT_BAL</th>\n",
              "      <th>SEX</th>\n",
              "      <th>EDUCATION</th>\n",
              "      <th>MARRIAGE</th>\n",
              "      <th>AGE</th>\n",
              "      <th>PAY_0</th>\n",
              "      <th>PAY_2</th>\n",
              "      <th>PAY_3</th>\n",
              "      <th>PAY_4</th>\n",
              "      <th>...</th>\n",
              "      <th>BILL_AMT4</th>\n",
              "      <th>BILL_AMT5</th>\n",
              "      <th>BILL_AMT6</th>\n",
              "      <th>PAY_AMT1</th>\n",
              "      <th>PAY_AMT2</th>\n",
              "      <th>PAY_AMT3</th>\n",
              "      <th>PAY_AMT4</th>\n",
              "      <th>PAY_AMT5</th>\n",
              "      <th>PAY_AMT6</th>\n",
              "      <th>Target</th>\n",
              "    </tr>\n",
              "  </thead>\n",
              "  <tbody>\n",
              "    <tr>\n",
              "      <th>0</th>\n",
              "      <td>1</td>\n",
              "      <td>20000</td>\n",
              "      <td>2</td>\n",
              "      <td>2</td>\n",
              "      <td>1</td>\n",
              "      <td>24</td>\n",
              "      <td>2</td>\n",
              "      <td>2</td>\n",
              "      <td>-1</td>\n",
              "      <td>-1</td>\n",
              "      <td>...</td>\n",
              "      <td>0</td>\n",
              "      <td>0</td>\n",
              "      <td>0</td>\n",
              "      <td>0</td>\n",
              "      <td>689</td>\n",
              "      <td>0</td>\n",
              "      <td>0</td>\n",
              "      <td>0</td>\n",
              "      <td>0</td>\n",
              "      <td>1</td>\n",
              "    </tr>\n",
              "    <tr>\n",
              "      <th>1</th>\n",
              "      <td>2</td>\n",
              "      <td>120000</td>\n",
              "      <td>2</td>\n",
              "      <td>2</td>\n",
              "      <td>2</td>\n",
              "      <td>26</td>\n",
              "      <td>-1</td>\n",
              "      <td>2</td>\n",
              "      <td>0</td>\n",
              "      <td>0</td>\n",
              "      <td>...</td>\n",
              "      <td>3272</td>\n",
              "      <td>3455</td>\n",
              "      <td>3261</td>\n",
              "      <td>0</td>\n",
              "      <td>1000</td>\n",
              "      <td>1000</td>\n",
              "      <td>1000</td>\n",
              "      <td>0</td>\n",
              "      <td>2000</td>\n",
              "      <td>1</td>\n",
              "    </tr>\n",
              "    <tr>\n",
              "      <th>2</th>\n",
              "      <td>3</td>\n",
              "      <td>90000</td>\n",
              "      <td>2</td>\n",
              "      <td>2</td>\n",
              "      <td>2</td>\n",
              "      <td>34</td>\n",
              "      <td>0</td>\n",
              "      <td>0</td>\n",
              "      <td>0</td>\n",
              "      <td>0</td>\n",
              "      <td>...</td>\n",
              "      <td>14331</td>\n",
              "      <td>14948</td>\n",
              "      <td>15549</td>\n",
              "      <td>1518</td>\n",
              "      <td>1500</td>\n",
              "      <td>1000</td>\n",
              "      <td>1000</td>\n",
              "      <td>1000</td>\n",
              "      <td>5000</td>\n",
              "      <td>0</td>\n",
              "    </tr>\n",
              "    <tr>\n",
              "      <th>3</th>\n",
              "      <td>4</td>\n",
              "      <td>50000</td>\n",
              "      <td>2</td>\n",
              "      <td>2</td>\n",
              "      <td>1</td>\n",
              "      <td>37</td>\n",
              "      <td>0</td>\n",
              "      <td>0</td>\n",
              "      <td>0</td>\n",
              "      <td>0</td>\n",
              "      <td>...</td>\n",
              "      <td>28314</td>\n",
              "      <td>28959</td>\n",
              "      <td>29547</td>\n",
              "      <td>2000</td>\n",
              "      <td>2019</td>\n",
              "      <td>1200</td>\n",
              "      <td>1100</td>\n",
              "      <td>1069</td>\n",
              "      <td>1000</td>\n",
              "      <td>0</td>\n",
              "    </tr>\n",
              "    <tr>\n",
              "      <th>4</th>\n",
              "      <td>5</td>\n",
              "      <td>50000</td>\n",
              "      <td>1</td>\n",
              "      <td>2</td>\n",
              "      <td>1</td>\n",
              "      <td>57</td>\n",
              "      <td>-1</td>\n",
              "      <td>0</td>\n",
              "      <td>-1</td>\n",
              "      <td>0</td>\n",
              "      <td>...</td>\n",
              "      <td>20940</td>\n",
              "      <td>19146</td>\n",
              "      <td>19131</td>\n",
              "      <td>2000</td>\n",
              "      <td>36681</td>\n",
              "      <td>10000</td>\n",
              "      <td>9000</td>\n",
              "      <td>689</td>\n",
              "      <td>679</td>\n",
              "      <td>0</td>\n",
              "    </tr>\n",
              "  </tbody>\n",
              "</table>\n",
              "<p>5 rows × 25 columns</p>\n",
              "</div>\n",
              "      <button class=\"colab-df-convert\" onclick=\"convertToInteractive('df-b52a538a-5d64-4f63-bf7d-ae050b9d1342')\"\n",
              "              title=\"Convert this dataframe to an interactive table.\"\n",
              "              style=\"display:none;\">\n",
              "        \n",
              "  <svg xmlns=\"http://www.w3.org/2000/svg\" height=\"24px\"viewBox=\"0 0 24 24\"\n",
              "       width=\"24px\">\n",
              "    <path d=\"M0 0h24v24H0V0z\" fill=\"none\"/>\n",
              "    <path d=\"M18.56 5.44l.94 2.06.94-2.06 2.06-.94-2.06-.94-.94-2.06-.94 2.06-2.06.94zm-11 1L8.5 8.5l.94-2.06 2.06-.94-2.06-.94L8.5 2.5l-.94 2.06-2.06.94zm10 10l.94 2.06.94-2.06 2.06-.94-2.06-.94-.94-2.06-.94 2.06-2.06.94z\"/><path d=\"M17.41 7.96l-1.37-1.37c-.4-.4-.92-.59-1.43-.59-.52 0-1.04.2-1.43.59L10.3 9.45l-7.72 7.72c-.78.78-.78 2.05 0 2.83L4 21.41c.39.39.9.59 1.41.59.51 0 1.02-.2 1.41-.59l7.78-7.78 2.81-2.81c.8-.78.8-2.07 0-2.86zM5.41 20L4 18.59l7.72-7.72 1.47 1.35L5.41 20z\"/>\n",
              "  </svg>\n",
              "      </button>\n",
              "      \n",
              "  <style>\n",
              "    .colab-df-container {\n",
              "      display:flex;\n",
              "      flex-wrap:wrap;\n",
              "      gap: 12px;\n",
              "    }\n",
              "\n",
              "    .colab-df-convert {\n",
              "      background-color: #E8F0FE;\n",
              "      border: none;\n",
              "      border-radius: 50%;\n",
              "      cursor: pointer;\n",
              "      display: none;\n",
              "      fill: #1967D2;\n",
              "      height: 32px;\n",
              "      padding: 0 0 0 0;\n",
              "      width: 32px;\n",
              "    }\n",
              "\n",
              "    .colab-df-convert:hover {\n",
              "      background-color: #E2EBFA;\n",
              "      box-shadow: 0px 1px 2px rgba(60, 64, 67, 0.3), 0px 1px 3px 1px rgba(60, 64, 67, 0.15);\n",
              "      fill: #174EA6;\n",
              "    }\n",
              "\n",
              "    [theme=dark] .colab-df-convert {\n",
              "      background-color: #3B4455;\n",
              "      fill: #D2E3FC;\n",
              "    }\n",
              "\n",
              "    [theme=dark] .colab-df-convert:hover {\n",
              "      background-color: #434B5C;\n",
              "      box-shadow: 0px 1px 3px 1px rgba(0, 0, 0, 0.15);\n",
              "      filter: drop-shadow(0px 1px 2px rgba(0, 0, 0, 0.3));\n",
              "      fill: #FFFFFF;\n",
              "    }\n",
              "  </style>\n",
              "\n",
              "      <script>\n",
              "        const buttonEl =\n",
              "          document.querySelector('#df-b52a538a-5d64-4f63-bf7d-ae050b9d1342 button.colab-df-convert');\n",
              "        buttonEl.style.display =\n",
              "          google.colab.kernel.accessAllowed ? 'block' : 'none';\n",
              "\n",
              "        async function convertToInteractive(key) {\n",
              "          const element = document.querySelector('#df-b52a538a-5d64-4f63-bf7d-ae050b9d1342');\n",
              "          const dataTable =\n",
              "            await google.colab.kernel.invokeFunction('convertToInteractive',\n",
              "                                                     [key], {});\n",
              "          if (!dataTable) return;\n",
              "\n",
              "          const docLinkHtml = 'Like what you see? Visit the ' +\n",
              "            '<a target=\"_blank\" href=https://colab.research.google.com/notebooks/data_table.ipynb>data table notebook</a>'\n",
              "            + ' to learn more about interactive tables.';\n",
              "          element.innerHTML = '';\n",
              "          dataTable['output_type'] = 'display_data';\n",
              "          await google.colab.output.renderOutput(dataTable, element);\n",
              "          const docLink = document.createElement('div');\n",
              "          docLink.innerHTML = docLinkHtml;\n",
              "          element.appendChild(docLink);\n",
              "        }\n",
              "      </script>\n",
              "    </div>\n",
              "  </div>\n",
              "  "
            ]
          },
          "metadata": {},
          "execution_count": 30
        }
      ]
    },
    {
      "cell_type": "markdown",
      "source": [
        "# Exploratory Data Analysis"
      ],
      "metadata": {
        "id": "hbTlaSMf0q7h"
      }
    },
    {
      "cell_type": "code",
      "source": [
        "# Checking for null values\n",
        "df.isnull().sum()"
      ],
      "metadata": {
        "colab": {
          "base_uri": "https://localhost:8080/"
        },
        "id": "PCFikc5K0wmP",
        "outputId": "3c6a6b17-177d-490f-8d8f-e3a701c1d752"
      },
      "execution_count": null,
      "outputs": [
        {
          "output_type": "execute_result",
          "data": {
            "text/plain": [
              "ID           0\n",
              "LIMIT_BAL    0\n",
              "SEX          0\n",
              "EDUCATION    0\n",
              "MARRIAGE     0\n",
              "AGE          0\n",
              "PAY_0        0\n",
              "PAY_2        0\n",
              "PAY_3        0\n",
              "PAY_4        0\n",
              "PAY_5        0\n",
              "PAY_6        0\n",
              "BILL_AMT1    0\n",
              "BILL_AMT2    0\n",
              "BILL_AMT3    0\n",
              "BILL_AMT4    0\n",
              "BILL_AMT5    0\n",
              "BILL_AMT6    0\n",
              "PAY_AMT1     0\n",
              "PAY_AMT2     0\n",
              "PAY_AMT3     0\n",
              "PAY_AMT4     0\n",
              "PAY_AMT5     0\n",
              "PAY_AMT6     0\n",
              "Target       0\n",
              "dtype: int64"
            ]
          },
          "metadata": {},
          "execution_count": 31
        }
      ]
    },
    {
      "cell_type": "markdown",
      "source": [
        "The dataset contains no null values."
      ],
      "metadata": {
        "id": "78UP6395aepG"
      }
    },
    {
      "cell_type": "code",
      "source": [
        "# Proportion of target variable in the dataset\n",
        "\n",
        "df['Target'].map({0:'No', 1:'Yes'}).value_counts().plot(kind='pie', autopct='%1.1f%%', figsize=(10,8), colors = ['#578549', '#d15454'])\n",
        "plt.title('Default Payment Next Month')\n",
        "plt.show()"
      ],
      "metadata": {
        "colab": {
          "base_uri": "https://localhost:8080/",
          "height": 482
        },
        "id": "2sCLThcXUZOs",
        "outputId": "ecdae1e9-ab37-4f03-ab54-b127967efb2e"
      },
      "execution_count": null,
      "outputs": [
        {
          "output_type": "display_data",
          "data": {
            "text/plain": [
              "<Figure size 720x576 with 1 Axes>"
            ],
            "image/png": "[encoded data removed]"
          },
          "metadata": {}
        }
      ]
    },
    {
      "cell_type": "markdown",
      "source": [
        "The dataset is imbalanced. "
      ],
      "metadata": {
        "id": "OPwuV8Oda9YP"
      }
    },
    {
      "cell_type": "code",
      "source": [
        "# Distribution of credit card balance in both default and not default cases\n",
        "plt.figure(figsize=(20,15))\n",
        "sns.distplot(df['LIMIT_BAL'].loc[df['Target'] == 1], color='red')\n",
        "sns.distplot(df['LIMIT_BAL'].loc[df['Target'] == 0], color='green')\n",
        "plt.title('Distribution of Credit card balance limit')\n",
        "plt.show()"
      ],
      "metadata": {
        "colab": {
          "base_uri": "https://localhost:8080/",
          "height": 983
        },
        "id": "HQmX26EQUkJM",
        "outputId": "f13f4f0b-7da4-46e0-8dff-8ee79c014488"
      },
      "execution_count": null,
      "outputs": [
        {
          "output_type": "stream",
          "name": "stderr",
          "text": [
            "/usr/local/lib/python3.8/dist-packages/seaborn/distributions.py:2619: FutureWarning: `distplot` is a deprecated function and will be removed in a future version. Please adapt your code to use either `displot` (a figure-level function with similar flexibility) or `histplot` (an axes-level function for histograms).\n",
            "  warnings.warn(msg, FutureWarning)\n",
            "/usr/local/lib/python3.8/dist-packages/seaborn/distributions.py:2619: FutureWarning: `distplot` is a deprecated function and will be removed in a future version. Please adapt your code to use either `displot` (a figure-level function with similar flexibility) or `histplot` (an axes-level function for histograms).\n",
            "  warnings.warn(msg, FutureWarning)\n"
          ]
        },
        {
          "output_type": "display_data",
          "data": {
            "text/plain": [
              "<Figure size 1440x1080 with 1 Axes>"
            ],
            "image/png": "[encoded data removed]"
          },
          "metadata": {
            "needs_background": "light"
          }
        }
      ]
    },
    {
      "cell_type": "markdown",
      "source": [
        "In the chart, the lower the credit limit the higher the cases of defaulting payment next month. We know that the credit score is affected by default payments which results in banks giving less credit limit tp those clients. Moreover, higher credit limit is offered to customers with good payment history, therefore chances of them defaulting a payment is lower.\n",
        "It can also be noted that this data is skewed."
      ],
      "metadata": {
        "id": "itjdAqjdbQC-"
      }
    },
    {
      "cell_type": "code",
      "source": [
        "# Gender distribution of default type\n",
        "df_group = df.groupby(['SEX', 'Target']).size().reset_index(name='counts')\n",
        "df_group['Target'] = df_group['Target'].map({0:'No', 1:'Yes'})\n",
        "df_group['SEX'] = df_group['SEX'].map({1:'Male', 2:'Female'})\n",
        "df_group = df_group.pivot_table(index=['SEX'], \n",
        "                                columns='Target', \n",
        "                                values='counts', aggfunc='first')\n",
        "df_group.plot(kind='bar', stacked=True, figsize=(20,10), color = ['#578549', '#d15454'])"
      ],
      "metadata": {
        "colab": {
          "base_uri": "https://localhost:8080/",
          "height": 649
        },
        "id": "BTs7lMDrVAIL",
        "outputId": "113bc40e-56f9-4641-c332-7577956dc88f"
      },
      "execution_count": null,
      "outputs": [
        {
          "output_type": "execute_result",
          "data": {
            "text/plain": [
              "<matplotlib.axes._subplots.AxesSubplot at 0x7f4f52c9e400>"
            ]
          },
          "metadata": {},
          "execution_count": 34
        },
        {
          "output_type": "display_data",
          "data": {
            "text/plain": [
              "<Figure size 1440x720 with 1 Axes>"
            ],
            "image/png": "[encoded data removed]"
          },
          "metadata": {
            "needs_background": "light"
          }
        }
      ]
    },
    {
      "cell_type": "markdown",
      "source": [
        "There are more females in this data but the percentage of females who default on a payment is less than males by a small percentage. "
      ],
      "metadata": {
        "id": "faw0KFKmbY8R"
      }
    },
    {
      "cell_type": "code",
      "source": [
        "# Default payment distribution over age\n",
        "df_group = df.groupby(['AGE', 'Target']).size().reset_index(name='counts')\n",
        "df_group['Target'] = df_group['Target'].map({0:'No', 1:'Yes'})\n",
        "df_group = df_group.pivot_table(index=['AGE'], \n",
        "                                columns='Target', \n",
        "                                values='counts', aggfunc='first')\n",
        "df_group.plot(kind='bar', figsize=(20,10), color = ['#578549', '#d15454'])"
      ],
      "metadata": {
        "colab": {
          "base_uri": "https://localhost:8080/",
          "height": 625
        },
        "id": "KJ0luF__VTqs",
        "outputId": "ffa5a40f-bd0b-4952-b91e-6c9b10ad7d48"
      },
      "execution_count": null,
      "outputs": [
        {
          "output_type": "execute_result",
          "data": {
            "text/plain": [
              "<matplotlib.axes._subplots.AxesSubplot at 0x7f4f5289cf10>"
            ]
          },
          "metadata": {},
          "execution_count": 35
        },
        {
          "output_type": "display_data",
          "data": {
            "text/plain": [
              "<Figure size 1440x720 with 1 Axes>"
            ],
            "image/png": "[encoded data removed]"
          },
          "metadata": {
            "needs_background": "light"
          }
        }
      ]
    },
    {
      "cell_type": "markdown",
      "source": [
        "People in their early 20's and early 30's tend to more likely default on a payment."
      ],
      "metadata": {
        "id": "sGzN-SvDbhKZ"
      }
    },
    {
      "cell_type": "code",
      "source": [
        "# Proportion of default payment with respect to marital status\n",
        "df_group = df.groupby(['MARRIAGE', \n",
        "                       'Target']).size().reset_index(name='counts')\n",
        "df_group['Target'] = df_group['Target'].map({0:'No', 1:'Yes'})\n",
        "df_group['MARRIAGE'] = df_group['MARRIAGE'].map({1:'Married', \n",
        "                                                 2:'Single', \n",
        "                                                 3:'Divorced', 0:'Other'})\n",
        "df_group = df_group.pivot_table(index=['MARRIAGE'], \n",
        "                                columns='Target', \n",
        "                                values='counts', aggfunc='first')\n",
        "\n",
        "df_group.plot(kind='bar', figsize=(8,8), color = ['#578549', '#d15454'])"
      ],
      "metadata": {
        "colab": {
          "base_uri": "https://localhost:8080/",
          "height": 548
        },
        "id": "7eDwOUL6VvDC",
        "outputId": "03b76742-2d6e-4991-f495-7ddc004b5644"
      },
      "execution_count": null,
      "outputs": [
        {
          "output_type": "execute_result",
          "data": {
            "text/plain": [
              "<matplotlib.axes._subplots.AxesSubplot at 0x7f4f52c4f850>"
            ]
          },
          "metadata": {},
          "execution_count": 36
        },
        {
          "output_type": "display_data",
          "data": {
            "text/plain": [
              "<Figure size 576x576 with 1 Axes>"
            ],
            "image/png": "[encoded data removed]"
          },
          "metadata": {
            "needs_background": "light"
          }
        }
      ]
    },
    {
      "cell_type": "markdown",
      "source": [
        "People who are married tend to default on a payment more which corresponds to more responsibility faced by married people and more commitments than people who are single."
      ],
      "metadata": {
        "id": "vtyW-ZP-bswy"
      }
    },
    {
      "cell_type": "code",
      "source": [
        "# Distribution of default payment with respect to education level\n",
        "df_group = df.groupby(['EDUCATION', 'Target']).size().reset_index(name='counts')\n",
        "df_group['Target'] = df_group['Target'].map({0:'No', 1:'Yes'})\n",
        "df_group['EDUCATION'] = df_group['EDUCATION'].map({1:'Graduate School', \n",
        "                                                   2:'University', \n",
        "                                                   3:'High School', \n",
        "                                                   4:'Other', 5:'Other', \n",
        "                                                   6:'Other'})\n",
        "df_group = df_group.pivot_table(index=['EDUCATION'], \n",
        "                                columns='Target', \n",
        "                                values='counts', aggfunc='first')\n",
        "df_group.plot(kind='bar', figsize=(8,8), color = ['#578549', '#d15454'])"
      ],
      "metadata": {
        "colab": {
          "base_uri": "https://localhost:8080/",
          "height": 587
        },
        "id": "b1-KuN1-WCZX",
        "outputId": "2b2055ec-9977-4c16-957f-b700dd3402ca"
      },
      "execution_count": null,
      "outputs": [
        {
          "output_type": "execute_result",
          "data": {
            "text/plain": [
              "<matplotlib.axes._subplots.AxesSubplot at 0x7f4f520a3730>"
            ]
          },
          "metadata": {},
          "execution_count": 37
        },
        {
          "output_type": "display_data",
          "data": {
            "text/plain": [
              "<Figure size 576x576 with 1 Axes>"
            ],
            "image/png": "[encoded data removed]"
          },
          "metadata": {
            "needs_background": "light"
          }
        }
      ]
    },
    {
      "cell_type": "markdown",
      "source": [
        "The proportion of default payment among high high students is more than that of people who have attended university and graduate school."
      ],
      "metadata": {
        "id": "Pa__swf9b9qz"
      }
    },
    {
      "cell_type": "code",
      "source": [
        "# Boxplot of Bill Amount and Pay Amount\n",
        "plt.figure(figsize=(20,10))\n",
        "cols = ['BILL_AMT1', 'BILL_AMT2',\n",
        "       'BILL_AMT3', 'BILL_AMT4', 'BILL_AMT5', 'BILL_AMT6', 'PAY_AMT1', 'PAY_AMT2', 'PAY_AMT3', 'PAY_AMT4', 'PAY_AMT5', 'PAY_AMT6']\n",
        "sns.boxplot(data=df[cols])"
      ],
      "metadata": {
        "colab": {
          "base_uri": "https://localhost:8080/",
          "height": 620
        },
        "id": "IMCZdOImWcg9",
        "outputId": "babd43cb-0dc0-4f49-999f-e56204729bce"
      },
      "execution_count": null,
      "outputs": [
        {
          "output_type": "execute_result",
          "data": {
            "text/plain": [
              "<matplotlib.axes._subplots.AxesSubplot at 0x7f4f52095b80>"
            ]
          },
          "metadata": {},
          "execution_count": 38
        },
        {
          "output_type": "display_data",
          "data": {
            "text/plain": [
              "<Figure size 1440x720 with 1 Axes>"
            ],
            "image/png": "[encoded data removed]"
          },
          "metadata": {
            "needs_background": "light"
          }
        }
      ]
    },
    {
      "cell_type": "markdown",
      "source": [
        "There are many outliers in these features but due to lack of domain knowledge of the dataset we are not changing or removing the values."
      ],
      "metadata": {
        "id": "KhH5HWtHcKfz"
      }
    },
    {
      "cell_type": "code",
      "source": [
        "# Correlation between different features\n",
        "corr = df.corr()\n",
        "plt.figure(figsize=(20,10))\n",
        "sns.heatmap(round(corr,2), annot=True, cmap='RdYlGn')"
      ],
      "metadata": {
        "colab": {
          "base_uri": "https://localhost:8080/",
          "height": 661
        },
        "id": "9RVqySI-cOZd",
        "outputId": "790527a7-86cb-4640-9cf4-51d456b8bde8"
      },
      "execution_count": null,
      "outputs": [
        {
          "output_type": "execute_result",
          "data": {
            "text/plain": [
              "<matplotlib.axes._subplots.AxesSubplot at 0x7f4f520a3e20>"
            ]
          },
          "metadata": {},
          "execution_count": 39
        },
        {
          "output_type": "display_data",
          "data": {
            "text/plain": [
              "<Figure size 1440x720 with 2 Axes>"
            ],
            "image/png": "[encoded data removed]"
          },
          "metadata": {
            "needs_background": "light"
          }
        }
      ]
    },
    {
      "cell_type": "markdown",
      "source": [
        "Each bill amount is highly correlated with the bill amount for its consecutive month. "
      ],
      "metadata": {
        "id": "D9saBuiPcThY"
      }
    },
    {
      "cell_type": "markdown",
      "source": [
        "# Data Cleaning and Pre-processing"
      ],
      "metadata": {
        "id": "PwQsfZdgoVuf"
      }
    },
    {
      "cell_type": "code",
      "source": [
        "df = df.drop(columns = ['ID'])\n",
        "df.head()"
      ],
      "metadata": {
        "colab": {
          "base_uri": "https://localhost:8080/",
          "height": 279
        },
        "id": "lTec726TjW_P",
        "outputId": "8ae40ab9-b0c1-4f74-a1b0-018df0f58ea6"
      },
      "execution_count": null,
      "outputs": [
        {
          "output_type": "execute_result",
          "data": {
            "text/plain": [
              "   LIMIT_BAL  SEX  EDUCATION  MARRIAGE  AGE  PAY_0  PAY_2  PAY_3  PAY_4  \\\n",
              "0      20000    2          2         1   24      2      2     -1     -1   \n",
              "1     120000    2          2         2   26     -1      2      0      0   \n",
              "2      90000    2          2         2   34      0      0      0      0   \n",
              "3      50000    2          2         1   37      0      0      0      0   \n",
              "4      50000    1          2         1   57     -1      0     -1      0   \n",
              "\n",
              "   PAY_5  ...  BILL_AMT4  BILL_AMT5  BILL_AMT6  PAY_AMT1  PAY_AMT2  PAY_AMT3  \\\n",
              "0     -2  ...          0          0          0         0       689         0   \n",
              "1      0  ...       3272       3455       3261         0      1000      1000   \n",
              "2      0  ...      14331      14948      15549      1518      1500      1000   \n",
              "3      0  ...      28314      28959      29547      2000      2019      1200   \n",
              "4      0  ...      20940      19146      19131      2000     36681     10000   \n",
              "\n",
              "   PAY_AMT4  PAY_AMT5  PAY_AMT6  Target  \n",
              "0         0         0         0       1  \n",
              "1      1000         0      2000       1  \n",
              "2      1000      1000      5000       0  \n",
              "3      1100      1069      1000       0  \n",
              "4      9000       689       679       0  \n",
              "\n",
              "[5 rows x 24 columns]"
            ],
            "text/html": [
              "\n",
              "  <div id=\"df-53dc15ea-bbde-45b5-86fd-a9fe6fa88352\">\n",
              "    <div class=\"colab-df-container\">\n",
              "      <div>\n",
              "<style scoped>\n",
              "    .dataframe tbody tr th:only-of-type {\n",
              "        vertical-align: middle;\n",
              "    }\n",
              "\n",
              "    .dataframe tbody tr th {\n",
              "        vertical-align: top;\n",
              "    }\n",
              "\n",
              "    .dataframe thead th {\n",
              "        text-align: right;\n",
              "    }\n",
              "</style>\n",
              "<table border=\"1\" class=\"dataframe\">\n",
              "  <thead>\n",
              "    <tr style=\"text-align: right;\">\n",
              "      <th></th>\n",
              "      <th>LIMIT_BAL</th>\n",
              "      <th>SEX</th>\n",
              "      <th>EDUCATION</th>\n",
              "      <th>MARRIAGE</th>\n",
              "      <th>AGE</th>\n",
              "      <th>PAY_0</th>\n",
              "      <th>PAY_2</th>\n",
              "      <th>PAY_3</th>\n",
              "      <th>PAY_4</th>\n",
              "      <th>PAY_5</th>\n",
              "      <th>...</th>\n",
              "      <th>BILL_AMT4</th>\n",
              "      <th>BILL_AMT5</th>\n",
              "      <th>BILL_AMT6</th>\n",
              "      <th>PAY_AMT1</th>\n",
              "      <th>PAY_AMT2</th>\n",
              "      <th>PAY_AMT3</th>\n",
              "      <th>PAY_AMT4</th>\n",
              "      <th>PAY_AMT5</th>\n",
              "      <th>PAY_AMT6</th>\n",
              "      <th>Target</th>\n",
              "    </tr>\n",
              "  </thead>\n",
              "  <tbody>\n",
              "    <tr>\n",
              "      <th>0</th>\n",
              "      <td>20000</td>\n",
              "      <td>2</td>\n",
              "      <td>2</td>\n",
              "      <td>1</td>\n",
              "      <td>24</td>\n",
              "      <td>2</td>\n",
              "      <td>2</td>\n",
              "      <td>-1</td>\n",
              "      <td>-1</td>\n",
              "      <td>-2</td>\n",
              "      <td>...</td>\n",
              "      <td>0</td>\n",
              "      <td>0</td>\n",
              "      <td>0</td>\n",
              "      <td>0</td>\n",
              "      <td>689</td>\n",
              "      <td>0</td>\n",
              "      <td>0</td>\n",
              "      <td>0</td>\n",
              "      <td>0</td>\n",
              "      <td>1</td>\n",
              "    </tr>\n",
              "    <tr>\n",
              "      <th>1</th>\n",
              "      <td>120000</td>\n",
              "      <td>2</td>\n",
              "      <td>2</td>\n",
              "      <td>2</td>\n",
              "      <td>26</td>\n",
              "      <td>-1</td>\n",
              "      <td>2</td>\n",
              "      <td>0</td>\n",
              "      <td>0</td>\n",
              "      <td>0</td>\n",
              "      <td>...</td>\n",
              "      <td>3272</td>\n",
              "      <td>3455</td>\n",
              "      <td>3261</td>\n",
              "      <td>0</td>\n",
              "      <td>1000</td>\n",
              "      <td>1000</td>\n",
              "      <td>1000</td>\n",
              "      <td>0</td>\n",
              "      <td>2000</td>\n",
              "      <td>1</td>\n",
              "    </tr>\n",
              "    <tr>\n",
              "      <th>2</th>\n",
              "      <td>90000</td>\n",
              "      <td>2</td>\n",
              "      <td>2</td>\n",
              "      <td>2</td>\n",
              "      <td>34</td>\n",
              "      <td>0</td>\n",
              "      <td>0</td>\n",
              "      <td>0</td>\n",
              "      <td>0</td>\n",
              "      <td>0</td>\n",
              "      <td>...</td>\n",
              "      <td>14331</td>\n",
              "      <td>14948</td>\n",
              "      <td>15549</td>\n",
              "      <td>1518</td>\n",
              "      <td>1500</td>\n",
              "      <td>1000</td>\n",
              "      <td>1000</td>\n",
              "      <td>1000</td>\n",
              "      <td>5000</td>\n",
              "      <td>0</td>\n",
              "    </tr>\n",
              "    <tr>\n",
              "      <th>3</th>\n",
              "      <td>50000</td>\n",
              "      <td>2</td>\n",
              "      <td>2</td>\n",
              "      <td>1</td>\n",
              "      <td>37</td>\n",
              "      <td>0</td>\n",
              "      <td>0</td>\n",
              "      <td>0</td>\n",
              "      <td>0</td>\n",
              "      <td>0</td>\n",
              "      <td>...</td>\n",
              "      <td>28314</td>\n",
              "      <td>28959</td>\n",
              "      <td>29547</td>\n",
              "      <td>2000</td>\n",
              "      <td>2019</td>\n",
              "      <td>1200</td>\n",
              "      <td>1100</td>\n",
              "      <td>1069</td>\n",
              "      <td>1000</td>\n",
              "      <td>0</td>\n",
              "    </tr>\n",
              "    <tr>\n",
              "      <th>4</th>\n",
              "      <td>50000</td>\n",
              "      <td>1</td>\n",
              "      <td>2</td>\n",
              "      <td>1</td>\n",
              "      <td>57</td>\n",
              "      <td>-1</td>\n",
              "      <td>0</td>\n",
              "      <td>-1</td>\n",
              "      <td>0</td>\n",
              "      <td>0</td>\n",
              "      <td>...</td>\n",
              "      <td>20940</td>\n",
              "      <td>19146</td>\n",
              "      <td>19131</td>\n",
              "      <td>2000</td>\n",
              "      <td>36681</td>\n",
              "      <td>10000</td>\n",
              "      <td>9000</td>\n",
              "      <td>689</td>\n",
              "      <td>679</td>\n",
              "      <td>0</td>\n",
              "    </tr>\n",
              "  </tbody>\n",
              "</table>\n",
              "<p>5 rows × 24 columns</p>\n",
              "</div>\n",
              "      <button class=\"colab-df-convert\" onclick=\"convertToInteractive('df-53dc15ea-bbde-45b5-86fd-a9fe6fa88352')\"\n",
              "              title=\"Convert this dataframe to an interactive table.\"\n",
              "              style=\"display:none;\">\n",
              "        \n",
              "  <svg xmlns=\"http://www.w3.org/2000/svg\" height=\"24px\"viewBox=\"0 0 24 24\"\n",
              "       width=\"24px\">\n",
              "    <path d=\"M0 0h24v24H0V0z\" fill=\"none\"/>\n",
              "    <path d=\"M18.56 5.44l.94 2.06.94-2.06 2.06-.94-2.06-.94-.94-2.06-.94 2.06-2.06.94zm-11 1L8.5 8.5l.94-2.06 2.06-.94-2.06-.94L8.5 2.5l-.94 2.06-2.06.94zm10 10l.94 2.06.94-2.06 2.06-.94-2.06-.94-.94-2.06-.94 2.06-2.06.94z\"/><path d=\"M17.41 7.96l-1.37-1.37c-.4-.4-.92-.59-1.43-.59-.52 0-1.04.2-1.43.59L10.3 9.45l-7.72 7.72c-.78.78-.78 2.05 0 2.83L4 21.41c.39.39.9.59 1.41.59.51 0 1.02-.2 1.41-.59l7.78-7.78 2.81-2.81c.8-.78.8-2.07 0-2.86zM5.41 20L4 18.59l7.72-7.72 1.47 1.35L5.41 20z\"/>\n",
              "  </svg>\n",
              "      </button>\n",
              "      \n",
              "  <style>\n",
              "    .colab-df-container {\n",
              "      display:flex;\n",
              "      flex-wrap:wrap;\n",
              "      gap: 12px;\n",
              "    }\n",
              "\n",
              "    .colab-df-convert {\n",
              "      background-color: #E8F0FE;\n",
              "      border: none;\n",
              "      border-radius: 50%;\n",
              "      cursor: pointer;\n",
              "      display: none;\n",
              "      fill: #1967D2;\n",
              "      height: 32px;\n",
              "      padding: 0 0 0 0;\n",
              "      width: 32px;\n",
              "    }\n",
              "\n",
              "    .colab-df-convert:hover {\n",
              "      background-color: #E2EBFA;\n",
              "      box-shadow: 0px 1px 2px rgba(60, 64, 67, 0.3), 0px 1px 3px 1px rgba(60, 64, 67, 0.15);\n",
              "      fill: #174EA6;\n",
              "    }\n",
              "\n",
              "    [theme=dark] .colab-df-convert {\n",
              "      background-color: #3B4455;\n",
              "      fill: #D2E3FC;\n",
              "    }\n",
              "\n",
              "    [theme=dark] .colab-df-convert:hover {\n",
              "      background-color: #434B5C;\n",
              "      box-shadow: 0px 1px 3px 1px rgba(0, 0, 0, 0.15);\n",
              "      filter: drop-shadow(0px 1px 2px rgba(0, 0, 0, 0.3));\n",
              "      fill: #FFFFFF;\n",
              "    }\n",
              "  </style>\n",
              "\n",
              "      <script>\n",
              "        const buttonEl =\n",
              "          document.querySelector('#df-53dc15ea-bbde-45b5-86fd-a9fe6fa88352 button.colab-df-convert');\n",
              "        buttonEl.style.display =\n",
              "          google.colab.kernel.accessAllowed ? 'block' : 'none';\n",
              "\n",
              "        async function convertToInteractive(key) {\n",
              "          const element = document.querySelector('#df-53dc15ea-bbde-45b5-86fd-a9fe6fa88352');\n",
              "          const dataTable =\n",
              "            await google.colab.kernel.invokeFunction('convertToInteractive',\n",
              "                                                     [key], {});\n",
              "          if (!dataTable) return;\n",
              "\n",
              "          const docLinkHtml = 'Like what you see? Visit the ' +\n",
              "            '<a target=\"_blank\" href=https://colab.research.google.com/notebooks/data_table.ipynb>data table notebook</a>'\n",
              "            + ' to learn more about interactive tables.';\n",
              "          element.innerHTML = '';\n",
              "          dataTable['output_type'] = 'display_data';\n",
              "          await google.colab.output.renderOutput(dataTable, element);\n",
              "          const docLink = document.createElement('div');\n",
              "          docLink.innerHTML = docLinkHtml;\n",
              "          element.appendChild(docLink);\n",
              "        }\n",
              "      </script>\n",
              "    </div>\n",
              "  </div>\n",
              "  "
            ]
          },
          "metadata": {},
          "execution_count": 40
        }
      ]
    },
    {
      "cell_type": "markdown",
      "source": [
        "We drop the ID columns as it is just an index or key for the row values and it is not useful to include in our analysis or model training."
      ],
      "metadata": {
        "id": "bsD0YeFCnMml"
      }
    },
    {
      "cell_type": "code",
      "source": [
        "df.EDUCATION.value_counts()"
      ],
      "metadata": {
        "colab": {
          "base_uri": "https://localhost:8080/"
        },
        "id": "F91xY6LVlyqR",
        "outputId": "97bf5c44-2df8-48fc-8025-233a476dfa54"
      },
      "execution_count": null,
      "outputs": [
        {
          "output_type": "execute_result",
          "data": {
            "text/plain": [
              "2    14030\n",
              "1    10585\n",
              "3     4917\n",
              "5      280\n",
              "4      123\n",
              "6       51\n",
              "0       14\n",
              "Name: EDUCATION, dtype: int64"
            ]
          },
          "metadata": {},
          "execution_count": 41
        }
      ]
    },
    {
      "cell_type": "markdown",
      "source": [
        "Education is a categorical variable where the values of 0, 5, 6 is mentioned as unknown. Since these are only a few instances out of our entire dataset, we combine these values as a single category of 4 which is described as others"
      ],
      "metadata": {
        "id": "FEs0E00bnd3j"
      }
    },
    {
      "cell_type": "code",
      "source": [
        "df.loc[(df.EDUCATION == 5) | (df.EDUCATION == 6) | (df.EDUCATION == 0),\n",
        "       'EDUCATION'] = 4\n",
        "df.EDUCATION.value_counts()"
      ],
      "metadata": {
        "colab": {
          "base_uri": "https://localhost:8080/"
        },
        "id": "1BTRYoOps_Lz",
        "outputId": "f26ddff8-d188-459b-b87e-7c7bb12e65d4"
      },
      "execution_count": null,
      "outputs": [
        {
          "output_type": "execute_result",
          "data": {
            "text/plain": [
              "2    14030\n",
              "1    10585\n",
              "3     4917\n",
              "4      468\n",
              "Name: EDUCATION, dtype: int64"
            ]
          },
          "metadata": {},
          "execution_count": 42
        }
      ]
    },
    {
      "cell_type": "code",
      "source": [
        "df.MARRIAGE.value_counts()"
      ],
      "metadata": {
        "colab": {
          "base_uri": "https://localhost:8080/"
        },
        "id": "PEO5XiRAtOuS",
        "outputId": "e0f5d0ac-d7f7-4d9b-f204-190b3b7c1b8c"
      },
      "execution_count": null,
      "outputs": [
        {
          "output_type": "execute_result",
          "data": {
            "text/plain": [
              "2    15964\n",
              "1    13659\n",
              "3      323\n",
              "0       54\n",
              "Name: MARRIAGE, dtype: int64"
            ]
          },
          "metadata": {},
          "execution_count": 43
        }
      ]
    },
    {
      "cell_type": "markdown",
      "source": [
        "Marriage is a categorical variable for which the category 3 is described as divorced and category 0 is others. Since these are very few instances out of many, we will combine the categories to category 3."
      ],
      "metadata": {
        "id": "vL-ELjrboDb4"
      }
    },
    {
      "cell_type": "code",
      "source": [
        "df.loc[df.MARRIAGE == 0, 'MARRIAGE'] = 3\n",
        "df.MARRIAGE.value_counts()"
      ],
      "metadata": {
        "colab": {
          "base_uri": "https://localhost:8080/"
        },
        "id": "BtBhVh44teWe",
        "outputId": "400b578e-665a-4365-98c3-3528ab60798c"
      },
      "execution_count": null,
      "outputs": [
        {
          "output_type": "execute_result",
          "data": {
            "text/plain": [
              "2    15964\n",
              "1    13659\n",
              "3      377\n",
              "Name: MARRIAGE, dtype: int64"
            ]
          },
          "metadata": {},
          "execution_count": 44
        }
      ]
    },
    {
      "cell_type": "code",
      "source": [
        "df.loc[(df.PAY_0 == -2) | (df.PAY_0 == -1) | (df.PAY_0 == 0), 'PAY_0'] = 0\n",
        "df.loc[(df.PAY_2 == -2) | (df.PAY_2 == -1) | (df.PAY_2 == 0), 'PAY_2'] = 0\n",
        "df.loc[(df.PAY_3 == -2) | (df.PAY_3 == -1) | (df.PAY_3 == 0), 'PAY_3'] = 0\n",
        "df.loc[(df.PAY_4 == -2) | (df.PAY_4 == -1) | (df.PAY_4 == 0), 'PAY_4'] = 0\n",
        "df.loc[(df.PAY_5 == -2) | (df.PAY_5 == -1) | (df.PAY_5 == 0), 'PAY_5'] = 0\n",
        "df.loc[(df.PAY_6 == -2) | (df.PAY_6 == -1) | (df.PAY_6 == 0), 'PAY_6'] = 0\n",
        "df.head(5)"
      ],
      "metadata": {
        "colab": {
          "base_uri": "https://localhost:8080/",
          "height": 279
        },
        "id": "d_fNuB3xtiMq",
        "outputId": "5f0a0f5b-251d-482e-b1cf-6eca3ea2c0e1"
      },
      "execution_count": null,
      "outputs": [
        {
          "output_type": "execute_result",
          "data": {
            "text/plain": [
              "   LIMIT_BAL  SEX  EDUCATION  MARRIAGE  AGE  PAY_0  PAY_2  PAY_3  PAY_4  \\\n",
              "0      20000    2          2         1   24      2      2      0      0   \n",
              "1     120000    2          2         2   26      0      2      0      0   \n",
              "2      90000    2          2         2   34      0      0      0      0   \n",
              "3      50000    2          2         1   37      0      0      0      0   \n",
              "4      50000    1          2         1   57      0      0      0      0   \n",
              "\n",
              "   PAY_5  ...  BILL_AMT4  BILL_AMT5  BILL_AMT6  PAY_AMT1  PAY_AMT2  PAY_AMT3  \\\n",
              "0      0  ...          0          0          0         0       689         0   \n",
              "1      0  ...       3272       3455       3261         0      1000      1000   \n",
              "2      0  ...      14331      14948      15549      1518      1500      1000   \n",
              "3      0  ...      28314      28959      29547      2000      2019      1200   \n",
              "4      0  ...      20940      19146      19131      2000     36681     10000   \n",
              "\n",
              "   PAY_AMT4  PAY_AMT5  PAY_AMT6  Target  \n",
              "0         0         0         0       1  \n",
              "1      1000         0      2000       1  \n",
              "2      1000      1000      5000       0  \n",
              "3      1100      1069      1000       0  \n",
              "4      9000       689       679       0  \n",
              "\n",
              "[5 rows x 24 columns]"
            ],
            "text/html": [
              "\n",
              "  <div id=\"df-bc75836d-3090-4d11-806d-82ecc133e170\">\n",
              "    <div class=\"colab-df-container\">\n",
              "      <div>\n",
              "<style scoped>\n",
              "    .dataframe tbody tr th:only-of-type {\n",
              "        vertical-align: middle;\n",
              "    }\n",
              "\n",
              "    .dataframe tbody tr th {\n",
              "        vertical-align: top;\n",
              "    }\n",
              "\n",
              "    .dataframe thead th {\n",
              "        text-align: right;\n",
              "    }\n",
              "</style>\n",
              "<table border=\"1\" class=\"dataframe\">\n",
              "  <thead>\n",
              "    <tr style=\"text-align: right;\">\n",
              "      <th></th>\n",
              "      <th>LIMIT_BAL</th>\n",
              "      <th>SEX</th>\n",
              "      <th>EDUCATION</th>\n",
              "      <th>MARRIAGE</th>\n",
              "      <th>AGE</th>\n",
              "      <th>PAY_0</th>\n",
              "      <th>PAY_2</th>\n",
              "      <th>PAY_3</th>\n",
              "      <th>PAY_4</th>\n",
              "      <th>PAY_5</th>\n",
              "      <th>...</th>\n",
              "      <th>BILL_AMT4</th>\n",
              "      <th>BILL_AMT5</th>\n",
              "      <th>BILL_AMT6</th>\n",
              "      <th>PAY_AMT1</th>\n",
              "      <th>PAY_AMT2</th>\n",
              "      <th>PAY_AMT3</th>\n",
              "      <th>PAY_AMT4</th>\n",
              "      <th>PAY_AMT5</th>\n",
              "      <th>PAY_AMT6</th>\n",
              "      <th>Target</th>\n",
              "    </tr>\n",
              "  </thead>\n",
              "  <tbody>\n",
              "    <tr>\n",
              "      <th>0</th>\n",
              "      <td>20000</td>\n",
              "      <td>2</td>\n",
              "      <td>2</td>\n",
              "      <td>1</td>\n",
              "      <td>24</td>\n",
              "      <td>2</td>\n",
              "      <td>2</td>\n",
              "      <td>0</td>\n",
              "      <td>0</td>\n",
              "      <td>0</td>\n",
              "      <td>...</td>\n",
              "      <td>0</td>\n",
              "      <td>0</td>\n",
              "      <td>0</td>\n",
              "      <td>0</td>\n",
              "      <td>689</td>\n",
              "      <td>0</td>\n",
              "      <td>0</td>\n",
              "      <td>0</td>\n",
              "      <td>0</td>\n",
              "      <td>1</td>\n",
              "    </tr>\n",
              "    <tr>\n",
              "      <th>1</th>\n",
              "      <td>120000</td>\n",
              "      <td>2</td>\n",
              "      <td>2</td>\n",
              "      <td>2</td>\n",
              "      <td>26</td>\n",
              "      <td>0</td>\n",
              "      <td>2</td>\n",
              "      <td>0</td>\n",
              "      <td>0</td>\n",
              "      <td>0</td>\n",
              "      <td>...</td>\n",
              "      <td>3272</td>\n",
              "      <td>3455</td>\n",
              "      <td>3261</td>\n",
              "      <td>0</td>\n",
              "      <td>1000</td>\n",
              "      <td>1000</td>\n",
              "      <td>1000</td>\n",
              "      <td>0</td>\n",
              "      <td>2000</td>\n",
              "      <td>1</td>\n",
              "    </tr>\n",
              "    <tr>\n",
              "      <th>2</th>\n",
              "      <td>90000</td>\n",
              "      <td>2</td>\n",
              "      <td>2</td>\n",
              "      <td>2</td>\n",
              "      <td>34</td>\n",
              "      <td>0</td>\n",
              "      <td>0</td>\n",
              "      <td>0</td>\n",
              "      <td>0</td>\n",
              "      <td>0</td>\n",
              "      <td>...</td>\n",
              "      <td>14331</td>\n",
              "      <td>14948</td>\n",
              "      <td>15549</td>\n",
              "      <td>1518</td>\n",
              "      <td>1500</td>\n",
              "      <td>1000</td>\n",
              "      <td>1000</td>\n",
              "      <td>1000</td>\n",
              "      <td>5000</td>\n",
              "      <td>0</td>\n",
              "    </tr>\n",
              "    <tr>\n",
              "      <th>3</th>\n",
              "      <td>50000</td>\n",
              "      <td>2</td>\n",
              "      <td>2</td>\n",
              "      <td>1</td>\n",
              "      <td>37</td>\n",
              "      <td>0</td>\n",
              "      <td>0</td>\n",
              "      <td>0</td>\n",
              "      <td>0</td>\n",
              "      <td>0</td>\n",
              "      <td>...</td>\n",
              "      <td>28314</td>\n",
              "      <td>28959</td>\n",
              "      <td>29547</td>\n",
              "      <td>2000</td>\n",
              "      <td>2019</td>\n",
              "      <td>1200</td>\n",
              "      <td>1100</td>\n",
              "      <td>1069</td>\n",
              "      <td>1000</td>\n",
              "      <td>0</td>\n",
              "    </tr>\n",
              "    <tr>\n",
              "      <th>4</th>\n",
              "      <td>50000</td>\n",
              "      <td>1</td>\n",
              "      <td>2</td>\n",
              "      <td>1</td>\n",
              "      <td>57</td>\n",
              "      <td>0</td>\n",
              "      <td>0</td>\n",
              "      <td>0</td>\n",
              "      <td>0</td>\n",
              "      <td>0</td>\n",
              "      <td>...</td>\n",
              "      <td>20940</td>\n",
              "      <td>19146</td>\n",
              "      <td>19131</td>\n",
              "      <td>2000</td>\n",
              "      <td>36681</td>\n",
              "      <td>10000</td>\n",
              "      <td>9000</td>\n",
              "      <td>689</td>\n",
              "      <td>679</td>\n",
              "      <td>0</td>\n",
              "    </tr>\n",
              "  </tbody>\n",
              "</table>\n",
              "<p>5 rows × 24 columns</p>\n",
              "</div>\n",
              "      <button class=\"colab-df-convert\" onclick=\"convertToInteractive('df-bc75836d-3090-4d11-806d-82ecc133e170')\"\n",
              "              title=\"Convert this dataframe to an interactive table.\"\n",
              "              style=\"display:none;\">\n",
              "        \n",
              "  <svg xmlns=\"http://www.w3.org/2000/svg\" height=\"24px\"viewBox=\"0 0 24 24\"\n",
              "       width=\"24px\">\n",
              "    <path d=\"M0 0h24v24H0V0z\" fill=\"none\"/>\n",
              "    <path d=\"M18.56 5.44l.94 2.06.94-2.06 2.06-.94-2.06-.94-.94-2.06-.94 2.06-2.06.94zm-11 1L8.5 8.5l.94-2.06 2.06-.94-2.06-.94L8.5 2.5l-.94 2.06-2.06.94zm10 10l.94 2.06.94-2.06 2.06-.94-2.06-.94-.94-2.06-.94 2.06-2.06.94z\"/><path d=\"M17.41 7.96l-1.37-1.37c-.4-.4-.92-.59-1.43-.59-.52 0-1.04.2-1.43.59L10.3 9.45l-7.72 7.72c-.78.78-.78 2.05 0 2.83L4 21.41c.39.39.9.59 1.41.59.51 0 1.02-.2 1.41-.59l7.78-7.78 2.81-2.81c.8-.78.8-2.07 0-2.86zM5.41 20L4 18.59l7.72-7.72 1.47 1.35L5.41 20z\"/>\n",
              "  </svg>\n",
              "      </button>\n",
              "      \n",
              "  <style>\n",
              "    .colab-df-container {\n",
              "      display:flex;\n",
              "      flex-wrap:wrap;\n",
              "      gap: 12px;\n",
              "    }\n",
              "\n",
              "    .colab-df-convert {\n",
              "      background-color: #E8F0FE;\n",
              "      border: none;\n",
              "      border-radius: 50%;\n",
              "      cursor: pointer;\n",
              "      display: none;\n",
              "      fill: #1967D2;\n",
              "      height: 32px;\n",
              "      padding: 0 0 0 0;\n",
              "      width: 32px;\n",
              "    }\n",
              "\n",
              "    .colab-df-convert:hover {\n",
              "      background-color: #E2EBFA;\n",
              "      box-shadow: 0px 1px 2px rgba(60, 64, 67, 0.3), 0px 1px 3px 1px rgba(60, 64, 67, 0.15);\n",
              "      fill: #174EA6;\n",
              "    }\n",
              "\n",
              "    [theme=dark] .colab-df-convert {\n",
              "      background-color: #3B4455;\n",
              "      fill: #D2E3FC;\n",
              "    }\n",
              "\n",
              "    [theme=dark] .colab-df-convert:hover {\n",
              "      background-color: #434B5C;\n",
              "      box-shadow: 0px 1px 3px 1px rgba(0, 0, 0, 0.15);\n",
              "      filter: drop-shadow(0px 1px 2px rgba(0, 0, 0, 0.3));\n",
              "      fill: #FFFFFF;\n",
              "    }\n",
              "  </style>\n",
              "\n",
              "      <script>\n",
              "        const buttonEl =\n",
              "          document.querySelector('#df-bc75836d-3090-4d11-806d-82ecc133e170 button.colab-df-convert');\n",
              "        buttonEl.style.display =\n",
              "          google.colab.kernel.accessAllowed ? 'block' : 'none';\n",
              "\n",
              "        async function convertToInteractive(key) {\n",
              "          const element = document.querySelector('#df-bc75836d-3090-4d11-806d-82ecc133e170');\n",
              "          const dataTable =\n",
              "            await google.colab.kernel.invokeFunction('convertToInteractive',\n",
              "                                                     [key], {});\n",
              "          if (!dataTable) return;\n",
              "\n",
              "          const docLinkHtml = 'Like what you see? Visit the ' +\n",
              "            '<a target=\"_blank\" href=https://colab.research.google.com/notebooks/data_table.ipynb>data table notebook</a>'\n",
              "            + ' to learn more about interactive tables.';\n",
              "          element.innerHTML = '';\n",
              "          dataTable['output_type'] = 'display_data';\n",
              "          await google.colab.output.renderOutput(dataTable, element);\n",
              "          const docLink = document.createElement('div');\n",
              "          docLink.innerHTML = docLinkHtml;\n",
              "          element.appendChild(docLink);\n",
              "        }\n",
              "      </script>\n",
              "    </div>\n",
              "  </div>\n",
              "  "
            ]
          },
          "metadata": {},
          "execution_count": 45
        }
      ]
    },
    {
      "cell_type": "markdown",
      "source": [
        "The columns Pay_x are categorical columns where 'x' is the number of months and the values are number of months for which the payment is defaulted consecutively. However, the values '-2' is described as No activity or no consumption of credit limit balance, the value '-1' is described as balance paid in full and the value '0' is described as balance paid in full but credit limit is revolved for the month.\n",
        "All of these values can be combined into a single category since they are not indicative of any type of credit card payment default. "
      ],
      "metadata": {
        "id": "n1XkdZS2ohnu"
      }
    },
    {
      "cell_type": "markdown",
      "source": [
        "# Feature Engineering"
      ],
      "metadata": {
        "id": "dF27nh25z9d2"
      }
    },
    {
      "cell_type": "code",
      "source": [
        "df['Avg_exp_1m'] = ((df['BILL_AMT6'] - df['PAY_AMT6'])/df['LIMIT_BAL'])\n",
        "df['Avg_exp_2m'] = ((df['BILL_AMT6'] + (df['BILL_AMT5'] - df['PAY_6'] - \n",
        "                                       df['PAY_AMT5']))/2) / df['LIMIT_BAL']\n",
        "df['Avg_exp_3m'] = ((df['BILL_AMT6'] + df['BILL_AMT5'] + df['BILL_AMT4'] -\n",
        "                     df['PAY_6'] - df['PAY_AMT5'] - \n",
        "                     df['PAY_AMT4'])/3) / df['LIMIT_BAL']\n",
        "df['Avg_exp_4m'] = ((df['BILL_AMT6'] + df['BILL_AMT5'] + df['BILL_AMT4'] + \n",
        "                     df['BILL_AMT3'] - df['PAY_6'] - df['PAY_AMT5'] - \n",
        "                     df['PAY_AMT4'] - df['PAY_AMT3'])/4) / df['LIMIT_BAL']\n",
        "df['Avg_exp_5m'] = ((df['BILL_AMT6'] + df['BILL_AMT5'] + df['BILL_AMT4'] + \n",
        "                     df['BILL_AMT3'] + df['BILL_AMT2'] - df['PAY_6'] - \n",
        "                     df['PAY_AMT5'] - df['PAY_AMT4'] - df['PAY_AMT3'] - \n",
        "                     df['PAY_AMT2'])/5) / df['LIMIT_BAL']\n",
        "df['Avg_exp_6m'] = ((df['BILL_AMT6'] + df['BILL_AMT5'] + df['BILL_AMT4'] + \n",
        "                     df['BILL_AMT3'] + df['BILL_AMT2'] + df['BILL_AMT1'] - \n",
        "                     df['PAY_6'] - df['PAY_AMT5'] - df['PAY_AMT4'] - \n",
        "                     df['PAY_AMT3'] - df['PAY_AMT2'] - df['PAY_AMT1']\n",
        "                     )/6) / df['LIMIT_BAL']"
      ],
      "metadata": {
        "id": "Kx0sTsEj0C4z"
      },
      "execution_count": null,
      "outputs": []
    },
    {
      "cell_type": "markdown",
      "source": [
        "These features are basically an average expenditure ranging from 1 month to 6 months. Hence, Avg_exp_1m captures the average expenditure of a client for the past one month and Avg_exp_2m captures the average expenditure of a client for the past 2 months and so on till Avg_exp_6m which captures the average expediture of a client on a particular card for 6 months. "
      ],
      "metadata": {
        "id": "xKs_ZKR_4-Bw"
      }
    },
    {
      "cell_type": "code",
      "source": [
        "df['Utilization_6'] = (df.LIMIT_BAL - df.BILL_AMT6) / df.LIMIT_BAL\n",
        "df['Utilization_5'] = (df.LIMIT_BAL - df.BILL_AMT5) / df.LIMIT_BAL\n",
        "df['Utilization_4'] = (df.LIMIT_BAL - df.BILL_AMT4) / df.LIMIT_BAL\n",
        "df['Utilization_3'] = (df.LIMIT_BAL - df.BILL_AMT3) / df.LIMIT_BAL\n",
        "df['Utilization_2'] = (df.LIMIT_BAL - df.BILL_AMT2) / df.LIMIT_BAL\n",
        "df['Utilization_1'] = (df.LIMIT_BAL - df.BILL_AMT1) / df.LIMIT_BAL"
      ],
      "metadata": {
        "id": "nUF8V8QQ1HXL"
      },
      "execution_count": null,
      "outputs": []
    },
    {
      "cell_type": "markdown",
      "source": [
        "These features basically capture the total utilization of the available credit limit for those months where we have the available data."
      ],
      "metadata": {
        "id": "9vV9xkFhCyji"
      }
    },
    {
      "cell_type": "markdown",
      "source": [
        "# Preparing Data for Model Implementation"
      ],
      "metadata": {
        "id": "3GbT-7Qe1x2R"
      }
    },
    {
      "cell_type": "markdown",
      "source": [
        "Splitting the Data into Training and Test Datasets"
      ],
      "metadata": {
        "id": "qefBMBBvEEVa"
      }
    },
    {
      "cell_type": "code",
      "source": [
        "X = df.iloc[:, df.columns!='Target']\n",
        "y = df.iloc[:, df.columns=='Target']\n",
        "X_train, X_test, y_train, y_test = train_test_split(X, y, test_size=0.20, \n",
        "                                                    random_state=18)"
      ],
      "metadata": {
        "id": "5fL8dPXM1WiS"
      },
      "execution_count": null,
      "outputs": []
    },
    {
      "cell_type": "code",
      "source": [
        "X_train.head()"
      ],
      "metadata": {
        "colab": {
          "base_uri": "https://localhost:8080/",
          "height": 299
        },
        "id": "DEBXXcVmioyt",
        "outputId": "0148c6d5-d7b8-458f-d3d5-de0f24a2bbfc"
      },
      "execution_count": null,
      "outputs": [
        {
          "output_type": "execute_result",
          "data": {
            "text/plain": [
              "       LIMIT_BAL  SEX  EDUCATION  MARRIAGE  AGE  PAY_0  PAY_2  PAY_3  PAY_4  \\\n",
              "26871     290000    1          1         1   45      0      0      0      0   \n",
              "6839      500000    2          1         1   51      0      0      0      0   \n",
              "24940      60000    1          2         1   38      0      0      2      0   \n",
              "19755      20000    2          2         1   42      2      0      0      0   \n",
              "4217       50000    1          2         2   33      1      2      2      2   \n",
              "\n",
              "       PAY_5  ...  Avg_exp_3m  Avg_exp_4m  Avg_exp_5m  Avg_exp_6m  \\\n",
              "26871      0  ...    0.011154    0.002058    0.001402    0.001268   \n",
              "6839       0  ...    0.064435    0.066962    0.073458    0.033969   \n",
              "24940      0  ...    0.972583    0.997792    1.025310    1.043119   \n",
              "19755      0  ...    0.910433    0.882500    0.858670    0.832033   \n",
              "4217       2  ...    0.838733    0.813870    0.816388    0.807187   \n",
              "\n",
              "       Utilization_6  Utilization_5  Utilization_4  Utilization_3  \\\n",
              "26871       0.981210       0.975545       0.966393       0.991462   \n",
              "6839        0.877942       0.844344       0.951110       0.925456   \n",
              "24940       0.059033      -0.000800      -0.059317      -0.123417   \n",
              "19755       0.040250       0.067350       0.085550       0.136100   \n",
              "4217        0.022700       0.160680       0.144380       0.192720   \n",
              "\n",
              "       Utilization_2  Utilization_1  \n",
              "26871       0.992652       0.992014  \n",
              "6839        0.826016       0.989490  \n",
              "24940      -0.185383      -0.215500  \n",
              "19755       0.172000       0.222400  \n",
              "4217        0.173540       0.196820  \n",
              "\n",
              "[5 rows x 35 columns]"
            ],
            "text/html": [
              "\n",
              "  <div id=\"df-633282a0-f0d2-4598-8f91-4435b468f70a\">\n",
              "    <div class=\"colab-df-container\">\n",
              "      <div>\n",
              "<style scoped>\n",
              "    .dataframe tbody tr th:only-of-type {\n",
              "        vertical-align: middle;\n",
              "    }\n",
              "\n",
              "    .dataframe tbody tr th {\n",
              "        vertical-align: top;\n",
              "    }\n",
              "\n",
              "    .dataframe thead th {\n",
              "        text-align: right;\n",
              "    }\n",
              "</style>\n",
              "<table border=\"1\" class=\"dataframe\">\n",
              "  <thead>\n",
              "    <tr style=\"text-align: right;\">\n",
              "      <th></th>\n",
              "      <th>LIMIT_BAL</th>\n",
              "      <th>SEX</th>\n",
              "      <th>EDUCATION</th>\n",
              "      <th>MARRIAGE</th>\n",
              "      <th>AGE</th>\n",
              "      <th>PAY_0</th>\n",
              "      <th>PAY_2</th>\n",
              "      <th>PAY_3</th>\n",
              "      <th>PAY_4</th>\n",
              "      <th>PAY_5</th>\n",
              "      <th>...</th>\n",
              "      <th>Avg_exp_3m</th>\n",
              "      <th>Avg_exp_4m</th>\n",
              "      <th>Avg_exp_5m</th>\n",
              "      <th>Avg_exp_6m</th>\n",
              "      <th>Utilization_6</th>\n",
              "      <th>Utilization_5</th>\n",
              "      <th>Utilization_4</th>\n",
              "      <th>Utilization_3</th>\n",
              "      <th>Utilization_2</th>\n",
              "      <th>Utilization_1</th>\n",
              "    </tr>\n",
              "  </thead>\n",
              "  <tbody>\n",
              "    <tr>\n",
              "      <th>26871</th>\n",
              "      <td>290000</td>\n",
              "      <td>1</td>\n",
              "      <td>1</td>\n",
              "      <td>1</td>\n",
              "      <td>45</td>\n",
              "      <td>0</td>\n",
              "      <td>0</td>\n",
              "      <td>0</td>\n",
              "      <td>0</td>\n",
              "      <td>0</td>\n",
              "      <td>...</td>\n",
              "      <td>0.011154</td>\n",
              "      <td>0.002058</td>\n",
              "      <td>0.001402</td>\n",
              "      <td>0.001268</td>\n",
              "      <td>0.981210</td>\n",
              "      <td>0.975545</td>\n",
              "      <td>0.966393</td>\n",
              "      <td>0.991462</td>\n",
              "      <td>0.992652</td>\n",
              "      <td>0.992014</td>\n",
              "    </tr>\n",
              "    <tr>\n",
              "      <th>6839</th>\n",
              "      <td>500000</td>\n",
              "      <td>2</td>\n",
              "      <td>1</td>\n",
              "      <td>1</td>\n",
              "      <td>51</td>\n",
              "      <td>0</td>\n",
              "      <td>0</td>\n",
              "      <td>0</td>\n",
              "      <td>0</td>\n",
              "      <td>0</td>\n",
              "      <td>...</td>\n",
              "      <td>0.064435</td>\n",
              "      <td>0.066962</td>\n",
              "      <td>0.073458</td>\n",
              "      <td>0.033969</td>\n",
              "      <td>0.877942</td>\n",
              "      <td>0.844344</td>\n",
              "      <td>0.951110</td>\n",
              "      <td>0.925456</td>\n",
              "      <td>0.826016</td>\n",
              "      <td>0.989490</td>\n",
              "    </tr>\n",
              "    <tr>\n",
              "      <th>24940</th>\n",
              "      <td>60000</td>\n",
              "      <td>1</td>\n",
              "      <td>2</td>\n",
              "      <td>1</td>\n",
              "      <td>38</td>\n",
              "      <td>0</td>\n",
              "      <td>0</td>\n",
              "      <td>2</td>\n",
              "      <td>0</td>\n",
              "      <td>0</td>\n",
              "      <td>...</td>\n",
              "      <td>0.972583</td>\n",
              "      <td>0.997792</td>\n",
              "      <td>1.025310</td>\n",
              "      <td>1.043119</td>\n",
              "      <td>0.059033</td>\n",
              "      <td>-0.000800</td>\n",
              "      <td>-0.059317</td>\n",
              "      <td>-0.123417</td>\n",
              "      <td>-0.185383</td>\n",
              "      <td>-0.215500</td>\n",
              "    </tr>\n",
              "    <tr>\n",
              "      <th>19755</th>\n",
              "      <td>20000</td>\n",
              "      <td>2</td>\n",
              "      <td>2</td>\n",
              "      <td>1</td>\n",
              "      <td>42</td>\n",
              "      <td>2</td>\n",
              "      <td>0</td>\n",
              "      <td>0</td>\n",
              "      <td>0</td>\n",
              "      <td>0</td>\n",
              "      <td>...</td>\n",
              "      <td>0.910433</td>\n",
              "      <td>0.882500</td>\n",
              "      <td>0.858670</td>\n",
              "      <td>0.832033</td>\n",
              "      <td>0.040250</td>\n",
              "      <td>0.067350</td>\n",
              "      <td>0.085550</td>\n",
              "      <td>0.136100</td>\n",
              "      <td>0.172000</td>\n",
              "      <td>0.222400</td>\n",
              "    </tr>\n",
              "    <tr>\n",
              "      <th>4217</th>\n",
              "      <td>50000</td>\n",
              "      <td>1</td>\n",
              "      <td>2</td>\n",
              "      <td>2</td>\n",
              "      <td>33</td>\n",
              "      <td>1</td>\n",
              "      <td>2</td>\n",
              "      <td>2</td>\n",
              "      <td>2</td>\n",
              "      <td>2</td>\n",
              "      <td>...</td>\n",
              "      <td>0.838733</td>\n",
              "      <td>0.813870</td>\n",
              "      <td>0.816388</td>\n",
              "      <td>0.807187</td>\n",
              "      <td>0.022700</td>\n",
              "      <td>0.160680</td>\n",
              "      <td>0.144380</td>\n",
              "      <td>0.192720</td>\n",
              "      <td>0.173540</td>\n",
              "      <td>0.196820</td>\n",
              "    </tr>\n",
              "  </tbody>\n",
              "</table>\n",
              "<p>5 rows × 35 columns</p>\n",
              "</div>\n",
              "      <button class=\"colab-df-convert\" onclick=\"convertToInteractive('df-633282a0-f0d2-4598-8f91-4435b468f70a')\"\n",
              "              title=\"Convert this dataframe to an interactive table.\"\n",
              "              style=\"display:none;\">\n",
              "        \n",
              "  <svg xmlns=\"http://www.w3.org/2000/svg\" height=\"24px\"viewBox=\"0 0 24 24\"\n",
              "       width=\"24px\">\n",
              "    <path d=\"M0 0h24v24H0V0z\" fill=\"none\"/>\n",
              "    <path d=\"M18.56 5.44l.94 2.06.94-2.06 2.06-.94-2.06-.94-.94-2.06-.94 2.06-2.06.94zm-11 1L8.5 8.5l.94-2.06 2.06-.94-2.06-.94L8.5 2.5l-.94 2.06-2.06.94zm10 10l.94 2.06.94-2.06 2.06-.94-2.06-.94-.94-2.06-.94 2.06-2.06.94z\"/><path d=\"M17.41 7.96l-1.37-1.37c-.4-.4-.92-.59-1.43-.59-.52 0-1.04.2-1.43.59L10.3 9.45l-7.72 7.72c-.78.78-.78 2.05 0 2.83L4 21.41c.39.39.9.59 1.41.59.51 0 1.02-.2 1.41-.59l7.78-7.78 2.81-2.81c.8-.78.8-2.07 0-2.86zM5.41 20L4 18.59l7.72-7.72 1.47 1.35L5.41 20z\"/>\n",
              "  </svg>\n",
              "      </button>\n",
              "      \n",
              "  <style>\n",
              "    .colab-df-container {\n",
              "      display:flex;\n",
              "      flex-wrap:wrap;\n",
              "      gap: 12px;\n",
              "    }\n",
              "\n",
              "    .colab-df-convert {\n",
              "      background-color: #E8F0FE;\n",
              "      border: none;\n",
              "      border-radius: 50%;\n",
              "      cursor: pointer;\n",
              "      display: none;\n",
              "      fill: #1967D2;\n",
              "      height: 32px;\n",
              "      padding: 0 0 0 0;\n",
              "      width: 32px;\n",
              "    }\n",
              "\n",
              "    .colab-df-convert:hover {\n",
              "      background-color: #E2EBFA;\n",
              "      box-shadow: 0px 1px 2px rgba(60, 64, 67, 0.3), 0px 1px 3px 1px rgba(60, 64, 67, 0.15);\n",
              "      fill: #174EA6;\n",
              "    }\n",
              "\n",
              "    [theme=dark] .colab-df-convert {\n",
              "      background-color: #3B4455;\n",
              "      fill: #D2E3FC;\n",
              "    }\n",
              "\n",
              "    [theme=dark] .colab-df-convert:hover {\n",
              "      background-color: #434B5C;\n",
              "      box-shadow: 0px 1px 3px 1px rgba(0, 0, 0, 0.15);\n",
              "      filter: drop-shadow(0px 1px 2px rgba(0, 0, 0, 0.3));\n",
              "      fill: #FFFFFF;\n",
              "    }\n",
              "  </style>\n",
              "\n",
              "      <script>\n",
              "        const buttonEl =\n",
              "          document.querySelector('#df-633282a0-f0d2-4598-8f91-4435b468f70a button.colab-df-convert');\n",
              "        buttonEl.style.display =\n",
              "          google.colab.kernel.accessAllowed ? 'block' : 'none';\n",
              "\n",
              "        async function convertToInteractive(key) {\n",
              "          const element = document.querySelector('#df-633282a0-f0d2-4598-8f91-4435b468f70a');\n",
              "          const dataTable =\n",
              "            await google.colab.kernel.invokeFunction('convertToInteractive',\n",
              "                                                     [key], {});\n",
              "          if (!dataTable) return;\n",
              "\n",
              "          const docLinkHtml = 'Like what you see? Visit the ' +\n",
              "            '<a target=\"_blank\" href=https://colab.research.google.com/notebooks/data_table.ipynb>data table notebook</a>'\n",
              "            + ' to learn more about interactive tables.';\n",
              "          element.innerHTML = '';\n",
              "          dataTable['output_type'] = 'display_data';\n",
              "          await google.colab.output.renderOutput(dataTable, element);\n",
              "          const docLink = document.createElement('div');\n",
              "          docLink.innerHTML = docLinkHtml;\n",
              "          element.appendChild(docLink);\n",
              "        }\n",
              "      </script>\n",
              "    </div>\n",
              "  </div>\n",
              "  "
            ]
          },
          "metadata": {},
          "execution_count": 49
        }
      ]
    },
    {
      "cell_type": "code",
      "source": [
        "X_train.columns"
      ],
      "metadata": {
        "colab": {
          "base_uri": "https://localhost:8080/"
        },
        "id": "UBf1WRrXkfsc",
        "outputId": "9c07699d-695a-4338-e0f9-3e6801a53fb9"
      },
      "execution_count": null,
      "outputs": [
        {
          "output_type": "execute_result",
          "data": {
            "text/plain": [
              "Index(['LIMIT_BAL', 'SEX', 'EDUCATION', 'MARRIAGE', 'AGE', 'PAY_0', 'PAY_2',\n",
              "       'PAY_3', 'PAY_4', 'PAY_5', 'PAY_6', 'BILL_AMT1', 'BILL_AMT2',\n",
              "       'BILL_AMT3', 'BILL_AMT4', 'BILL_AMT5', 'BILL_AMT6', 'PAY_AMT1',\n",
              "       'PAY_AMT2', 'PAY_AMT3', 'PAY_AMT4', 'PAY_AMT5', 'PAY_AMT6',\n",
              "       'Avg_exp_1m', 'Avg_exp_2m', 'Avg_exp_3m', 'Avg_exp_4m', 'Avg_exp_5m',\n",
              "       'Avg_exp_6m', 'Utilization_6', 'Utilization_5', 'Utilization_4',\n",
              "       'Utilization_3', 'Utilization_2', 'Utilization_1'],\n",
              "      dtype='object')"
            ]
          },
          "metadata": {},
          "execution_count": 50
        }
      ]
    },
    {
      "cell_type": "markdown",
      "source": [
        "Since the Data has a few features that we added which are scaled, as well as a few features that are categorical, we scale the rest of the features using a Standard Scaler from sklearn. The Standard Scaler fits the Scaler according to the values in the Training dataset and transforms it into a scaled dataset. We further use the same scaler fitted on training set to scale the test dataset as well. "
      ],
      "metadata": {
        "id": "v9Z6Z_j7EKRo"
      }
    },
    {
      "cell_type": "code",
      "source": [
        "from sklearn.preprocessing import StandardScaler\n",
        "scaler = StandardScaler()\n",
        "cols_to_scale = ['LIMIT_BAL', 'AGE', 'BILL_AMT1', 'BILL_AMT2', 'BILL_AMT3', \n",
        "                 'BILL_AMT4', 'BILL_AMT5', 'BILL_AMT6', 'PAY_AMT1', 'PAY_AMT2',\n",
        "                 'PAY_AMT3', 'PAY_AMT4', 'PAY_AMT5', 'PAY_AMT6']\n",
        "X_train[cols_to_scale] = scaler.fit_transform(X_train[cols_to_scale])\n",
        "X_test[cols_to_scale] = scaler.transform(X_test[cols_to_scale])\n",
        "X_train.head()"
      ],
      "metadata": {
        "colab": {
          "base_uri": "https://localhost:8080/",
          "height": 299
        },
        "id": "c5XgTVlkkqLE",
        "outputId": "c1facd38-6088-4de1-a09f-b1c9fc5b665b"
      },
      "execution_count": null,
      "outputs": [
        {
          "output_type": "execute_result",
          "data": {
            "text/plain": [
              "       LIMIT_BAL  SEX  EDUCATION  MARRIAGE       AGE  PAY_0  PAY_2  PAY_3  \\\n",
              "26871   0.932871    1          1         1  1.035773      0      0      0   \n",
              "6839    2.538253    2          1         1  1.687621      0      0      0   \n",
              "24940  -0.825404    1          2         1  0.275284      0      0      2   \n",
              "19755  -1.131191    2          2         1  0.709849      2      0      0   \n",
              "4217   -0.901851    1          2         2 -0.267923      1      2      2   \n",
              "\n",
              "       PAY_4  PAY_5  ...  Avg_exp_3m  Avg_exp_4m  Avg_exp_5m  Avg_exp_6m  \\\n",
              "26871      0      0  ...    0.011154    0.002058    0.001402    0.001268   \n",
              "6839       0      0  ...    0.064435    0.066962    0.073458    0.033969   \n",
              "24940      0      0  ...    0.972583    0.997792    1.025310    1.043119   \n",
              "19755      0      0  ...    0.910433    0.882500    0.858670    0.832033   \n",
              "4217       2      2  ...    0.838733    0.813870    0.816388    0.807187   \n",
              "\n",
              "       Utilization_6  Utilization_5  Utilization_4  Utilization_3  \\\n",
              "26871       0.981210       0.975545       0.966393       0.991462   \n",
              "6839        0.877942       0.844344       0.951110       0.925456   \n",
              "24940       0.059033      -0.000800      -0.059317      -0.123417   \n",
              "19755       0.040250       0.067350       0.085550       0.136100   \n",
              "4217        0.022700       0.160680       0.144380       0.192720   \n",
              "\n",
              "       Utilization_2  Utilization_1  \n",
              "26871       0.992652       0.992014  \n",
              "6839        0.826016       0.989490  \n",
              "24940      -0.185383      -0.215500  \n",
              "19755       0.172000       0.222400  \n",
              "4217        0.173540       0.196820  \n",
              "\n",
              "[5 rows x 35 columns]"
            ],
            "text/html": [
              "\n",
              "  <div id=\"df-b253b023-269b-4acf-ba63-8b8a1e46cee0\">\n",
              "    <div class=\"colab-df-container\">\n",
              "      <div>\n",
              "<style scoped>\n",
              "    .dataframe tbody tr th:only-of-type {\n",
              "        vertical-align: middle;\n",
              "    }\n",
              "\n",
              "    .dataframe tbody tr th {\n",
              "        vertical-align: top;\n",
              "    }\n",
              "\n",
              "    .dataframe thead th {\n",
              "        text-align: right;\n",
              "    }\n",
              "</style>\n",
              "<table border=\"1\" class=\"dataframe\">\n",
              "  <thead>\n",
              "    <tr style=\"text-align: right;\">\n",
              "      <th></th>\n",
              "      <th>LIMIT_BAL</th>\n",
              "      <th>SEX</th>\n",
              "      <th>EDUCATION</th>\n",
              "      <th>MARRIAGE</th>\n",
              "      <th>AGE</th>\n",
              "      <th>PAY_0</th>\n",
              "      <th>PAY_2</th>\n",
              "      <th>PAY_3</th>\n",
              "      <th>PAY_4</th>\n",
              "      <th>PAY_5</th>\n",
              "      <th>...</th>\n",
              "      <th>Avg_exp_3m</th>\n",
              "      <th>Avg_exp_4m</th>\n",
              "      <th>Avg_exp_5m</th>\n",
              "      <th>Avg_exp_6m</th>\n",
              "      <th>Utilization_6</th>\n",
              "      <th>Utilization_5</th>\n",
              "      <th>Utilization_4</th>\n",
              "      <th>Utilization_3</th>\n",
              "      <th>Utilization_2</th>\n",
              "      <th>Utilization_1</th>\n",
              "    </tr>\n",
              "  </thead>\n",
              "  <tbody>\n",
              "    <tr>\n",
              "      <th>26871</th>\n",
              "      <td>0.932871</td>\n",
              "      <td>1</td>\n",
              "      <td>1</td>\n",
              "      <td>1</td>\n",
              "      <td>1.035773</td>\n",
              "      <td>0</td>\n",
              "      <td>0</td>\n",
              "      <td>0</td>\n",
              "      <td>0</td>\n",
              "      <td>0</td>\n",
              "      <td>...</td>\n",
              "      <td>0.011154</td>\n",
              "      <td>0.002058</td>\n",
              "      <td>0.001402</td>\n",
              "      <td>0.001268</td>\n",
              "      <td>0.981210</td>\n",
              "      <td>0.975545</td>\n",
              "      <td>0.966393</td>\n",
              "      <td>0.991462</td>\n",
              "      <td>0.992652</td>\n",
              "      <td>0.992014</td>\n",
              "    </tr>\n",
              "    <tr>\n",
              "      <th>6839</th>\n",
              "      <td>2.538253</td>\n",
              "      <td>2</td>\n",
              "      <td>1</td>\n",
              "      <td>1</td>\n",
              "      <td>1.687621</td>\n",
              "      <td>0</td>\n",
              "      <td>0</td>\n",
              "      <td>0</td>\n",
              "      <td>0</td>\n",
              "      <td>0</td>\n",
              "      <td>...</td>\n",
              "      <td>0.064435</td>\n",
              "      <td>0.066962</td>\n",
              "      <td>0.073458</td>\n",
              "      <td>0.033969</td>\n",
              "      <td>0.877942</td>\n",
              "      <td>0.844344</td>\n",
              "      <td>0.951110</td>\n",
              "      <td>0.925456</td>\n",
              "      <td>0.826016</td>\n",
              "      <td>0.989490</td>\n",
              "    </tr>\n",
              "    <tr>\n",
              "      <th>24940</th>\n",
              "      <td>-0.825404</td>\n",
              "      <td>1</td>\n",
              "      <td>2</td>\n",
              "      <td>1</td>\n",
              "      <td>0.275284</td>\n",
              "      <td>0</td>\n",
              "      <td>0</td>\n",
              "      <td>2</td>\n",
              "      <td>0</td>\n",
              "      <td>0</td>\n",
              "      <td>...</td>\n",
              "      <td>0.972583</td>\n",
              "      <td>0.997792</td>\n",
              "      <td>1.025310</td>\n",
              "      <td>1.043119</td>\n",
              "      <td>0.059033</td>\n",
              "      <td>-0.000800</td>\n",
              "      <td>-0.059317</td>\n",
              "      <td>-0.123417</td>\n",
              "      <td>-0.185383</td>\n",
              "      <td>-0.215500</td>\n",
              "    </tr>\n",
              "    <tr>\n",
              "      <th>19755</th>\n",
              "      <td>-1.131191</td>\n",
              "      <td>2</td>\n",
              "      <td>2</td>\n",
              "      <td>1</td>\n",
              "      <td>0.709849</td>\n",
              "      <td>2</td>\n",
              "      <td>0</td>\n",
              "      <td>0</td>\n",
              "      <td>0</td>\n",
              "      <td>0</td>\n",
              "      <td>...</td>\n",
              "      <td>0.910433</td>\n",
              "      <td>0.882500</td>\n",
              "      <td>0.858670</td>\n",
              "      <td>0.832033</td>\n",
              "      <td>0.040250</td>\n",
              "      <td>0.067350</td>\n",
              "      <td>0.085550</td>\n",
              "      <td>0.136100</td>\n",
              "      <td>0.172000</td>\n",
              "      <td>0.222400</td>\n",
              "    </tr>\n",
              "    <tr>\n",
              "      <th>4217</th>\n",
              "      <td>-0.901851</td>\n",
              "      <td>1</td>\n",
              "      <td>2</td>\n",
              "      <td>2</td>\n",
              "      <td>-0.267923</td>\n",
              "      <td>1</td>\n",
              "      <td>2</td>\n",
              "      <td>2</td>\n",
              "      <td>2</td>\n",
              "      <td>2</td>\n",
              "      <td>...</td>\n",
              "      <td>0.838733</td>\n",
              "      <td>0.813870</td>\n",
              "      <td>0.816388</td>\n",
              "      <td>0.807187</td>\n",
              "      <td>0.022700</td>\n",
              "      <td>0.160680</td>\n",
              "      <td>0.144380</td>\n",
              "      <td>0.192720</td>\n",
              "      <td>0.173540</td>\n",
              "      <td>0.196820</td>\n",
              "    </tr>\n",
              "  </tbody>\n",
              "</table>\n",
              "<p>5 rows × 35 columns</p>\n",
              "</div>\n",
              "      <button class=\"colab-df-convert\" onclick=\"convertToInteractive('df-b253b023-269b-4acf-ba63-8b8a1e46cee0')\"\n",
              "              title=\"Convert this dataframe to an interactive table.\"\n",
              "              style=\"display:none;\">\n",
              "        \n",
              "  <svg xmlns=\"http://www.w3.org/2000/svg\" height=\"24px\"viewBox=\"0 0 24 24\"\n",
              "       width=\"24px\">\n",
              "    <path d=\"M0 0h24v24H0V0z\" fill=\"none\"/>\n",
              "    <path d=\"M18.56 5.44l.94 2.06.94-2.06 2.06-.94-2.06-.94-.94-2.06-.94 2.06-2.06.94zm-11 1L8.5 8.5l.94-2.06 2.06-.94-2.06-.94L8.5 2.5l-.94 2.06-2.06.94zm10 10l.94 2.06.94-2.06 2.06-.94-2.06-.94-.94-2.06-.94 2.06-2.06.94z\"/><path d=\"M17.41 7.96l-1.37-1.37c-.4-.4-.92-.59-1.43-.59-.52 0-1.04.2-1.43.59L10.3 9.45l-7.72 7.72c-.78.78-.78 2.05 0 2.83L4 21.41c.39.39.9.59 1.41.59.51 0 1.02-.2 1.41-.59l7.78-7.78 2.81-2.81c.8-.78.8-2.07 0-2.86zM5.41 20L4 18.59l7.72-7.72 1.47 1.35L5.41 20z\"/>\n",
              "  </svg>\n",
              "      </button>\n",
              "      \n",
              "  <style>\n",
              "    .colab-df-container {\n",
              "      display:flex;\n",
              "      flex-wrap:wrap;\n",
              "      gap: 12px;\n",
              "    }\n",
              "\n",
              "    .colab-df-convert {\n",
              "      background-color: #E8F0FE;\n",
              "      border: none;\n",
              "      border-radius: 50%;\n",
              "      cursor: pointer;\n",
              "      display: none;\n",
              "      fill: #1967D2;\n",
              "      height: 32px;\n",
              "      padding: 0 0 0 0;\n",
              "      width: 32px;\n",
              "    }\n",
              "\n",
              "    .colab-df-convert:hover {\n",
              "      background-color: #E2EBFA;\n",
              "      box-shadow: 0px 1px 2px rgba(60, 64, 67, 0.3), 0px 1px 3px 1px rgba(60, 64, 67, 0.15);\n",
              "      fill: #174EA6;\n",
              "    }\n",
              "\n",
              "    [theme=dark] .colab-df-convert {\n",
              "      background-color: #3B4455;\n",
              "      fill: #D2E3FC;\n",
              "    }\n",
              "\n",
              "    [theme=dark] .colab-df-convert:hover {\n",
              "      background-color: #434B5C;\n",
              "      box-shadow: 0px 1px 3px 1px rgba(0, 0, 0, 0.15);\n",
              "      filter: drop-shadow(0px 1px 2px rgba(0, 0, 0, 0.3));\n",
              "      fill: #FFFFFF;\n",
              "    }\n",
              "  </style>\n",
              "\n",
              "      <script>\n",
              "        const buttonEl =\n",
              "          document.querySelector('#df-b253b023-269b-4acf-ba63-8b8a1e46cee0 button.colab-df-convert');\n",
              "        buttonEl.style.display =\n",
              "          google.colab.kernel.accessAllowed ? 'block' : 'none';\n",
              "\n",
              "        async function convertToInteractive(key) {\n",
              "          const element = document.querySelector('#df-b253b023-269b-4acf-ba63-8b8a1e46cee0');\n",
              "          const dataTable =\n",
              "            await google.colab.kernel.invokeFunction('convertToInteractive',\n",
              "                                                     [key], {});\n",
              "          if (!dataTable) return;\n",
              "\n",
              "          const docLinkHtml = 'Like what you see? Visit the ' +\n",
              "            '<a target=\"_blank\" href=https://colab.research.google.com/notebooks/data_table.ipynb>data table notebook</a>'\n",
              "            + ' to learn more about interactive tables.';\n",
              "          element.innerHTML = '';\n",
              "          dataTable['output_type'] = 'display_data';\n",
              "          await google.colab.output.renderOutput(dataTable, element);\n",
              "          const docLink = document.createElement('div');\n",
              "          docLink.innerHTML = docLinkHtml;\n",
              "          element.appendChild(docLink);\n",
              "        }\n",
              "      </script>\n",
              "    </div>\n",
              "  </div>\n",
              "  "
            ]
          },
          "metadata": {},
          "execution_count": 51
        }
      ]
    },
    {
      "cell_type": "code",
      "source": [
        "y_train.head()"
      ],
      "metadata": {
        "colab": {
          "base_uri": "https://localhost:8080/",
          "height": 206
        },
        "id": "DsEKzZoKusby",
        "outputId": "bb8ee733-c76e-44b0-f782-28c3cfcfdb86"
      },
      "execution_count": null,
      "outputs": [
        {
          "output_type": "execute_result",
          "data": {
            "text/plain": [
              "       Target\n",
              "26871       0\n",
              "6839        0\n",
              "24940       0\n",
              "19755       1\n",
              "4217        1"
            ],
            "text/html": [
              "\n",
              "  <div id=\"df-88b524b8-a10e-42da-aa40-2217630bd486\">\n",
              "    <div class=\"colab-df-container\">\n",
              "      <div>\n",
              "<style scoped>\n",
              "    .dataframe tbody tr th:only-of-type {\n",
              "        vertical-align: middle;\n",
              "    }\n",
              "\n",
              "    .dataframe tbody tr th {\n",
              "        vertical-align: top;\n",
              "    }\n",
              "\n",
              "    .dataframe thead th {\n",
              "        text-align: right;\n",
              "    }\n",
              "</style>\n",
              "<table border=\"1\" class=\"dataframe\">\n",
              "  <thead>\n",
              "    <tr style=\"text-align: right;\">\n",
              "      <th></th>\n",
              "      <th>Target</th>\n",
              "    </tr>\n",
              "  </thead>\n",
              "  <tbody>\n",
              "    <tr>\n",
              "      <th>26871</th>\n",
              "      <td>0</td>\n",
              "    </tr>\n",
              "    <tr>\n",
              "      <th>6839</th>\n",
              "      <td>0</td>\n",
              "    </tr>\n",
              "    <tr>\n",
              "      <th>24940</th>\n",
              "      <td>0</td>\n",
              "    </tr>\n",
              "    <tr>\n",
              "      <th>19755</th>\n",
              "      <td>1</td>\n",
              "    </tr>\n",
              "    <tr>\n",
              "      <th>4217</th>\n",
              "      <td>1</td>\n",
              "    </tr>\n",
              "  </tbody>\n",
              "</table>\n",
              "</div>\n",
              "      <button class=\"colab-df-convert\" onclick=\"convertToInteractive('df-88b524b8-a10e-42da-aa40-2217630bd486')\"\n",
              "              title=\"Convert this dataframe to an interactive table.\"\n",
              "              style=\"display:none;\">\n",
              "        \n",
              "  <svg xmlns=\"http://www.w3.org/2000/svg\" height=\"24px\"viewBox=\"0 0 24 24\"\n",
              "       width=\"24px\">\n",
              "    <path d=\"M0 0h24v24H0V0z\" fill=\"none\"/>\n",
              "    <path d=\"M18.56 5.44l.94 2.06.94-2.06 2.06-.94-2.06-.94-.94-2.06-.94 2.06-2.06.94zm-11 1L8.5 8.5l.94-2.06 2.06-.94-2.06-.94L8.5 2.5l-.94 2.06-2.06.94zm10 10l.94 2.06.94-2.06 2.06-.94-2.06-.94-.94-2.06-.94 2.06-2.06.94z\"/><path d=\"M17.41 7.96l-1.37-1.37c-.4-.4-.92-.59-1.43-.59-.52 0-1.04.2-1.43.59L10.3 9.45l-7.72 7.72c-.78.78-.78 2.05 0 2.83L4 21.41c.39.39.9.59 1.41.59.51 0 1.02-.2 1.41-.59l7.78-7.78 2.81-2.81c.8-.78.8-2.07 0-2.86zM5.41 20L4 18.59l7.72-7.72 1.47 1.35L5.41 20z\"/>\n",
              "  </svg>\n",
              "      </button>\n",
              "      \n",
              "  <style>\n",
              "    .colab-df-container {\n",
              "      display:flex;\n",
              "      flex-wrap:wrap;\n",
              "      gap: 12px;\n",
              "    }\n",
              "\n",
              "    .colab-df-convert {\n",
              "      background-color: #E8F0FE;\n",
              "      border: none;\n",
              "      border-radius: 50%;\n",
              "      cursor: pointer;\n",
              "      display: none;\n",
              "      fill: #1967D2;\n",
              "      height: 32px;\n",
              "      padding: 0 0 0 0;\n",
              "      width: 32px;\n",
              "    }\n",
              "\n",
              "    .colab-df-convert:hover {\n",
              "      background-color: #E2EBFA;\n",
              "      box-shadow: 0px 1px 2px rgba(60, 64, 67, 0.3), 0px 1px 3px 1px rgba(60, 64, 67, 0.15);\n",
              "      fill: #174EA6;\n",
              "    }\n",
              "\n",
              "    [theme=dark] .colab-df-convert {\n",
              "      background-color: #3B4455;\n",
              "      fill: #D2E3FC;\n",
              "    }\n",
              "\n",
              "    [theme=dark] .colab-df-convert:hover {\n",
              "      background-color: #434B5C;\n",
              "      box-shadow: 0px 1px 3px 1px rgba(0, 0, 0, 0.15);\n",
              "      filter: drop-shadow(0px 1px 2px rgba(0, 0, 0, 0.3));\n",
              "      fill: #FFFFFF;\n",
              "    }\n",
              "  </style>\n",
              "\n",
              "      <script>\n",
              "        const buttonEl =\n",
              "          document.querySelector('#df-88b524b8-a10e-42da-aa40-2217630bd486 button.colab-df-convert');\n",
              "        buttonEl.style.display =\n",
              "          google.colab.kernel.accessAllowed ? 'block' : 'none';\n",
              "\n",
              "        async function convertToInteractive(key) {\n",
              "          const element = document.querySelector('#df-88b524b8-a10e-42da-aa40-2217630bd486');\n",
              "          const dataTable =\n",
              "            await google.colab.kernel.invokeFunction('convertToInteractive',\n",
              "                                                     [key], {});\n",
              "          if (!dataTable) return;\n",
              "\n",
              "          const docLinkHtml = 'Like what you see? Visit the ' +\n",
              "            '<a target=\"_blank\" href=https://colab.research.google.com/notebooks/data_table.ipynb>data table notebook</a>'\n",
              "            + ' to learn more about interactive tables.';\n",
              "          element.innerHTML = '';\n",
              "          dataTable['output_type'] = 'display_data';\n",
              "          await google.colab.output.renderOutput(dataTable, element);\n",
              "          const docLink = document.createElement('div');\n",
              "          docLink.innerHTML = docLinkHtml;\n",
              "          element.appendChild(docLink);\n",
              "        }\n",
              "      </script>\n",
              "    </div>\n",
              "  </div>\n",
              "  "
            ]
          },
          "metadata": {},
          "execution_count": 52
        }
      ]
    },
    {
      "cell_type": "markdown",
      "source": [
        "Since the target was categorical and not continuous, we didn't need to scale the Target variable and hence, we join the two dataframes by matching their indexes so as to avoid data quality issues. This joining process is performed for both the Training and Test dataset."
      ],
      "metadata": {
        "id": "28UhqdiiE7ew"
      }
    },
    {
      "cell_type": "code",
      "source": [
        "Train = pd.merge(X_train, y_train, left_index=True, right_index=True)\n",
        "Train_SVM = Train\n",
        "Train_Balance = Train\n",
        "Train = np.array(Train, dtype=np.float64)\n",
        "Train"
      ],
      "metadata": {
        "colab": {
          "base_uri": "https://localhost:8080/"
        },
        "id": "rToDY8084lpP",
        "outputId": "210fcd51-6a7e-499c-8bd5-e6f0203ea419"
      },
      "execution_count": null,
      "outputs": [
        {
          "output_type": "execute_result",
          "data": {
            "text/plain": [
              "array([[ 0.9328715 ,  1.        ,  1.        , ...,  0.99265172,\n",
              "         0.99201379,  0.        ],\n",
              "       [ 2.5382534 ,  2.        ,  1.        , ...,  0.826016  ,\n",
              "         0.98949   ,  0.        ],\n",
              "       [-0.82540392,  1.        ,  2.        , ..., -0.18538333,\n",
              "        -0.2155    ,  0.        ],\n",
              "       ...,\n",
              "       [ 0.85642474,  2.        ,  2.        , ...,  1.        ,\n",
              "         0.99860714,  1.        ],\n",
              "       [ 0.55063771,  2.        ,  1.        , ...,  0.66729583,\n",
              "        -0.40955833,  0.        ],\n",
              "       [-1.13119095,  2.        ,  2.        , ...,  0.5781    ,\n",
              "         0.3629    ,  0.        ]])"
            ]
          },
          "metadata": {},
          "execution_count": 58
        }
      ]
    },
    {
      "cell_type": "code",
      "source": [
        "Test = pd.merge(X_test, y_test, left_index=True, right_index=True)\n",
        "Test_SVM = Test\n",
        "Test = np.array(Test, dtype=np.float64)\n",
        "Test"
      ],
      "metadata": {
        "colab": {
          "base_uri": "https://localhost:8080/"
        },
        "id": "-qxEER3wA35_",
        "outputId": "17177b8c-d13f-4550-fb1e-975fc5331e97"
      },
      "execution_count": null,
      "outputs": [
        {
          "output_type": "execute_result",
          "data": {
            "text/plain": [
              "array([[-1.13119095,  1.        ,  3.        , ...,  1.011     ,\n",
              "         0.9915    ,  0.        ],\n",
              "       [ 0.09195717,  2.        ,  2.        , ...,  1.        ,\n",
              "         0.99727222,  0.        ],\n",
              "       [-0.44317013,  2.        ,  2.        , ...,  0.99508182,\n",
              "         0.99508182,  0.        ],\n",
              "       ...,\n",
              "       [-0.90185068,  2.        ,  2.        , ..., -0.0221    ,\n",
              "         0.02998   ,  0.        ],\n",
              "       [-1.13119095,  2.        ,  1.        , ...,  1.        ,\n",
              "         0.66335   ,  0.        ],\n",
              "       [-0.97829743,  2.        ,  1.        , ...,  0.6965    ,\n",
              "         0.75105   ,  0.        ]])"
            ]
          },
          "metadata": {},
          "execution_count": 57
        }
      ]
    },
    {
      "cell_type": "markdown",
      "source": [
        "# Models"
      ],
      "metadata": {
        "id": "SDvUK7TZxMmP"
      }
    },
    {
      "cell_type": "code",
      "source": [
        "#@title Model Evaluation Metrics\n",
        "def model_evaluation(name_of_model, y_test, y_pred):\n",
        "    import json\n",
        "    from sklearn import metrics\n",
        "    evaluation = {}\n",
        "    # Calculate accuracy, precision, recall, f1-score, and kappa score\n",
        "    acc = metrics.accuracy_score(y_test, y_pred)\n",
        "    prec = metrics.precision_score(y_test, y_pred)\n",
        "    rec = metrics.recall_score(y_test, y_pred)\n",
        "    f1 = metrics.f1_score(y_test, y_pred)\n",
        "    roc_auc_score = metrics.roc_auc_score(y_test, y_pred)\n",
        "    evaluation.update({\"model\":name_of_model,\"accuracy\": acc,\"precision\":prec,\n",
        "                       \"recall\":rec,\"f1 score\":f1,\n",
        "                       \"roc_auc_score\":roc_auc_score})\n",
        "    print(json.dumps(evaluation, indent=4, sort_keys=True))\n",
        "    return evaluation"
      ],
      "metadata": {
        "id": "DpOEGa04vFlF"
      },
      "execution_count": null,
      "outputs": []
    },
    {
      "cell_type": "code",
      "source": [
        "#@title Logistic Regression { vertical-output: true }\n",
        "import string\n",
        "@dataclass\n",
        "class LogisticRegression:\n",
        "\n",
        "    maxIteration: int\n",
        "    learningRate: float\n",
        "    epsilon: float\n",
        "    train: np.array\n",
        "    test: np.array\n",
        "\n",
        "\n",
        "    def __post_init__(self):\n",
        "        self.train_X, self.test_X, self.train_y, self.test_y = self.dataReader()\n",
        "        self.train_X = self.addX0(self.train_X)\n",
        "        self.test_X = self.addX0(self.test_X)\n",
        "        \n",
        "\n",
        "    def dataReader(self):\n",
        "\n",
        "        train_df = self.train\n",
        "        test_df = self.test\n",
        "        train_X, train_y = train_df[:, :-1], train_df[:, -1]\n",
        "        test_X, test_y = test_df[:, :-1], test_df[:, -1]\n",
        "        return train_X, test_X, train_y, test_y\n",
        "\n",
        "\n",
        "    def addX0(self, X):\n",
        "        return np.column_stack([np.ones(X.shape[0]), X])\n",
        "\n",
        "    def sigmoid(self, z):\n",
        "        sig = 1 / (1+np.exp(-z))\n",
        "        return sig #1 / (1+np.exp(-z))\n",
        "\n",
        "    def predict(self, X):\n",
        "        return X.dot(self.w)\n",
        "\n",
        "    def costFunction(self, X, y):\n",
        "        #log loss\n",
        "        #sigm = self.sigmoid(self.predict(X))\n",
        "        #loss = y.dot(np.log(sigm)) + (1-y).dot(np.log(1 - sigm))\n",
        "        #cost = -loss.sum()\n",
        "\n",
        "        #second approach\n",
        "        sigm = self.predict(X)\n",
        "        cost = (np.log(np.ones(X.shape[0]) + np.exp(sigm)) - sigm*y).sum()\n",
        "\n",
        "        return cost\n",
        "\n",
        "    def costDerivative(self, X, y):\n",
        "        sigm = self.sigmoid(self.predict(X))\n",
        "        grad = (sigm - y).dot(X)\n",
        "        return grad\n",
        "\n",
        "    def gradientDescent(self, X, y):\n",
        "        self.errors= {}\n",
        "        lasterror = float('inf')\n",
        "        for i in tqdm(range(self.maxIteration)):\n",
        "            self.w = self.w - self.learningRate*self.costDerivative(X, y)\n",
        "            currenterror = self.costFunction(X, y)\n",
        "            self.errors.update({i+1: currenterror})\n",
        "            diff = abs(lasterror - currenterror)\n",
        "            lasterror = currenterror\n",
        "            if diff < self.epsilon:\n",
        "                print(\"Model Stopped Learning\")\n",
        "                break\n",
        "\n",
        "        self.plot_cost(self.errors)\n",
        "\n",
        "    def evaluate(self, y, y_hat):\n",
        "\n",
        "        y = (y == 1)\n",
        "        y_hat = (y_hat == 1)\n",
        "        precision = (y & y_hat).sum() / y_hat.sum()\n",
        "        recall = (y & y_hat).sum() / y.sum()\n",
        "        f_score = 2 * precision * recall / (precision + recall)\n",
        "        return f_score, precision, recall\n",
        "\n",
        "    def plot_cost(self, cost_dict): \n",
        "        s = list(cost_dict.keys())\n",
        "        t = list(cost_dict.values())\n",
        "        plt.plot(s,t)\n",
        "        plt.xlabel(\"Iterations\")\n",
        "        plt.ylabel(\"Costs\")\n",
        "\n",
        "    def fit(self):\n",
        "        self.w = np.ones(self.train_X.shape[1], dtype = np.float64)\n",
        "        self.gradientDescent(self.train_X, self.train_y)\n",
        "        y_hat = np.around(self.sigmoid(self.predict(self.train_X)))\n",
        "        f_score, precision, recall = self.evaluate(self.train_y, y_hat)\n",
        "        accuracy = metrics.accuracy_score(self.train_y, y_hat)\n",
        "        print(\"\\nFor Training \\\n",
        "        Accuracy is {} and \\\n",
        "        F-1 Score is {} and \\\n",
        "         Precision is {} and \\\n",
        "          Recall is {}\".format(accuracy, f_score, precision, recall))\n",
        "        y_hat = np.around(self.sigmoid(self.predict(self.test_X)))\n",
        "        f_score, precision, recall = self.evaluate(self.test_y, y_hat)\n",
        "        accuracy = metrics.accuracy_score(self.test_y, y_hat)\n",
        "        print(\"For Test \\\n",
        "        Accuracy is {} and \\\n",
        "        F-1 Score is {} and \\\n",
        "         Precision is {} and \\\n",
        "          Recall is {}\".format(accuracy, f_score, precision, recall))"
      ],
      "metadata": {
        "id": "pyjGknmzxPyc"
      },
      "execution_count": null,
      "outputs": []
    },
    {
      "cell_type": "code",
      "source": [
        "lr = LogisticRegression(train = Train, test = Test, epsilon=0, \n",
        "                        learningRate=0.1e-5, maxIteration=4000)\n",
        "lr.fit()"
      ],
      "metadata": {
        "colab": {
          "base_uri": "https://localhost:8080/",
          "height": 348
        },
        "id": "jYfIj5Ruxceg",
        "outputId": "1daee3c5-0e20-4d9e-f7c9-137407a6895d"
      },
      "execution_count": null,
      "outputs": [
        {
          "output_type": "stream",
          "name": "stderr",
          "text": [
            "100%|██████████| 4000/4000 [00:58<00:00, 68.50it/s] \n"
          ]
        },
        {
          "output_type": "stream",
          "name": "stdout",
          "text": [
            "\n",
            "For Training         Accuracy is 0.816625 and         F-1 Score is 0.43337195828505215 and          Precision is 0.6718562874251497 and           Recall is 0.3198403648802737\n",
            "For Test         Accuracy is 0.8118333333333333 and         F-1 Score is 0.43237807943690304 and          Precision is 0.6991869918699187 and           Recall is 0.3129548762736536\n"
          ]
        },
        {
          "output_type": "display_data",
          "data": {
            "text/plain": [
              "<Figure size 432x288 with 1 Axes>"
            ],
            "image/png": "[encoded data removed]"
          },
          "metadata": {
            "needs_background": "light"
          }
        }
      ]
    },
    {
      "cell_type": "code",
      "source": [
        "#@title K-Fold Cross Validation using Logistic Regression { vertical-output: true }\n",
        "import string\n",
        "@dataclass\n",
        "class LogisticRegression:\n",
        "\n",
        "    maxIteration: int\n",
        "    learningRate: float\n",
        "    epsilon: float\n",
        "    train: np.array\n",
        "    test: np.array\n",
        "\n",
        "\n",
        "    def __post_init__(self):\n",
        "        self.train_X, self.test_X, self.train_y, self.test_y = self.dataReader()\n",
        "        self.train_X = self.addX0(self.train_X)\n",
        "        self.test_X = self.addX0(self.test_X)\n",
        "        \n",
        "\n",
        "    def dataReader(self):\n",
        "\n",
        "        train_df = self.train\n",
        "        test_df = self.test\n",
        "        train_X, train_y = train_df[:, :-1], train_df[:, -1]\n",
        "        test_X, test_y = test_df[:, :-1], test_df[:, -1]\n",
        "        return train_X, test_X, train_y, test_y\n",
        "\n",
        "\n",
        "    def addX0(self, X):\n",
        "        return np.column_stack([np.ones(X.shape[0]), X])\n",
        "\n",
        "    def sigmoid(self, z):\n",
        "        sig = 1 / (1+np.exp(-z))\n",
        "        return sig #1 / (1+np.exp(-z))\n",
        "\n",
        "    def predict(self, X):\n",
        "        return X.dot(self.w)\n",
        "\n",
        "    def costFunction(self, X, y):\n",
        "        #log loss\n",
        "        #sigm = self.sigmoid(self.predict(X))\n",
        "        #loss = y.dot(np.log(sigm)) + (1-y).dot(np.log(1 - sigm))\n",
        "        #cost = -loss.sum()\n",
        "\n",
        "        #second approach\n",
        "        sigm = self.predict(X)\n",
        "        cost = (np.log(np.ones(X.shape[0]) + np.exp(sigm)) - sigm*y).sum()\n",
        "\n",
        "        return cost\n",
        "\n",
        "    def costDerivative(self, X, y):\n",
        "        sigm = self.sigmoid(self.predict(X))\n",
        "        grad = (sigm - y).dot(X)\n",
        "        return grad\n",
        "\n",
        "    def gradientDescent(self, X, y):\n",
        "        self.errors= {}\n",
        "        lasterror = float('inf')\n",
        "        for i in tqdm(range(self.maxIteration)):\n",
        "            self.w = self.w - self.learningRate*self.costDerivative(X, y)\n",
        "            currenterror = self.costFunction(X, y)\n",
        "            self.errors.update({i+1: currenterror})\n",
        "            diff = abs(lasterror - currenterror)\n",
        "            lasterror = currenterror\n",
        "            if diff < self.epsilon:\n",
        "                print(\"Model Stopped Learning\")\n",
        "                break\n",
        "\n",
        "        self.plot_cost(self.errors)\n",
        "\n",
        "    def evaluate(self, y, y_hat):\n",
        "\n",
        "        y = (y == 1)\n",
        "        y_hat = (y_hat == 1)\n",
        "        precision = (y & y_hat).sum() / y_hat.sum()\n",
        "        recall = (y & y_hat).sum() / y.sum()\n",
        "        f_score = 2 * precision * recall / (precision + recall)\n",
        "        return f_score, precision, recall\n",
        "\n",
        "    def plot_cost(self, cost_dict): \n",
        "        s = list(cost_dict.keys())\n",
        "        t = list(cost_dict.values())\n",
        "        plt.plot(s,t)\n",
        "        plt.xlabel(\"Iterations\")\n",
        "        plt.ylabel(\"Costs\")\n",
        "\n",
        "    def fit(self):\n",
        "        self.w = np.ones(self.train_X.shape[1], dtype = np.float64)\n",
        "        self.gradientDescent(self.train_X, self.train_y)\n",
        "        y_hat = np.around(self.sigmoid(self.predict(self.train_X)))"
      ],
      "metadata": {
        "cellView": "form",
        "id": "jm7t0ebl9qlD"
      },
      "execution_count": null,
      "outputs": []
    },
    {
      "cell_type": "code",
      "source": [
        "split = Train\n",
        "\n",
        "from sklearn.model_selection import KFold\n",
        "kf5 = KFold(n_splits=5, shuffle=True)\n",
        "\n",
        "count = 1\n",
        "lists = pd.DataFrame(columns = ['model', 'accuracy', 'precision', 'recall',\n",
        "                                'f1 score', 'roc_auc_score'])\n",
        "\n",
        "for train_index, test_index in kf5.split(split):\n",
        "    lr1 = LogisticRegression(train = Train[train_index], test = Train[test_index],\n",
        "                            epsilon=0, learningRate=0.1e-5, maxIteration=2000)\n",
        "    lr1.fit()\n",
        "    pred = np.around(lr1.sigmoid(lr1.predict(lr1.addX0(Test[:, :-1]))))\n",
        "    actual = Test[:, -1]\n",
        "    \n",
        "    result = model_evaluation('K-Fold-'+(str(count)), actual, pred)\n",
        "    \n",
        "    lists.loc[len(lists)] = result.values()\n",
        "    count+=1\n",
        "print(lists.head())"
      ],
      "metadata": {
        "colab": {
          "base_uri": "https://localhost:8080/",
          "height": 1000
        },
        "id": "RB_Dj4G_ufoQ",
        "outputId": "dba8732f-98c2-4f4d-88f4-7e939bee2103"
      },
      "execution_count": null,
      "outputs": [
        {
          "output_type": "stream",
          "name": "stderr",
          "text": [
            "100%|██████████| 2000/2000 [00:13<00:00, 153.06it/s]\n"
          ]
        },
        {
          "output_type": "stream",
          "name": "stdout",
          "text": [
            "{\n",
            "    \"accuracy\": 0.8095,\n",
            "    \"f1 score\": 0.4218512898330804,\n",
            "    \"model\": \"K-Fold-1\",\n",
            "    \"precision\": 0.6915422885572139,\n",
            "    \"recall\": 0.3034934497816594,\n",
            "    \"roc_auc_score\": 0.6316429635419322\n",
            "}\n"
          ]
        },
        {
          "output_type": "stream",
          "name": "stderr",
          "text": [
            "100%|██████████| 2000/2000 [00:19<00:00, 100.41it/s]\n"
          ]
        },
        {
          "output_type": "stream",
          "name": "stdout",
          "text": [
            "{\n",
            "    \"accuracy\": 0.8096666666666666,\n",
            "    \"f1 score\": 0.42842842842842843,\n",
            "    \"model\": \"K-Fold-2\",\n",
            "    \"precision\": 0.6858974358974359,\n",
            "    \"recall\": 0.31149927219796214,\n",
            "    \"roc_auc_score\": 0.6345650273657343\n",
            "}\n"
          ]
        },
        {
          "output_type": "stream",
          "name": "stderr",
          "text": [
            "100%|██████████| 2000/2000 [00:13<00:00, 147.10it/s]\n"
          ]
        },
        {
          "output_type": "stream",
          "name": "stdout",
          "text": [
            "{\n",
            "    \"accuracy\": 0.8091666666666667,\n",
            "    \"f1 score\": 0.4225920322743319,\n",
            "    \"model\": \"K-Fold-3\",\n",
            "    \"precision\": 0.6880131362889984,\n",
            "    \"recall\": 0.3049490538573508,\n",
            "    \"roc_auc_score\": 0.6319384266260382\n",
            "}\n"
          ]
        },
        {
          "output_type": "stream",
          "name": "stderr",
          "text": [
            "100%|██████████| 2000/2000 [00:11<00:00, 167.55it/s]\n"
          ]
        },
        {
          "output_type": "stream",
          "name": "stdout",
          "text": [
            "{\n",
            "    \"accuracy\": 0.8093333333333333,\n",
            "    \"f1 score\": 0.42280524722502527,\n",
            "    \"model\": \"K-Fold-4\",\n",
            "    \"precision\": 0.6891447368421053,\n",
            "    \"recall\": 0.3049490538573508,\n",
            "    \"roc_auc_score\": 0.6320465113644731\n",
            "}\n"
          ]
        },
        {
          "output_type": "stream",
          "name": "stderr",
          "text": [
            "100%|██████████| 2000/2000 [00:17<00:00, 114.43it/s]\n"
          ]
        },
        {
          "output_type": "stream",
          "name": "stdout",
          "text": [
            "{\n",
            "    \"accuracy\": 0.8093333333333333,\n",
            "    \"f1 score\": 0.4291417165668663,\n",
            "    \"model\": \"K-Fold-5\",\n",
            "    \"precision\": 0.6825396825396826,\n",
            "    \"recall\": 0.3129548762736536,\n",
            "    \"roc_auc_score\": 0.6348604904498402\n",
            "}\n",
            "      model  accuracy  precision    recall  f1 score  roc_auc_score\n",
            "0  K-Fold-1  0.809500   0.691542  0.303493  0.421851       0.631643\n",
            "1  K-Fold-2  0.809667   0.685897  0.311499  0.428428       0.634565\n",
            "2  K-Fold-3  0.809167   0.688013  0.304949  0.422592       0.631938\n",
            "3  K-Fold-4  0.809333   0.689145  0.304949  0.422805       0.632047\n",
            "4  K-Fold-5  0.809333   0.682540  0.312955  0.429142       0.634860\n"
          ]
        },
        {
          "output_type": "display_data",
          "data": {
            "text/plain": [
              "<Figure size 432x288 with 1 Axes>"
            ],
            "image/png": "[encoded data removed]"
          },
          "metadata": {
            "needs_background": "light"
          }
        }
      ]
    },
    {
      "cell_type": "code",
      "source": [
        "#@title SVM Classifier\n",
        "\n",
        "\n",
        "class maxMarginClassifier:\n",
        "\n",
        "      def __init__(self, C, train, test):\n",
        "          self.C = C\n",
        "          self.train = train\n",
        "          self.test = test\n",
        "\n",
        "      def dataReader(self):\n",
        "\n",
        "        train_df = self.train\n",
        "        test_df = self.test\n",
        "\n",
        "        train_X, train_y = train_df.iloc[:, :-1], train_df.iloc[:, -1]\n",
        "        test_X, test_y = test_df.iloc[:, :-1], test_df.iloc[:, -1]\n",
        "        train_y = train_y.replace(0, -1)\n",
        "\n",
        "        train_X = train_X.sample(frac = 0.02, replace = False, \n",
        "                                 random_state = 18).to_numpy()\n",
        "        train_y = train_y.sample(frac = 0.02, replace = False,\n",
        "                                 random_state = 18).to_numpy()\n",
        "\n",
        "\n",
        "        return train_X, test_X, train_y, test_y\n",
        "\n",
        "      def fit(self):\n",
        "\n",
        "          self.train_X, self.test_X, self.train_y, self.test_y = self.dataReader()\n",
        "          N = len(self.train_y)\n",
        "          Xy = self.train_X*self.train_y[:, np.newaxis]\n",
        "          GramXy = np.matmul(Xy, Xy.T)\n",
        "\n",
        "          def Ld0(G, alpha):\n",
        "              obj_fn = alpha.sum() - 0.5*alpha.dot(alpha.dot(G))\n",
        "              return obj_fn \n",
        "          def partialDerivativeLd0(G, alpha):\n",
        "              par_der = np.ones_like(alpha) - alpha.dot(G)\n",
        "              return par_der\n",
        "          \n",
        "          A = np.vstack((-np.eye(N), np.eye(N)))\n",
        "          b = concatenate((np.zeros(N), self.C*np.ones(N)))\n",
        "          constraints = ({'type': 'eq', 'fun': lambda a:np.dot(a, self.train_y), 'jac': lambda a: self.train_y},\n",
        "                         {'type': 'ineq', 'fun': lambda a: b - np.dot(A, a), 'jac': lambda a: -A})\n",
        "          \n",
        "          alpha = np.ones(N)\n",
        "          optRes = optimize.minimize(fun = lambda a: -Ld0(GramXy, a),\n",
        "                                     x0 = alpha,\n",
        "                                     method = 'SLSQP',\n",
        "                                     jac = lambda a: -partialDerivativeLd0(GramXy, a),\n",
        "                                     constraints=constraints)\n",
        "          \n",
        "          self.alpha = optRes.x\n",
        "          self.w = np.sum(self.alpha[:, np.newaxis]*Xy, axis = 0)\n",
        "\n",
        "          epsilon = 1e-4\n",
        "          self.supportVectors = self.train_X[self.alpha > epsilon]\n",
        "          self.supportLabels = self.train_y[self.alpha > epsilon]\n",
        "\n",
        "          b = []\n",
        "          for i in range(len(self.supportLabels)):\n",
        "              b_i = self.supportLabels[i] - np.matmul(self.supportVectors[i].T, self.w)\n",
        "              b.append(b_i)\n",
        "\n",
        "          self.intercept = sum(b)/len(b)\n",
        "          pred = self.predict(self.test_X)\n",
        "          pred = pred.replace(-1, 0)\n",
        "          actual = self.test_y\n",
        "          print('Accuracy is ', metrics.accuracy_score(pred, actual))\n",
        "          print('Confusion Matrix is \\n', metrics.confusion_matrix(actual, pred))\n",
        "          print('F1 Score is ', metrics.f1_score(actual, pred))\n",
        "          print('Precision is ', metrics.precision_score(actual, pred))\n",
        "          print('Recall is ', metrics.recall_score(actual, pred))\n",
        "\n",
        "      def predict(self, X):\n",
        "          return 2*(np.matmul(X, self.w) + self.intercept > 0) - 1"
      ],
      "metadata": {
        "id": "OReuFxQpMml2",
        "cellView": "form"
      },
      "execution_count": null,
      "outputs": []
    },
    {
      "cell_type": "code",
      "source": [
        "model = maxMarginClassifier(C = 5, train = Train_SVM, test = Test_SVM)\n",
        "model.fit()"
      ],
      "metadata": {
        "colab": {
          "base_uri": "https://localhost:8080/"
        },
        "id": "ZnX9B2VJNUtW",
        "outputId": "635be3bf-c1f6-42ad-9d2d-bd7014047060"
      },
      "execution_count": null,
      "outputs": [
        {
          "output_type": "stream",
          "name": "stdout",
          "text": [
            "Accuracy is  0.7858333333333334\n",
            "Confusion Matrix is \n",
            " [[4197  429]\n",
            " [ 856  518]]\n",
            "F1 Score is  0.4463593278759156\n",
            "Precision is  0.5469904963041182\n",
            "Recall is  0.37700145560407566\n"
          ]
        }
      ]
    },
    {
      "cell_type": "markdown",
      "source": [
        "### SVM Classifier with Kernel Trick"
      ],
      "metadata": {
        "id": "qcLTBRq6ziSS"
      }
    },
    {
      "cell_type": "markdown",
      "source": [
        "SVM Classifier has a major assumption that the data given is linearly seperable. However, that might not be the case with our dataset and hence we use a kernel that can successfully seperate data that is not linearly seperable. The kernel trick along with speeding up also seperates data better between multiple classes. For our analysis, we use the Gaussian Radial Basis Function kernel for SVM Classifier. "
      ],
      "metadata": {
        "id": "igl5sVwXypgb"
      }
    },
    {
      "cell_type": "code",
      "source": [
        "#@title SVM Classifier with Kernel Trick { vertical-output: true }\n",
        "\n",
        "\n",
        "\n",
        "class kernelMaxMarginClassifier:\n",
        "\n",
        "      def __init__(self, C, train, test, kernel):\n",
        "          self.C = C\n",
        "          self.train = train\n",
        "          self.test = test\n",
        "          self.kernel = kernel\n",
        "\n",
        "      def dataReader(self):\n",
        "\n",
        "        train_df = self.train\n",
        "        test_df = self.test\n",
        "\n",
        "        train_X, train_y = train_df.iloc[:, :-1], train_df.iloc[:, -1]\n",
        "        test_X, test_y = test_df.iloc[:, :-1], test_df.iloc[:, -1]\n",
        "        train_y = train_y.replace(0, -1)\n",
        "\n",
        "        train_X = train_X.sample(frac = 0.01, replace = False, \n",
        "                                 random_state = 18).to_numpy()\n",
        "        train_y = train_y.sample(frac = 0.01, replace = False,\n",
        "                                 random_state = 18).to_numpy()\n",
        "\n",
        "\n",
        "        return train_X, test_X, train_y, test_y\n",
        "\n",
        "      def fit(self):\n",
        "\n",
        "          self.train_X, self.test_X, self.train_y, self.test_y = self.dataReader()\n",
        "          N = len(self.train_y)\n",
        "          hXX = np.apply_along_axis(lambda x1 : np.apply_along_axis(lambda x2:  self.kernel(x1, x2), 1, self.train_X),\n",
        "                                  1, self.train_X)  \n",
        "          #Xy = self.train_X*self.train_y[:, np.newaxis]\n",
        "          GramhXXy = hXX*np.matmul(self.train_y, self.train_y.T)\n",
        "          #GramXy = np.matmul(Xy, Xy.T)\n",
        "\n",
        "          def Ld0(G, alpha):\n",
        "              obj_fn = alpha.sum() - 0.5*alpha.dot(alpha.dot(G))\n",
        "              return obj_fn \n",
        "          def partialDerivativeLd0(G, alpha):\n",
        "              par_der = np.ones_like(alpha) - alpha.dot(G)\n",
        "              return par_der\n",
        "          \n",
        "          A = np.vstack((-np.eye(N), np.eye(N)))\n",
        "          b = concatenate((np.zeros(N), self.C*np.ones(N)))\n",
        "          constraints = ({'type': 'eq', 'fun': lambda a:np.dot(a, self.train_y), 'jac': lambda a: self.train_y},\n",
        "                         {'type': 'ineq', 'fun': lambda a: b - np.dot(A, a), 'jac': lambda a: -A})\n",
        "          \n",
        "          alpha = np.ones(N)\n",
        "          optRes = optimize.minimize(fun = lambda a: -Ld0(GramhXXy, a),\n",
        "                                     x0 = alpha,\n",
        "                                     method = 'SLSQP',\n",
        "                                     jac = lambda a: -partialDerivativeLd0(GramhXXy, a),\n",
        "                                     constraints=constraints)\n",
        "          \n",
        "          self.alpha = optRes.x\n",
        "          self.w = np.sum(self.alpha[:, np.newaxis]*hXX, axis = 0)\n",
        "\n",
        "          epsilon = 1e-6\n",
        "          self.supportVectors = self.train_X[self.alpha > epsilon]\n",
        "          self.supportLabels = self.train_y[self.alpha > epsilon]\n",
        "          self.supportYalphas = self.train_y[self.alpha > epsilon]*self.alpha[self.alpha > epsilon]\n",
        "\n",
        "\n",
        "          #b = []\n",
        "          #for i in range(len(self.supportLabels)):\n",
        "          #    b_i = self.supportLabels[i] - np.matmul(self.supportVectors[i], self.w)\n",
        "          #    b.append(b_i)\n",
        "\n",
        "          #self.intercept = sum(b)/len(b)\n",
        "          pred = pd.DataFrame(self.predict(self.test_X))\n",
        "          pred = pred.replace(-1, 0)\n",
        "          actual = self.test_y\n",
        "          print('Accuracy is ', metrics.accuracy_score(pred, actual))\n",
        "          print('Confusion Matrix is \\n', metrics.confusion_matrix(actual, pred))\n",
        "          print('F1 Score is ', metrics.f1_score(actual, pred))\n",
        "          print('Precision is ', metrics.precision_score(actual, pred))\n",
        "          print('Recall is ', metrics.recall_score(actual, pred))\n",
        "\n",
        "      def predict(self, X):\n",
        "          def predict1(x):\n",
        "              x1 = np.apply_along_axis(lambda s: self.kernel(s, x), 1, self.supportVectors)\n",
        "              x2 = x1 * self.supportYalphas\n",
        "              return np.sum(x2)\n",
        "          func = np.apply_along_axis(predict1, 1, X)\n",
        "          return 2*(func > 0) - 1"
      ],
      "metadata": {
        "id": "-67mq-yYX6cE"
      },
      "execution_count": null,
      "outputs": []
    },
    {
      "cell_type": "code",
      "source": [
        "#@title Gaussian Radial Basis Function Kernel\n",
        "def GRBF(x1, x2):\n",
        "    diff = x1 - x2\n",
        "    return np.exp(-np.dot(diff, diff) * len(x1) / 2)"
      ],
      "metadata": {
        "id": "-8pYQzDjw9CA"
      },
      "execution_count": null,
      "outputs": []
    },
    {
      "cell_type": "code",
      "source": [
        "ksvm = kernelMaxMarginClassifier(C=5, train=Train_SVM, test=Test_SVM, kernel=GRBF)\n",
        "ksvm.fit()"
      ],
      "metadata": {
        "colab": {
          "base_uri": "https://localhost:8080/"
        },
        "id": "RQoMpYUgpsjA",
        "outputId": "979de55e-9715-4c3a-fba6-2536da253d6e"
      },
      "execution_count": null,
      "outputs": [
        {
          "output_type": "stream",
          "name": "stdout",
          "text": [
            "Accuracy is  0.7043333333333334\n",
            "Confusion Matrix is \n",
            " [[3734  892]\n",
            " [ 882  492]]\n",
            "F1 Score is  0.3567802755620015\n",
            "Precision is  0.3554913294797688\n",
            "Recall is  0.35807860262008734\n"
          ]
        }
      ]
    },
    {
      "cell_type": "code",
      "source": [
        "#@title Gaussian Naive Bayes Classifier\n",
        "\n",
        "\n",
        "class GaussianNaiveBayes:\n",
        "\n",
        "\n",
        "    def __init__(self, train, test) -> None:\n",
        "        self.train_df = train\n",
        "        self.test_df = test\n",
        "    \n",
        "    def datasetReader(self):\n",
        "        train_df,test_df=np.array(self.train_df,dtype=np.float64),np.array(self.test_df,dtype=np.float64)\n",
        "        self.X_train,self.y_train = train_df[:, :-1], train_df[:, -1]\n",
        "        self.X_test,self.y_test = test_df[:, :-1], test_df[:, -1]\n",
        "        return self.X_train, self.y_train, self.X_test, self.y_test\n",
        "\n",
        "    def fitDistribution(self, data):\n",
        "        mean = np.mean(data)\n",
        "        std = np.std(data)\n",
        "        dist = norm(mean,std)\n",
        "        return dist\n",
        "    \n",
        "    def probability(self, X, dist, prior):\n",
        "        prob = prior\n",
        "        count = 0\n",
        "        for each in dist:\n",
        "          prob = prob * each.pdf(X[count])\n",
        "          count +=1\n",
        "        return prob\n",
        "    \n",
        "    def fit(self):\n",
        "        self.X_train, self.y_train, self.X_test, self.y_test = self.datasetReader()\n",
        "        \n",
        "        self.X0_train = self.X_train[self.y_train == 0] \n",
        "        self.X1_train = self.X_train[self.y_train == 1]\n",
        "        \n",
        "        self.prior_1 = len(self.X1_train)/ len(self.X_train)\n",
        "        self.prior_0 = len(self.X0_train)/ len(self.X_train)\n",
        "\n",
        "        self.dist0 = []\n",
        "        self.dist1 = []\n",
        "\n",
        "        for i in range(34):\n",
        "          self.dist0.append(self.fitDistribution(self.X0_train[:,i]))\n",
        "          self.dist1.append(self.fitDistribution(self.X1_train[:,i]))\n",
        "\n",
        "        actual = self.y_test\n",
        "        pred = self.predict()\n",
        "        print('Accuracy is ', metrics.accuracy_score(actual, pred))\n",
        "        print('Confusion Matrix is \\n', metrics.confusion_matrix(actual, pred))\n",
        "        print('F1 Score is ', metrics.f1_score(actual, pred))\n",
        "        print('Precision is ', metrics.precision_score(actual, pred))\n",
        "        print('Recall is ', metrics.recall_score(actual, pred))\n",
        "\n",
        "\n",
        "    def predict(self):\n",
        "        pred = []\n",
        "        for sample, target in zip(self.X_test, self.y_test):\n",
        "            py0 = self.probability(sample, self.dist0, self.prior_0)\n",
        "            py1 = self.probability(sample, self.dist1, self.prior_1)\n",
        "            \n",
        "            y_predict = np.argmax([py0,py1])\n",
        "            pred.append(y_predict)      \n",
        "        return pred   "
      ],
      "metadata": {
        "id": "XSD70CGHU9UH"
      },
      "execution_count": null,
      "outputs": []
    },
    {
      "cell_type": "code",
      "source": [
        "gnb = GaussianNaiveBayes(train = Train, test = Test)\n",
        "gnb.fit()"
      ],
      "metadata": {
        "colab": {
          "base_uri": "https://localhost:8080/"
        },
        "id": "Kvc-pyCEXuG0",
        "outputId": "ba79154c-17bb-418e-a087-08ea656e02d4"
      },
      "execution_count": null,
      "outputs": [
        {
          "output_type": "stream",
          "name": "stdout",
          "text": [
            "Accuracy is  0.7186666666666667\n",
            "Confusion Matrix is \n",
            " [[3560 1066]\n",
            " [ 622  752]]\n",
            "F1 Score is  0.47117794486215536\n",
            "Precision is  0.4136413641364136\n",
            "Recall is  0.5473071324599709\n"
          ]
        }
      ]
    },
    {
      "cell_type": "code",
      "source": [
        "#@title K-Fold Cross Validation using Gaussian Naive Bayes Classifier\n",
        "\n",
        "\n",
        "class kfGaussianNaiveBayes:\n",
        "\n",
        "\n",
        "    def __init__(self, train, test) -> None:\n",
        "        self.train_df = train\n",
        "        self.test_df = test\n",
        "    \n",
        "    def datasetReader(self):\n",
        "        train_df,test_df=np.array(self.train_df,dtype=np.float64),np.array(self.test_df,dtype=np.float64)\n",
        "        self.X_train,self.y_train = train_df[:, :-1], train_df[:, -1]\n",
        "        self.X_test,self.y_test = test_df[:, :-1], test_df[:, -1]\n",
        "        return self.X_train, self.y_train, self.X_test, self.y_test\n",
        "\n",
        "    def fitDistribution(self, data):\n",
        "        mean = np.mean(data)\n",
        "        std = np.std(data)\n",
        "        dist = norm(mean,std)\n",
        "        return dist\n",
        "    \n",
        "    def probability(self, X, dist, prior):\n",
        "        prob = prior\n",
        "        count = 0\n",
        "        for each in dist:\n",
        "          prob = prob * each.pdf(X[count])\n",
        "          count +=1\n",
        "        return prob\n",
        "    \n",
        "    def fit(self):\n",
        "        self.X_train, self.y_train, self.X_test, self.y_test = self.datasetReader()\n",
        "        \n",
        "        self.X0_train = self.X_train[self.y_train == 0] \n",
        "        self.X1_train = self.X_train[self.y_train == 1]\n",
        "        \n",
        "        self.prior_1 = len(self.X1_train)/ len(self.X_train)\n",
        "        self.prior_0 = len(self.X0_train)/ len(self.X_train)\n",
        "\n",
        "        self.dist0 = []\n",
        "        self.dist1 = []\n",
        "\n",
        "        for i in range(34):\n",
        "          self.dist0.append(self.fitDistribution(self.X0_train[:,i]))\n",
        "          self.dist1.append(self.fitDistribution(self.X1_train[:,i]))\n",
        "\n",
        "    def predict(self):\n",
        "        pred = []\n",
        "        for sample, target in zip(self.X_test, self.y_test):\n",
        "            py0 = self.probability(sample, self.dist0, self.prior_0)\n",
        "            py1 = self.probability(sample, self.dist1, self.prior_1)\n",
        "            \n",
        "            y_predict = np.argmax([py0,py1])\n",
        "            pred.append(y_predict)      \n",
        "        return pred   "
      ],
      "metadata": {
        "cellView": "form",
        "id": "B5ttJXBIHz5b"
      },
      "execution_count": null,
      "outputs": []
    },
    {
      "cell_type": "code",
      "source": [
        "rn = Train\n",
        "\n",
        "from sklearn.model_selection import KFold\n",
        "kf5 = KFold(n_splits=5, shuffle=True)\n",
        "\n",
        "count = 1\n",
        "lists = pd.DataFrame(columns = ['model', 'accuracy', 'precision', 'recall',\n",
        "                                'f1 score', 'roc_auc_score'])\n",
        "# to get the values from our data, we use .iloc to access a value at particular index\n",
        "for train_index, test_index in kf5.split(rn):\n",
        "    clf1 = kfGaussianNaiveBayes(Train[train_index], Train[test_index])\n",
        "    clf1.fit()\n",
        "    predicted1 = clf1.predict()\n",
        "    \n",
        "    result = model_evaluation('GNB K-Fold-'+(str(count)), Train[test_index, -1], predicted1)\n",
        "    \n",
        "    lists.loc[len(lists)] = result.values()\n",
        "    count+=1\n",
        "print(lists.head())"
      ],
      "metadata": {
        "colab": {
          "base_uri": "https://localhost:8080/"
        },
        "id": "AJEMwuMkEbdU",
        "outputId": "33b217aa-e403-4807-b5b4-02cf6978d3f7"
      },
      "execution_count": null,
      "outputs": [
        {
          "output_type": "stream",
          "name": "stdout",
          "text": [
            "{\n",
            "    \"accuracy\": 0.7364583333333333,\n",
            "    \"f1 score\": 0.49460647223331994,\n",
            "    \"model\": \"GNB K-Fold-1\",\n",
            "    \"precision\": 0.4292649098474341,\n",
            "    \"recall\": 0.5834118755890669,\n",
            "    \"roc_auc_score\": 0.6816497730446003\n",
            "}\n",
            "{\n",
            "    \"accuracy\": 0.706875,\n",
            "    \"f1 score\": 0.4635913076629813,\n",
            "    \"model\": \"GNB K-Fold-2\",\n",
            "    \"precision\": 0.38603174603174606,\n",
            "    \"recall\": 0.5801526717557252,\n",
            "    \"roc_auc_score\": 0.6612117303341526\n",
            "}\n",
            "{\n",
            "    \"accuracy\": 0.74375,\n",
            "    \"f1 score\": 0.4987775061124694,\n",
            "    \"model\": \"GNB K-Fold-3\",\n",
            "    \"precision\": 0.44187725631768954,\n",
            "    \"recall\": 0.5724976613657624,\n",
            "    \"roc_auc_score\": 0.6826573002620825\n",
            "}\n",
            "{\n",
            "    \"accuracy\": 0.7277083333333333,\n",
            "    \"f1 score\": 0.4819659135949267,\n",
            "    \"model\": \"GNB K-Fold-4\",\n",
            "    \"precision\": 0.4141689373297003,\n",
            "    \"recall\": 0.576303317535545,\n",
            "    \"roc_auc_score\": 0.6733318990881997\n",
            "}\n",
            "{\n",
            "    \"accuracy\": 0.72125,\n",
            "    \"f1 score\": 0.4635124298315958,\n",
            "    \"model\": \"GNB K-Fold-5\",\n",
            "    \"precision\": 0.3945392491467577,\n",
            "    \"recall\": 0.5617103984450923,\n",
            "    \"roc_auc_score\": 0.6632471377004034\n",
            "}\n",
            "          model  accuracy  precision    recall  f1 score  roc_auc_score\n",
            "0  GNB K-Fold-1  0.736458   0.429265  0.583412  0.494606       0.681650\n",
            "1  GNB K-Fold-2  0.706875   0.386032  0.580153  0.463591       0.661212\n",
            "2  GNB K-Fold-3  0.743750   0.441877  0.572498  0.498778       0.682657\n",
            "3  GNB K-Fold-4  0.727708   0.414169  0.576303  0.481966       0.673332\n",
            "4  GNB K-Fold-5  0.721250   0.394539  0.561710  0.463512       0.663247\n"
          ]
        }
      ]
    },
    {
      "cell_type": "code",
      "source": [
        "#@title Neural Networks { run: \"auto\" }\n",
        "\n",
        "X_train, X_val, y_train, y_val= train_test_split(X_train,y_train,test_size=0.25)\n",
        "\n",
        "\n",
        "model = Sequential()\n",
        "# Layers\n",
        "\n",
        "model.add(Dense(units=512, activation='sigmoid', input_dim=X.shape[1]))\n",
        "model.add(Dense(units=128, activation='relu'))\n",
        "model.add(Dense(units=624, activation='sigmoid'))\n",
        "model.add(Dense(units=256, activation='relu'))\n",
        "model.add(Dense(units=128, activation='relu'))\n",
        "model.add(Dense(units=32, activation='softmax'))\n",
        "model.add(Dense(units=1, activation='sigmoid'))\n",
        "\n",
        "model.compile(loss='binary_crossentropy', optimizer='sgd', metrics=['accuracy'])\n",
        "\n",
        "valid_accuracy=[]\n",
        "train_accuracy=[]\n",
        "\n",
        "for epochs in [50]:\n",
        "  history = model.fit(X_train, y_train, epochs=epochs, verbose=1, batch_size=64, validation_data= (X_val, y_val))\n",
        "  valid_accuracy.append(model.evaluate(X_val, y_val))\n",
        "  train_accuracy.append(model.evaluate(X_train, y_train))\n",
        "\n",
        "\n",
        "# Accuracy and Loss of ANN\n",
        "train_loss = history.history['loss']\n",
        "valid_loss   = history.history['val_loss']\n",
        "train_accuracy  = history.history['accuracy']\n",
        "valid_accuracy = history.history['val_accuracy']"
      ],
      "metadata": {
        "id": "uygRMWOgOg4s",
        "colab": {
          "base_uri": "https://localhost:8080/"
        },
        "outputId": "59ad1326-ff53-4678-c9e8-7ced6c85c732"
      },
      "execution_count": null,
      "outputs": [
        {
          "output_type": "stream",
          "name": "stdout",
          "text": [
            "Epoch 1/50\n",
            "211/211 [==============================] - 3s 11ms/step - loss: 0.6203 - accuracy: 0.7486 - val_loss: 0.5515 - val_accuracy: 0.7804\n",
            "Epoch 2/50\n",
            "211/211 [==============================] - 3s 12ms/step - loss: 0.5356 - accuracy: 0.7807 - val_loss: 0.5293 - val_accuracy: 0.7804\n",
            "Epoch 3/50\n",
            "211/211 [==============================] - 3s 14ms/step - loss: 0.5275 - accuracy: 0.7807 - val_loss: 0.5269 - val_accuracy: 0.7804\n",
            "Epoch 4/50\n",
            "211/211 [==============================] - 2s 11ms/step - loss: 0.5263 - accuracy: 0.7807 - val_loss: 0.5264 - val_accuracy: 0.7804\n",
            "Epoch 5/50\n",
            "211/211 [==============================] - 2s 11ms/step - loss: 0.5260 - accuracy: 0.7807 - val_loss: 0.5263 - val_accuracy: 0.7804\n",
            "Epoch 6/50\n",
            "211/211 [==============================] - 2s 11ms/step - loss: 0.5260 - accuracy: 0.7807 - val_loss: 0.5263 - val_accuracy: 0.7804\n",
            "Epoch 7/50\n",
            "211/211 [==============================] - 2s 10ms/step - loss: 0.5260 - accuracy: 0.7807 - val_loss: 0.5263 - val_accuracy: 0.7804\n",
            "Epoch 8/50\n",
            "211/211 [==============================] - 2s 10ms/step - loss: 0.5260 - accuracy: 0.7807 - val_loss: 0.5263 - val_accuracy: 0.7804\n",
            "Epoch 9/50\n",
            "211/211 [==============================] - 2s 11ms/step - loss: 0.5260 - accuracy: 0.7807 - val_loss: 0.5263 - val_accuracy: 0.7804\n",
            "Epoch 10/50\n",
            "211/211 [==============================] - 2s 10ms/step - loss: 0.5260 - accuracy: 0.7807 - val_loss: 0.5263 - val_accuracy: 0.7804\n",
            "Epoch 11/50\n",
            "211/211 [==============================] - 2s 11ms/step - loss: 0.5260 - accuracy: 0.7807 - val_loss: 0.5263 - val_accuracy: 0.7804\n",
            "Epoch 12/50\n",
            "211/211 [==============================] - 2s 10ms/step - loss: 0.5260 - accuracy: 0.7807 - val_loss: 0.5263 - val_accuracy: 0.7804\n",
            "Epoch 13/50\n",
            "211/211 [==============================] - 2s 10ms/step - loss: 0.5260 - accuracy: 0.7807 - val_loss: 0.5263 - val_accuracy: 0.7804\n",
            "Epoch 14/50\n",
            "211/211 [==============================] - 2s 11ms/step - loss: 0.5260 - accuracy: 0.7807 - val_loss: 0.5263 - val_accuracy: 0.7804\n",
            "Epoch 15/50\n",
            "211/211 [==============================] - 2s 10ms/step - loss: 0.5260 - accuracy: 0.7807 - val_loss: 0.5263 - val_accuracy: 0.7804\n",
            "Epoch 16/50\n",
            "211/211 [==============================] - 2s 11ms/step - loss: 0.5260 - accuracy: 0.7807 - val_loss: 0.5263 - val_accuracy: 0.7804\n",
            "Epoch 17/50\n",
            "211/211 [==============================] - 2s 10ms/step - loss: 0.5260 - accuracy: 0.7807 - val_loss: 0.5263 - val_accuracy: 0.7804\n",
            "Epoch 18/50\n",
            "211/211 [==============================] - 2s 11ms/step - loss: 0.5260 - accuracy: 0.7807 - val_loss: 0.5263 - val_accuracy: 0.7804\n",
            "Epoch 19/50\n",
            "211/211 [==============================] - 2s 11ms/step - loss: 0.5260 - accuracy: 0.7807 - val_loss: 0.5263 - val_accuracy: 0.7804\n",
            "Epoch 20/50\n",
            "211/211 [==============================] - 2s 10ms/step - loss: 0.5260 - accuracy: 0.7807 - val_loss: 0.5263 - val_accuracy: 0.7804\n",
            "Epoch 21/50\n",
            "211/211 [==============================] - 2s 10ms/step - loss: 0.5260 - accuracy: 0.7807 - val_loss: 0.5263 - val_accuracy: 0.7804\n",
            "Epoch 22/50\n",
            "211/211 [==============================] - 2s 10ms/step - loss: 0.5260 - accuracy: 0.7807 - val_loss: 0.5263 - val_accuracy: 0.7804\n",
            "Epoch 23/50\n",
            "211/211 [==============================] - 2s 11ms/step - loss: 0.5260 - accuracy: 0.7807 - val_loss: 0.5263 - val_accuracy: 0.7804\n",
            "Epoch 24/50\n",
            "211/211 [==============================] - 2s 11ms/step - loss: 0.5260 - accuracy: 0.7807 - val_loss: 0.5263 - val_accuracy: 0.7804\n",
            "Epoch 25/50\n",
            "211/211 [==============================] - 2s 11ms/step - loss: 0.5260 - accuracy: 0.7807 - val_loss: 0.5263 - val_accuracy: 0.7804\n",
            "Epoch 26/50\n",
            "211/211 [==============================] - 2s 11ms/step - loss: 0.5259 - accuracy: 0.7807 - val_loss: 0.5263 - val_accuracy: 0.7804\n",
            "Epoch 27/50\n",
            "211/211 [==============================] - 2s 10ms/step - loss: 0.5260 - accuracy: 0.7807 - val_loss: 0.5263 - val_accuracy: 0.7804\n",
            "Epoch 28/50\n",
            "211/211 [==============================] - 2s 10ms/step - loss: 0.5260 - accuracy: 0.7807 - val_loss: 0.5263 - val_accuracy: 0.7804\n",
            "Epoch 29/50\n",
            "211/211 [==============================] - 2s 11ms/step - loss: 0.5259 - accuracy: 0.7807 - val_loss: 0.5263 - val_accuracy: 0.7804\n",
            "Epoch 30/50\n",
            "211/211 [==============================] - 2s 10ms/step - loss: 0.5259 - accuracy: 0.7807 - val_loss: 0.5263 - val_accuracy: 0.7804\n",
            "Epoch 31/50\n",
            "211/211 [==============================] - 2s 10ms/step - loss: 0.5259 - accuracy: 0.7807 - val_loss: 0.5263 - val_accuracy: 0.7804\n",
            "Epoch 32/50\n",
            "211/211 [==============================] - 2s 11ms/step - loss: 0.5259 - accuracy: 0.7807 - val_loss: 0.5263 - val_accuracy: 0.7804\n",
            "Epoch 33/50\n",
            "211/211 [==============================] - 2s 10ms/step - loss: 0.5259 - accuracy: 0.7807 - val_loss: 0.5263 - val_accuracy: 0.7804\n",
            "Epoch 34/50\n",
            "211/211 [==============================] - 2s 10ms/step - loss: 0.5259 - accuracy: 0.7807 - val_loss: 0.5263 - val_accuracy: 0.7804\n",
            "Epoch 35/50\n",
            "211/211 [==============================] - 2s 11ms/step - loss: 0.5259 - accuracy: 0.7807 - val_loss: 0.5263 - val_accuracy: 0.7804\n",
            "Epoch 36/50\n",
            "211/211 [==============================] - 2s 10ms/step - loss: 0.5259 - accuracy: 0.7807 - val_loss: 0.5263 - val_accuracy: 0.7804\n",
            "Epoch 37/50\n",
            "211/211 [==============================] - 2s 10ms/step - loss: 0.5259 - accuracy: 0.7807 - val_loss: 0.5263 - val_accuracy: 0.7804\n",
            "Epoch 38/50\n",
            "211/211 [==============================] - 2s 10ms/step - loss: 0.5259 - accuracy: 0.7807 - val_loss: 0.5263 - val_accuracy: 0.7804\n",
            "Epoch 39/50\n",
            "211/211 [==============================] - 2s 10ms/step - loss: 0.5259 - accuracy: 0.7807 - val_loss: 0.5263 - val_accuracy: 0.7804\n",
            "Epoch 40/50\n",
            "211/211 [==============================] - 2s 10ms/step - loss: 0.5259 - accuracy: 0.7807 - val_loss: 0.5263 - val_accuracy: 0.7804\n",
            "Epoch 41/50\n",
            "211/211 [==============================] - 2s 10ms/step - loss: 0.5259 - accuracy: 0.7807 - val_loss: 0.5262 - val_accuracy: 0.7804\n",
            "Epoch 42/50\n",
            "211/211 [==============================] - 2s 10ms/step - loss: 0.5259 - accuracy: 0.7807 - val_loss: 0.5262 - val_accuracy: 0.7804\n",
            "Epoch 43/50\n",
            "211/211 [==============================] - 2s 11ms/step - loss: 0.5259 - accuracy: 0.7807 - val_loss: 0.5262 - val_accuracy: 0.7804\n",
            "Epoch 44/50\n",
            "211/211 [==============================] - 4s 21ms/step - loss: 0.5259 - accuracy: 0.7807 - val_loss: 0.5262 - val_accuracy: 0.7804\n",
            "Epoch 45/50\n",
            "211/211 [==============================] - 2s 11ms/step - loss: 0.5259 - accuracy: 0.7807 - val_loss: 0.5262 - val_accuracy: 0.7804\n",
            "Epoch 46/50\n",
            "211/211 [==============================] - 2s 10ms/step - loss: 0.5259 - accuracy: 0.7807 - val_loss: 0.5262 - val_accuracy: 0.7804\n",
            "Epoch 47/50\n",
            "211/211 [==============================] - 2s 10ms/step - loss: 0.5258 - accuracy: 0.7807 - val_loss: 0.5262 - val_accuracy: 0.7804\n",
            "Epoch 48/50\n",
            "211/211 [==============================] - 2s 10ms/step - loss: 0.5258 - accuracy: 0.7807 - val_loss: 0.5262 - val_accuracy: 0.7804\n",
            "Epoch 49/50\n",
            "211/211 [==============================] - 2s 11ms/step - loss: 0.5258 - accuracy: 0.7807 - val_loss: 0.5262 - val_accuracy: 0.7804\n",
            "Epoch 50/50\n",
            "211/211 [==============================] - 2s 11ms/step - loss: 0.5258 - accuracy: 0.7807 - val_loss: 0.5262 - val_accuracy: 0.7804\n",
            "141/141 [==============================] - 1s 4ms/step - loss: 0.5262 - accuracy: 0.7804\n",
            "422/422 [==============================] - 2s 4ms/step - loss: 0.5258 - accuracy: 0.7807\n"
          ]
        }
      ]
    },
    {
      "cell_type": "markdown",
      "source": [
        "# Model Implementation with Balanced Data"
      ],
      "metadata": {
        "id": "7d87nwuscEJW"
      }
    },
    {
      "cell_type": "markdown",
      "source": [
        "All the Models we implemented before were implemented using data which was imbalanced. The majority class was Target with a value '0' which specifies that the given client did not default on their credit card payment. If the samples in the training set are not evenly distributed, we may run the risk of creating a model that is naive and just push the target value to majority class and still have a good accuracy and precision score, but, this model will have not learned anything meaningful and may misclassify the clients that will actually default on their payment thus causing a huge problem. "
      ],
      "metadata": {
        "id": "szEO6uitIzps"
      }
    },
    {
      "cell_type": "markdown",
      "source": [
        "## Over-Sampling"
      ],
      "metadata": {
        "id": "VKcWDUtb0WlP"
      }
    },
    {
      "cell_type": "markdown",
      "source": [
        "One of the techniques to balance the data is over-sampling. Here, the minority class which is our desired target is sampled multiple times with repeating datapoints so as to match the number of majority class samples. However, over-sampling using repeated datapoints may cause the model to overfit on the Training data and prevent it from generalizing better. To prevent this, we use Synthetic Minority Oversampling Technique. This technique maps feature space according to each target class and its nearest neighbours and then samples features. Using this technique, the instances generated are not repeated datapoints but datapoints with combination of features of target class as well as the features of its nearest neighbours. This makes the data a bit generalized and not susceptible to overfitting. "
      ],
      "metadata": {
        "id": "S2TNGkUwMOHa"
      }
    },
    {
      "cell_type": "code",
      "source": [
        "from imblearn.over_sampling import SMOTE\n",
        "from collections import Counter\n",
        "\n",
        "smote = SMOTE(k_neighbors=10)\n",
        "X = Train_Balance.iloc[:, :-1]\n",
        "y = Train_Balance.iloc[:, -1]\n",
        "\n",
        "# fit target and predictor variable\n",
        "x_smote , y_smote = smote.fit_resample(X, y)\n",
        "\n",
        "print('Original dataset shape:', Counter(y))\n",
        "print('Resampled dataset shape:', Counter(y_smote))"
      ],
      "metadata": {
        "colab": {
          "base_uri": "https://localhost:8080/"
        },
        "id": "G0N5NkT_cDNg",
        "outputId": "5b990f8f-4072-4030-faed-6bebae9bd540"
      },
      "execution_count": null,
      "outputs": [
        {
          "output_type": "stream",
          "name": "stdout",
          "text": [
            "Original dataset shape: Counter({0: 18738, 1: 5262})\n",
            "Resampled dataset shape: Counter({0: 18738, 1: 18738})\n"
          ]
        }
      ]
    },
    {
      "cell_type": "code",
      "source": [
        "Train_smote = pd.merge(left = x_smote, right = y_smote,  left_index=True,\n",
        "                       right_index=True)\n",
        "Train_smote = np.array(Train_smote, dtype=np.float64)\n",
        "\n",
        "lr = LogisticRegression(train = Train_smote, test = Test, epsilon=0, \n",
        "                        learningRate=0.1e-5, maxIteration=3000)\n",
        "lr.fit()"
      ],
      "metadata": {
        "colab": {
          "base_uri": "https://localhost:8080/",
          "height": 296
        },
        "id": "-KsUuNRiqxii",
        "outputId": "cf032621-e95e-4e60-d521-2056a458af87"
      },
      "execution_count": null,
      "outputs": [
        {
          "output_type": "stream",
          "name": "stderr",
          "text": [
            "100%|██████████| 3000/3000 [00:24<00:00, 123.86it/s]\n"
          ]
        },
        {
          "output_type": "display_data",
          "data": {
            "text/plain": [
              "<Figure size 432x288 with 1 Axes>"
            ],
            "image/png": "[encoded data removed]"
          },
          "metadata": {
            "needs_background": "light"
          }
        }
      ]
    },
    {
      "cell_type": "code",
      "source": [
        "Train_smote = pd.merge(left = x_smote, right = y_smote,  left_index=True,\n",
        "                       right_index=True)\n",
        "svm = maxMarginClassifier(C = 5, train = Train_smote, test = Test_SVM)\n",
        "svm.fit()"
      ],
      "metadata": {
        "colab": {
          "base_uri": "https://localhost:8080/"
        },
        "id": "b9FUhjASr5aJ",
        "outputId": "25eb1406-0337-496e-930d-107dde7f261e"
      },
      "execution_count": null,
      "outputs": [
        {
          "output_type": "stream",
          "name": "stdout",
          "text": [
            "Accuracy is  0.713\n",
            "Confusion Matrix is \n",
            " [[3421 1205]\n",
            " [ 517  857]]\n",
            "F1 Score is  0.49883585564610017\n",
            "Precision is  0.41561590688651795\n",
            "Recall is  0.62372634643377\n"
          ]
        }
      ]
    },
    {
      "cell_type": "code",
      "source": [
        "Train_smote = pd.merge(left = x_smote, right = y_smote,  left_index=True,\n",
        "                       right_index=True)\n",
        "ksvm = kernelMaxMarginClassifier(C=5, train=Train_smote, test=Test_SVM, kernel=GRBF)\n",
        "ksvm.fit()"
      ],
      "metadata": {
        "colab": {
          "base_uri": "https://localhost:8080/"
        },
        "id": "z6l8Vcwo2FBu",
        "outputId": "4fe5796a-1b10-4c7d-ddd8-ac51abaa9d41"
      },
      "execution_count": null,
      "outputs": [
        {
          "output_type": "stream",
          "name": "stdout",
          "text": [
            "Accuracy is  0.6255\n",
            "Confusion Matrix is \n",
            " [[2911 1715]\n",
            " [ 532  842]]\n",
            "F1 Score is  0.428389722716866\n",
            "Precision is  0.3292921392256551\n",
            "Recall is  0.6128093158660844\n"
          ]
        }
      ]
    },
    {
      "cell_type": "code",
      "source": [
        "Train_smote = pd.merge(left = x_smote, right = y_smote,  left_index=True,\n",
        "                       right_index=True)\n",
        "gnb = GaussianNaiveBayes(train = Train, test = Test)\n",
        "gnb.fit()"
      ],
      "metadata": {
        "colab": {
          "base_uri": "https://localhost:8080/"
        },
        "id": "v1Lvh3sUxvvU",
        "outputId": "7ece8a35-5484-4503-bdf7-4bb73c94bf33"
      },
      "execution_count": null,
      "outputs": [
        {
          "output_type": "stream",
          "name": "stdout",
          "text": [
            "Accuracy is  0.7186666666666667\n",
            "Confusion Matrix is \n",
            " [[3560 1066]\n",
            " [ 622  752]]\n",
            "F1 Score is  0.47117794486215536\n",
            "Precision is  0.4136413641364136\n",
            "Recall is  0.5473071324599709\n"
          ]
        }
      ]
    },
    {
      "cell_type": "code",
      "source": [
        "#@title Neural Networks { run: \"auto\" }\n",
        "\n",
        "\n",
        "X_train, X_test, y_train, y_test= train_test_split(Train_smote.iloc[:, :-1],\n",
        "                                                   Train_smote.iloc[:, -1],\n",
        "                                                   test_size=0.3)\n",
        "X_val, X_test, y_val, y_test= train_test_split(X_train,y_train,test_size=0.3)\n",
        "\n",
        "\n",
        "\n",
        "model = Sequential()\n",
        "# Layers\n",
        "\n",
        "model.add(Dense(units=512, activation='sigmoid', input_dim=X.shape[1]))\n",
        "model.add(Dense(units=128, activation='relu'))\n",
        "model.add(Dense(units=624, activation='sigmoid'))\n",
        "model.add(Dense(units=256, activation='relu'))\n",
        "model.add(Dense(units=128, activation='relu'))\n",
        "model.add(Dense(units=32, activation='softmax'))\n",
        "model.add(Dense(units=1, activation='sigmoid'))\n",
        "\n",
        "model.compile(loss='binary_crossentropy', optimizer='sgd', metrics=['accuracy'])\n",
        "\n",
        "valid_accuracy=[]\n",
        "train_accuracy=[]\n",
        "\n",
        "for epochs in [50]:\n",
        "  history = model.fit(X_train, y_train, epochs=epochs, verbose=1, batch_size=64, validation_data= (X_val, y_val))\n",
        "  valid_accuracy.append(model.evaluate(X_val, y_val))\n",
        "  train_accuracy.append(model.evaluate(X_train, y_train))\n",
        "\n",
        "\n",
        "# Accuracy and Loss of ANN\n",
        "train_loss = history.history['loss']\n",
        "valid_loss   = history.history['val_loss']\n",
        "train_accuracy  = history.history['accuracy']\n",
        "valid_accuracy = history.history['val_accuracy']"
      ],
      "metadata": {
        "colab": {
          "base_uri": "https://localhost:8080/"
        },
        "id": "HfD2fn6Y5aSi",
        "outputId": "9825173d-67c5-47ed-9188-cd0869225f84"
      },
      "execution_count": null,
      "outputs": [
        {
          "output_type": "stream",
          "name": "stdout",
          "text": [
            "Epoch 1/50\n",
            "410/410 [==============================] - 6s 13ms/step - loss: 0.6932 - accuracy: 0.4977 - val_loss: 0.6932 - val_accuracy: 0.4951\n",
            "Epoch 2/50\n",
            "410/410 [==============================] - 5s 12ms/step - loss: 0.6932 - accuracy: 0.4968 - val_loss: 0.6932 - val_accuracy: 0.5029\n",
            "Epoch 3/50\n",
            "410/410 [==============================] - 5s 12ms/step - loss: 0.6932 - accuracy: 0.4911 - val_loss: 0.6932 - val_accuracy: 0.5027\n",
            "Epoch 4/50\n",
            "410/410 [==============================] - 5s 12ms/step - loss: 0.6932 - accuracy: 0.4907 - val_loss: 0.6932 - val_accuracy: 0.5019\n",
            "Epoch 5/50\n",
            "410/410 [==============================] - 5s 13ms/step - loss: 0.6932 - accuracy: 0.4911 - val_loss: 0.6932 - val_accuracy: 0.5014\n",
            "Epoch 6/50\n",
            "410/410 [==============================] - 5s 12ms/step - loss: 0.6932 - accuracy: 0.4966 - val_loss: 0.6931 - val_accuracy: 0.5028\n",
            "Epoch 7/50\n",
            "410/410 [==============================] - 5s 13ms/step - loss: 0.6932 - accuracy: 0.5015 - val_loss: 0.6931 - val_accuracy: 0.5028\n",
            "Epoch 8/50\n",
            "410/410 [==============================] - 6s 14ms/step - loss: 0.6932 - accuracy: 0.4987 - val_loss: 0.6931 - val_accuracy: 0.5028\n",
            "Epoch 9/50\n",
            "410/410 [==============================] - 5s 13ms/step - loss: 0.6931 - accuracy: 0.5019 - val_loss: 0.6931 - val_accuracy: 0.4972\n",
            "Epoch 10/50\n",
            "410/410 [==============================] - 7s 17ms/step - loss: 0.6932 - accuracy: 0.4972 - val_loss: 0.6931 - val_accuracy: 0.4972\n",
            "Epoch 11/50\n",
            "410/410 [==============================] - 6s 15ms/step - loss: 0.6931 - accuracy: 0.5017 - val_loss: 0.6931 - val_accuracy: 0.4972\n",
            "Epoch 12/50\n",
            "410/410 [==============================] - 6s 15ms/step - loss: 0.6931 - accuracy: 0.5016 - val_loss: 0.6931 - val_accuracy: 0.4972\n",
            "Epoch 13/50\n",
            "410/410 [==============================] - 6s 15ms/step - loss: 0.6931 - accuracy: 0.5022 - val_loss: 0.6931 - val_accuracy: 0.5799\n",
            "Epoch 14/50\n",
            "410/410 [==============================] - 6s 14ms/step - loss: 0.6931 - accuracy: 0.5073 - val_loss: 0.6931 - val_accuracy: 0.5356\n",
            "Epoch 15/50\n",
            "410/410 [==============================] - 7s 18ms/step - loss: 0.6931 - accuracy: 0.5014 - val_loss: 0.6931 - val_accuracy: 0.4972\n",
            "Epoch 16/50\n",
            "410/410 [==============================] - 7s 17ms/step - loss: 0.6931 - accuracy: 0.5026 - val_loss: 0.6931 - val_accuracy: 0.5028\n",
            "Epoch 17/50\n",
            "410/410 [==============================] - 7s 17ms/step - loss: 0.6931 - accuracy: 0.5073 - val_loss: 0.6931 - val_accuracy: 0.4977\n",
            "Epoch 18/50\n",
            "410/410 [==============================] - 6s 15ms/step - loss: 0.6931 - accuracy: 0.5082 - val_loss: 0.6931 - val_accuracy: 0.4972\n",
            "Epoch 19/50\n",
            "410/410 [==============================] - 6s 14ms/step - loss: 0.6931 - accuracy: 0.5042 - val_loss: 0.6931 - val_accuracy: 0.5240\n",
            "Epoch 20/50\n",
            "410/410 [==============================] - 6s 15ms/step - loss: 0.6931 - accuracy: 0.5150 - val_loss: 0.6931 - val_accuracy: 0.5028\n",
            "Epoch 21/50\n",
            "410/410 [==============================] - 6s 15ms/step - loss: 0.6931 - accuracy: 0.5095 - val_loss: 0.6931 - val_accuracy: 0.5074\n",
            "Epoch 22/50\n",
            "410/410 [==============================] - 5s 13ms/step - loss: 0.6931 - accuracy: 0.5097 - val_loss: 0.6931 - val_accuracy: 0.4972\n",
            "Epoch 23/50\n",
            "410/410 [==============================] - 6s 13ms/step - loss: 0.6931 - accuracy: 0.5041 - val_loss: 0.6931 - val_accuracy: 0.5028\n",
            "Epoch 24/50\n",
            "410/410 [==============================] - 6s 13ms/step - loss: 0.6931 - accuracy: 0.5029 - val_loss: 0.6931 - val_accuracy: 0.4993\n",
            "Epoch 25/50\n",
            "410/410 [==============================] - 6s 13ms/step - loss: 0.6931 - accuracy: 0.5114 - val_loss: 0.6931 - val_accuracy: 0.5104\n",
            "Epoch 26/50\n",
            "410/410 [==============================] - 8s 20ms/step - loss: 0.6931 - accuracy: 0.5100 - val_loss: 0.6930 - val_accuracy: 0.5028\n",
            "Epoch 27/50\n",
            "410/410 [==============================] - 5s 13ms/step - loss: 0.6931 - accuracy: 0.5092 - val_loss: 0.6930 - val_accuracy: 0.6353\n",
            "Epoch 28/50\n",
            "410/410 [==============================] - 7s 17ms/step - loss: 0.6931 - accuracy: 0.5294 - val_loss: 0.6930 - val_accuracy: 0.5078\n",
            "Epoch 29/50\n",
            "410/410 [==============================] - 6s 14ms/step - loss: 0.6931 - accuracy: 0.5083 - val_loss: 0.6930 - val_accuracy: 0.5110\n",
            "Epoch 30/50\n",
            "410/410 [==============================] - 5s 13ms/step - loss: 0.6931 - accuracy: 0.5117 - val_loss: 0.6930 - val_accuracy: 0.5339\n",
            "Epoch 31/50\n",
            "410/410 [==============================] - 6s 14ms/step - loss: 0.6931 - accuracy: 0.5188 - val_loss: 0.6930 - val_accuracy: 0.5028\n",
            "Epoch 32/50\n",
            "410/410 [==============================] - 6s 14ms/step - loss: 0.6930 - accuracy: 0.5073 - val_loss: 0.6930 - val_accuracy: 0.5028\n",
            "Epoch 33/50\n",
            "410/410 [==============================] - 6s 14ms/step - loss: 0.6930 - accuracy: 0.5084 - val_loss: 0.6930 - val_accuracy: 0.5028\n",
            "Epoch 34/50\n",
            "410/410 [==============================] - 7s 17ms/step - loss: 0.6930 - accuracy: 0.5065 - val_loss: 0.6930 - val_accuracy: 0.5780\n",
            "Epoch 35/50\n",
            "410/410 [==============================] - 6s 14ms/step - loss: 0.6930 - accuracy: 0.5095 - val_loss: 0.6930 - val_accuracy: 0.4972\n",
            "Epoch 36/50\n",
            "410/410 [==============================] - 7s 16ms/step - loss: 0.6930 - accuracy: 0.5057 - val_loss: 0.6930 - val_accuracy: 0.4972\n",
            "Epoch 37/50\n",
            "410/410 [==============================] - 6s 13ms/step - loss: 0.6930 - accuracy: 0.5064 - val_loss: 0.6930 - val_accuracy: 0.5028\n",
            "Epoch 38/50\n",
            "410/410 [==============================] - 6s 13ms/step - loss: 0.6930 - accuracy: 0.5154 - val_loss: 0.6930 - val_accuracy: 0.5051\n",
            "Epoch 39/50\n",
            "410/410 [==============================] - 7s 18ms/step - loss: 0.6930 - accuracy: 0.5057 - val_loss: 0.6930 - val_accuracy: 0.5027\n",
            "Epoch 40/50\n",
            "410/410 [==============================] - 6s 14ms/step - loss: 0.6930 - accuracy: 0.5178 - val_loss: 0.6930 - val_accuracy: 0.5066\n",
            "Epoch 41/50\n",
            "410/410 [==============================] - 6s 14ms/step - loss: 0.6930 - accuracy: 0.5149 - val_loss: 0.6929 - val_accuracy: 0.5049\n",
            "Epoch 42/50\n",
            "410/410 [==============================] - 6s 16ms/step - loss: 0.6930 - accuracy: 0.5194 - val_loss: 0.6929 - val_accuracy: 0.5276\n",
            "Epoch 43/50\n",
            "410/410 [==============================] - 6s 14ms/step - loss: 0.6930 - accuracy: 0.5226 - val_loss: 0.6929 - val_accuracy: 0.5028\n",
            "Epoch 44/50\n",
            "410/410 [==============================] - 5s 13ms/step - loss: 0.6930 - accuracy: 0.5116 - val_loss: 0.6929 - val_accuracy: 0.5074\n",
            "Epoch 45/50\n",
            "410/410 [==============================] - 6s 14ms/step - loss: 0.6930 - accuracy: 0.5445 - val_loss: 0.6929 - val_accuracy: 0.5086\n",
            "Epoch 46/50\n",
            "410/410 [==============================] - 6s 14ms/step - loss: 0.6930 - accuracy: 0.5387 - val_loss: 0.6929 - val_accuracy: 0.5077\n",
            "Epoch 47/50\n",
            "410/410 [==============================] - 6s 14ms/step - loss: 0.6929 - accuracy: 0.5340 - val_loss: 0.6929 - val_accuracy: 0.6126\n",
            "Epoch 48/50\n",
            "410/410 [==============================] - 7s 18ms/step - loss: 0.6929 - accuracy: 0.5326 - val_loss: 0.6929 - val_accuracy: 0.5050\n",
            "Epoch 49/50\n",
            "410/410 [==============================] - 6s 14ms/step - loss: 0.6929 - accuracy: 0.5515 - val_loss: 0.6929 - val_accuracy: 0.5994\n",
            "Epoch 50/50\n",
            "410/410 [==============================] - 6s 14ms/step - loss: 0.6929 - accuracy: 0.5229 - val_loss: 0.6929 - val_accuracy: 0.5028\n",
            "574/574 [==============================] - 4s 7ms/step - loss: 0.6929 - accuracy: 0.5028\n",
            "820/820 [==============================] - 4s 5ms/step - loss: 0.6929 - accuracy: 0.5004\n"
          ]
        }
      ]
    },
    {
      "cell_type": "markdown",
      "source": [
        "## Under-Sampling"
      ],
      "metadata": {
        "id": "eAbQCzA40c56"
      }
    },
    {
      "cell_type": "markdown",
      "source": [
        "The other techniques for creating a balanced dataset is undersampling the majority class. This technique samples exactly same number of points from majority class as there are in minority class. This creates a more generalization of majority class and may run a risk of model underfitting on the dataset."
      ],
      "metadata": {
        "id": "FIZdlY_AVPkq"
      }
    },
    {
      "cell_type": "code",
      "source": [
        "from sklearn.utils import resample\n",
        "Train_Undersample = Train_Balance[Train_Balance.Target == 0]\n",
        "Train_Minority = Train_Balance[Train_Balance.Target == 1]\n",
        "Train_Undersample = resample(Train_Undersample, replace=False, \n",
        "                             n_samples=len(Train_Balance[Train_Balance.Target == 1]), \n",
        "                             random_state=18)\n",
        "Train_Undersample = pd.concat([Train_Undersample, Train_Minority])\n",
        "print('Original dataset shape:', Counter(Train_Balance.iloc[:, -1]))\n",
        "print('Resampled dataset shape:', Counter(Train_Undersample.iloc[:, -1]))"
      ],
      "metadata": {
        "colab": {
          "base_uri": "https://localhost:8080/"
        },
        "id": "ywZY0tL20h26",
        "outputId": "cf2f4a46-e591-4ba1-a2c3-5d8a40036652"
      },
      "execution_count": null,
      "outputs": [
        {
          "output_type": "stream",
          "name": "stdout",
          "text": [
            "Original dataset shape: Counter({0: 18738, 1: 5262})\n",
            "Resampled dataset shape: Counter({0: 5262, 1: 5262})\n"
          ]
        }
      ]
    },
    {
      "cell_type": "code",
      "source": [
        "lr_Train_Undersample = np.array(Train_Undersample, dtype=np.float64)\n",
        "\n",
        "lr = LogisticRegression(train = lr_Train_Undersample, test = Test, epsilon=0, \n",
        "                        learningRate=0.1e-5, maxIteration=4000)\n",
        "lr.fit()"
      ],
      "metadata": {
        "colab": {
          "base_uri": "https://localhost:8080/",
          "height": 299
        },
        "id": "rB_eCKL-3FDH",
        "outputId": "e45ed448-8bf3-411a-e66a-4132d59855c0"
      },
      "execution_count": null,
      "outputs": [
        {
          "output_type": "stream",
          "name": "stderr",
          "text": [
            "100%|██████████| 4000/4000 [00:08<00:00, 474.10it/s]\n"
          ]
        },
        {
          "output_type": "display_data",
          "data": {
            "text/plain": [
              "<Figure size 432x288 with 1 Axes>"
            ],
            "image/png": "[encoded data removed]"
          },
          "metadata": {
            "needs_background": "light"
          }
        }
      ]
    },
    {
      "cell_type": "code",
      "source": [
        "#@title SVM For Under-Sampled Data { vertical-output: true }\n",
        "\n",
        "\n",
        "class maxMarginClassifier:\n",
        "\n",
        "      def __init__(self, C, train, test):\n",
        "          self.C = C\n",
        "          self.train = train\n",
        "          self.test = test\n",
        "\n",
        "      def dataReader(self):\n",
        "\n",
        "        train_df = self.train\n",
        "        test_df = self.test\n",
        "\n",
        "        train_X, train_y = train_df.iloc[:, :-1], train_df.iloc[:, -1]\n",
        "        test_X, test_y = test_df.iloc[:, :-1], test_df.iloc[:, -1]\n",
        "        train_y = train_y.replace(0, -1)\n",
        "\n",
        "        train_X = train_X.sample(frac = 0.03, replace = False, \n",
        "                                 random_state = 18).to_numpy()\n",
        "        train_y = train_y.sample(frac = 0.03, replace = False,\n",
        "                                 random_state = 18).to_numpy()\n",
        "\n",
        "\n",
        "        return train_X, test_X, train_y, test_y\n",
        "\n",
        "      def fit(self):\n",
        "\n",
        "          self.train_X, self.test_X, self.train_y, self.test_y = self.dataReader()\n",
        "          N = len(self.train_y)\n",
        "          Xy = self.train_X*self.train_y[:, np.newaxis]\n",
        "          GramXy = np.matmul(Xy, Xy.T)\n",
        "\n",
        "          def Ld0(G, alpha):\n",
        "              obj_fn = alpha.sum() - 0.5*alpha.dot(alpha.dot(G))\n",
        "              return obj_fn \n",
        "          def partialDerivativeLd0(G, alpha):\n",
        "              par_der = np.ones_like(alpha) - alpha.dot(G)\n",
        "              return par_der\n",
        "          \n",
        "          A = np.vstack((-np.eye(N), np.eye(N)))\n",
        "          b = concatenate((np.zeros(N), self.C*np.ones(N)))\n",
        "          constraints = ({'type': 'eq', 'fun': lambda a:np.dot(a, self.train_y), 'jac': lambda a: self.train_y},\n",
        "                         {'type': 'ineq', 'fun': lambda a: b - np.dot(A, a), 'jac': lambda a: -A})\n",
        "          \n",
        "          alpha = np.ones(N)\n",
        "          optRes = optimize.minimize(fun = lambda a: -Ld0(GramXy, a),\n",
        "                                     x0 = alpha,\n",
        "                                     method = 'SLSQP',\n",
        "                                     jac = lambda a: -partialDerivativeLd0(GramXy, a),\n",
        "                                     constraints=constraints)\n",
        "          \n",
        "          self.alpha = optRes.x\n",
        "          self.w = np.sum(self.alpha[:, np.newaxis]*Xy, axis = 0)\n",
        "\n",
        "          epsilon = 1e-4\n",
        "          self.supportVectors = self.train_X[self.alpha > epsilon]\n",
        "          self.supportLabels = self.train_y[self.alpha > epsilon]\n",
        "\n",
        "          b = []\n",
        "          for i in range(len(self.supportLabels)):\n",
        "              b_i = self.supportLabels[i] - np.matmul(self.supportVectors[i].T, self.w)\n",
        "              b.append(b_i)\n",
        "\n",
        "          self.intercept = sum(b)/len(b)\n",
        "          pred = self.predict(self.test_X)\n",
        "          pred = pred.replace(-1, 0)\n",
        "          actual = self.test_y\n",
        "          print('Accuracy is ', metrics.accuracy_score(pred, actual))\n",
        "          print('Confusion Matrix is \\n', metrics.confusion_matrix(actual, pred))\n",
        "          print('F1 Score is ', metrics.f1_score(actual, pred))\n",
        "          print('Precision is ', metrics.precision_score(actual, pred))\n",
        "          print('Recall is ', metrics.recall_score(actual, pred))\n",
        "\n",
        "      def predict(self, X):\n",
        "          return 2*(np.matmul(X, self.w) + self.intercept > 0) - 1"
      ],
      "metadata": {
        "cellView": "form",
        "id": "n7MFlKSl5_Zq"
      },
      "execution_count": null,
      "outputs": []
    },
    {
      "cell_type": "code",
      "source": [
        "model = maxMarginClassifier(C = 5, train = Train_Undersample, test = Test_SVM)\n",
        "model.fit()"
      ],
      "metadata": {
        "colab": {
          "base_uri": "https://localhost:8080/"
        },
        "id": "NpZO0o1h5yYH",
        "outputId": "2052c04d-c831-46a6-b198-708e9c55dfee"
      },
      "execution_count": null,
      "outputs": [
        {
          "output_type": "stream",
          "name": "stdout",
          "text": [
            "Accuracy is  0.7311666666666666\n",
            "Confusion Matrix is \n",
            " [[3623 1003]\n",
            " [ 610  764]]\n",
            "F1 Score is  0.4864692773002228\n",
            "Precision is  0.43237125070741367\n",
            "Recall is  0.5560407569141194\n"
          ]
        }
      ]
    },
    {
      "cell_type": "code",
      "source": [
        "ksvm = kernelMaxMarginClassifier(C=5, train=Train_Undersample, test=Test_SVM, kernel=GRBF)\n",
        "ksvm.fit()"
      ],
      "metadata": {
        "colab": {
          "base_uri": "https://localhost:8080/"
        },
        "id": "r8_z12gu32ya",
        "outputId": "c0ecfbb1-780b-45e3-e6e5-8deb2cdb46f9"
      },
      "execution_count": null,
      "outputs": [
        {
          "output_type": "stream",
          "name": "stdout",
          "text": [
            "Accuracy is  0.6653333333333333\n",
            "Confusion Matrix is \n",
            " [[3378 1248]\n",
            " [ 760  614]]\n",
            "F1 Score is  0.3794808405438813\n",
            "Precision is  0.3297529538131042\n",
            "Recall is  0.4468704512372635\n"
          ]
        }
      ]
    },
    {
      "cell_type": "code",
      "source": [
        "gnb = GaussianNaiveBayes(train = Train_Undersample, test = Test)\n",
        "gnb.fit()"
      ],
      "metadata": {
        "colab": {
          "base_uri": "https://localhost:8080/"
        },
        "id": "hMjcWMh1Q9PC",
        "outputId": "c6ecdbb2-12a4-4178-ad98-cd54840cb157"
      },
      "execution_count": null,
      "outputs": [
        {
          "output_type": "stream",
          "name": "stdout",
          "text": [
            "Accuracy is  0.6755\n",
            "Confusion Matrix is \n",
            " [[3235 1391]\n",
            " [ 556  818]]\n",
            "F1 Score is  0.4566006140106056\n",
            "Precision is  0.3703033046627433\n",
            "Recall is  0.5953420669577875\n"
          ]
        }
      ]
    },
    {
      "cell_type": "code",
      "source": [
        "#@title Neural Networks { run: \"auto\" }\n",
        "\n",
        "\n",
        "X_train, X_test, y_train, y_test= train_test_split(Train_Undersample.iloc[:, :-1],\n",
        "                                                   Train_Undersample.iloc[:, -1],\n",
        "                                                   test_size=0.3)\n",
        "X_val, X_test, y_val, y_test= train_test_split(X_train,y_train,test_size=0.3)\n",
        "\n",
        "\n",
        "model = Sequential()\n",
        "# Layers\n",
        "\n",
        "model.add(Dense(units=512, activation='sigmoid', input_dim=X.shape[1]))\n",
        "model.add(Dense(units=128, activation='relu'))\n",
        "model.add(Dense(units=624, activation='sigmoid'))\n",
        "model.add(Dense(units=256, activation='relu'))\n",
        "model.add(Dense(units=128, activation='relu'))\n",
        "model.add(Dense(units=32, activation='softmax'))\n",
        "model.add(Dense(units=1, activation='sigmoid'))\n",
        "\n",
        "model.compile(loss='binary_crossentropy', optimizer='sgd', metrics=['accuracy'])\n",
        "\n",
        "valid_accuracy=[]\n",
        "train_accuracy=[]\n",
        "\n",
        "for epochs in [50]:\n",
        "  history = model.fit(X_train, y_train, epochs=epochs, verbose=1, batch_size=64, validation_data= (X_val, y_val))\n",
        "  valid_accuracy.append(model.evaluate(X_val, y_val))\n",
        "  train_accuracy.append(model.evaluate(X_train, y_train))\n",
        "\n",
        "\n",
        "# Accuracy and Loss of ANN\n",
        "train_loss = history.history['loss']\n",
        "valid_loss   = history.history['val_loss']\n",
        "train_accuracy  = history.history['accuracy']\n",
        "valid_accuracy = history.history['val_accuracy']\n"
      ],
      "metadata": {
        "colab": {
          "base_uri": "https://localhost:8080/"
        },
        "id": "BJ1__Uon550V",
        "outputId": "a18789cf-5f8d-488f-9004-4a2b2752ce27"
      },
      "execution_count": null,
      "outputs": [
        {
          "output_type": "stream",
          "name": "stdout",
          "text": [
            "Epoch 1/50\n",
            "116/116 [==============================] - 2s 13ms/step - loss: 0.6933 - accuracy: 0.4758 - val_loss: 0.6932 - val_accuracy: 0.5017\n",
            "Epoch 2/50\n",
            "116/116 [==============================] - 1s 12ms/step - loss: 0.6932 - accuracy: 0.5053 - val_loss: 0.6931 - val_accuracy: 0.5149\n",
            "Epoch 3/50\n",
            "116/116 [==============================] - 1s 12ms/step - loss: 0.6932 - accuracy: 0.5043 - val_loss: 0.6930 - val_accuracy: 0.5149\n",
            "Epoch 4/50\n",
            "116/116 [==============================] - 2s 15ms/step - loss: 0.6931 - accuracy: 0.5069 - val_loss: 0.6930 - val_accuracy: 0.5149\n",
            "Epoch 5/50\n",
            "116/116 [==============================] - 2s 14ms/step - loss: 0.6931 - accuracy: 0.5069 - val_loss: 0.6929 - val_accuracy: 0.5149\n",
            "Epoch 6/50\n",
            "116/116 [==============================] - 1s 12ms/step - loss: 0.6931 - accuracy: 0.5069 - val_loss: 0.6929 - val_accuracy: 0.5149\n",
            "Epoch 7/50\n",
            "116/116 [==============================] - 1s 12ms/step - loss: 0.6931 - accuracy: 0.5069 - val_loss: 0.6928 - val_accuracy: 0.5149\n",
            "Epoch 8/50\n",
            "116/116 [==============================] - 1s 12ms/step - loss: 0.6931 - accuracy: 0.5069 - val_loss: 0.6929 - val_accuracy: 0.5149\n",
            "Epoch 9/50\n",
            "116/116 [==============================] - 2s 15ms/step - loss: 0.6931 - accuracy: 0.5069 - val_loss: 0.6928 - val_accuracy: 0.5149\n",
            "Epoch 10/50\n",
            "116/116 [==============================] - 1s 12ms/step - loss: 0.6931 - accuracy: 0.5069 - val_loss: 0.6929 - val_accuracy: 0.5149\n",
            "Epoch 11/50\n",
            "116/116 [==============================] - 1s 12ms/step - loss: 0.6931 - accuracy: 0.5069 - val_loss: 0.6928 - val_accuracy: 0.5149\n",
            "Epoch 12/50\n",
            "116/116 [==============================] - 1s 12ms/step - loss: 0.6931 - accuracy: 0.5069 - val_loss: 0.6928 - val_accuracy: 0.5149\n",
            "Epoch 13/50\n",
            "116/116 [==============================] - 1s 12ms/step - loss: 0.6931 - accuracy: 0.5069 - val_loss: 0.6928 - val_accuracy: 0.5149\n",
            "Epoch 14/50\n",
            "116/116 [==============================] - 1s 12ms/step - loss: 0.6931 - accuracy: 0.5069 - val_loss: 0.6928 - val_accuracy: 0.5149\n",
            "Epoch 15/50\n",
            "116/116 [==============================] - 1s 12ms/step - loss: 0.6931 - accuracy: 0.5069 - val_loss: 0.6929 - val_accuracy: 0.5149\n",
            "Epoch 16/50\n",
            "116/116 [==============================] - 1s 12ms/step - loss: 0.6931 - accuracy: 0.5069 - val_loss: 0.6929 - val_accuracy: 0.5149\n",
            "Epoch 17/50\n",
            "116/116 [==============================] - 1s 12ms/step - loss: 0.6931 - accuracy: 0.5069 - val_loss: 0.6929 - val_accuracy: 0.5149\n",
            "Epoch 18/50\n",
            "116/116 [==============================] - 1s 12ms/step - loss: 0.6931 - accuracy: 0.5069 - val_loss: 0.6929 - val_accuracy: 0.5149\n",
            "Epoch 19/50\n",
            "116/116 [==============================] - 1s 12ms/step - loss: 0.6931 - accuracy: 0.5069 - val_loss: 0.6929 - val_accuracy: 0.5149\n",
            "Epoch 20/50\n",
            "116/116 [==============================] - 1s 12ms/step - loss: 0.6931 - accuracy: 0.5069 - val_loss: 0.6929 - val_accuracy: 0.5149\n",
            "Epoch 21/50\n",
            "116/116 [==============================] - 1s 12ms/step - loss: 0.6931 - accuracy: 0.5069 - val_loss: 0.6929 - val_accuracy: 0.5149\n",
            "Epoch 22/50\n",
            "116/116 [==============================] - 1s 11ms/step - loss: 0.6931 - accuracy: 0.5069 - val_loss: 0.6928 - val_accuracy: 0.5149\n",
            "Epoch 23/50\n",
            "116/116 [==============================] - 2s 15ms/step - loss: 0.6931 - accuracy: 0.5069 - val_loss: 0.6928 - val_accuracy: 0.5149\n",
            "Epoch 24/50\n",
            "116/116 [==============================] - 1s 12ms/step - loss: 0.6931 - accuracy: 0.5069 - val_loss: 0.6928 - val_accuracy: 0.5149\n",
            "Epoch 25/50\n",
            "116/116 [==============================] - 1s 12ms/step - loss: 0.6931 - accuracy: 0.5069 - val_loss: 0.6928 - val_accuracy: 0.5149\n",
            "Epoch 26/50\n",
            "116/116 [==============================] - 1s 11ms/step - loss: 0.6931 - accuracy: 0.5069 - val_loss: 0.6928 - val_accuracy: 0.5149\n",
            "Epoch 27/50\n",
            "116/116 [==============================] - 1s 12ms/step - loss: 0.6931 - accuracy: 0.5069 - val_loss: 0.6929 - val_accuracy: 0.5149\n",
            "Epoch 28/50\n",
            "116/116 [==============================] - 1s 11ms/step - loss: 0.6931 - accuracy: 0.5069 - val_loss: 0.6928 - val_accuracy: 0.5149\n",
            "Epoch 29/50\n",
            "116/116 [==============================] - 1s 11ms/step - loss: 0.6931 - accuracy: 0.5069 - val_loss: 0.6928 - val_accuracy: 0.5149\n",
            "Epoch 30/50\n",
            "116/116 [==============================] - 1s 12ms/step - loss: 0.6931 - accuracy: 0.5069 - val_loss: 0.6928 - val_accuracy: 0.5149\n",
            "Epoch 31/50\n",
            "116/116 [==============================] - 1s 12ms/step - loss: 0.6931 - accuracy: 0.5069 - val_loss: 0.6928 - val_accuracy: 0.5149\n",
            "Epoch 32/50\n",
            "116/116 [==============================] - 1s 12ms/step - loss: 0.6931 - accuracy: 0.5069 - val_loss: 0.6928 - val_accuracy: 0.5149\n",
            "Epoch 33/50\n",
            "116/116 [==============================] - 2s 15ms/step - loss: 0.6931 - accuracy: 0.5069 - val_loss: 0.6928 - val_accuracy: 0.5149\n",
            "Epoch 34/50\n",
            "116/116 [==============================] - 1s 12ms/step - loss: 0.6931 - accuracy: 0.5069 - val_loss: 0.6928 - val_accuracy: 0.5149\n",
            "Epoch 35/50\n",
            "116/116 [==============================] - 1s 12ms/step - loss: 0.6931 - accuracy: 0.5069 - val_loss: 0.6928 - val_accuracy: 0.5149\n",
            "Epoch 36/50\n",
            "116/116 [==============================] - 1s 12ms/step - loss: 0.6931 - accuracy: 0.5069 - val_loss: 0.6928 - val_accuracy: 0.5149\n",
            "Epoch 37/50\n",
            "116/116 [==============================] - 1s 12ms/step - loss: 0.6931 - accuracy: 0.5069 - val_loss: 0.6928 - val_accuracy: 0.5149\n",
            "Epoch 38/50\n",
            "116/116 [==============================] - 1s 12ms/step - loss: 0.6931 - accuracy: 0.5069 - val_loss: 0.6928 - val_accuracy: 0.5149\n",
            "Epoch 39/50\n",
            "116/116 [==============================] - 1s 12ms/step - loss: 0.6931 - accuracy: 0.5069 - val_loss: 0.6928 - val_accuracy: 0.5149\n",
            "Epoch 40/50\n",
            "116/116 [==============================] - 1s 12ms/step - loss: 0.6931 - accuracy: 0.5069 - val_loss: 0.6928 - val_accuracy: 0.5149\n",
            "Epoch 41/50\n",
            "116/116 [==============================] - 1s 12ms/step - loss: 0.6930 - accuracy: 0.5069 - val_loss: 0.6928 - val_accuracy: 0.5149\n",
            "Epoch 42/50\n",
            "116/116 [==============================] - 2s 15ms/step - loss: 0.6930 - accuracy: 0.5069 - val_loss: 0.6928 - val_accuracy: 0.5149\n",
            "Epoch 43/50\n",
            "116/116 [==============================] - 1s 12ms/step - loss: 0.6930 - accuracy: 0.5069 - val_loss: 0.6928 - val_accuracy: 0.5149\n",
            "Epoch 44/50\n",
            "116/116 [==============================] - 1s 13ms/step - loss: 0.6930 - accuracy: 0.5069 - val_loss: 0.6928 - val_accuracy: 0.5149\n",
            "Epoch 45/50\n",
            "116/116 [==============================] - 2s 16ms/step - loss: 0.6931 - accuracy: 0.5069 - val_loss: 0.6928 - val_accuracy: 0.5149\n",
            "Epoch 46/50\n",
            "116/116 [==============================] - 2s 13ms/step - loss: 0.6930 - accuracy: 0.5069 - val_loss: 0.6928 - val_accuracy: 0.5149\n",
            "Epoch 47/50\n",
            "116/116 [==============================] - 1s 12ms/step - loss: 0.6930 - accuracy: 0.5069 - val_loss: 0.6928 - val_accuracy: 0.5149\n",
            "Epoch 48/50\n",
            "116/116 [==============================] - 1s 12ms/step - loss: 0.6930 - accuracy: 0.5069 - val_loss: 0.6927 - val_accuracy: 0.5149\n",
            "Epoch 49/50\n",
            "116/116 [==============================] - 1s 12ms/step - loss: 0.6930 - accuracy: 0.5069 - val_loss: 0.6928 - val_accuracy: 0.5149\n",
            "Epoch 50/50\n",
            "116/116 [==============================] - 1s 12ms/step - loss: 0.6930 - accuracy: 0.5069 - val_loss: 0.6928 - val_accuracy: 0.5149\n",
            "162/162 [==============================] - 1s 4ms/step - loss: 0.6928 - accuracy: 0.5149\n",
            "231/231 [==============================] - 1s 5ms/step - loss: 0.6930 - accuracy: 0.5069\n"
          ]
        }
      ]
    },
    {
      "cell_type": "markdown",
      "source": [
        "# Conclusion\n",
        "\n",
        "\n",
        "•\tFrom the evaluation of the ML methods, we have applied on the dataset - Logistic Regression, Support Vector Machines, Gaussian Naive Bayes and Neural Networks.\n",
        "\n",
        "•\tSVM, GNB and Neural Networks perform well in this binary classification problem. A point to be noted is the dataset is an unbalanced dataset - so ROC_AUC_score is a better metric to focus on than pure accuracy. In case where balancing techniques are used - the ROC_AUC_score and recall is significantly better than where the data is not balanced. \n",
        "\n",
        "•\tMost time was spent on understanding nuances of the features from a statistical standpoint and selecting the best ones based on evidence\n",
        "\n",
        "•\tUpscaling was important to elevate our class of interest and SMOTE does a good job\n",
        "\n",
        "•\tLogistic Regression outperforms other algorithms for our case by having high precision and recall values that are also close to each other\n",
        "\n",
        "•\tWe note that the best results were obtained when the threshold value for positive classification was over .81 .\n"
      ],
      "metadata": {
        "id": "y2M3SXs97zo_"
      }
    }
  ]
}